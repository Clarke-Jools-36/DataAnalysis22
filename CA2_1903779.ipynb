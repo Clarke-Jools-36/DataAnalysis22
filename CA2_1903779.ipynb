{
  "cells": [
    {
      "cell_type": "markdown",
      "metadata": {
        "collapsed": true,
        "id": "P9M0lwRqDjpE"
      },
      "source": [
        "##### Data Analysis - Coursework 2 (50%)\n",
        "# Analysing gravitational wave signals \n",
        "## Deadline Friday week 11, 2pm."
      ]
    },
    {
      "cell_type": "markdown",
      "metadata": {
        "id": "V94Jxt1eDjpI"
      },
      "source": [
        "#### Instructions"
      ]
    },
    {
      "cell_type": "markdown",
      "metadata": {
        "id": "UNrncsNHDjpI"
      },
      "source": [
        "This coursework assesses learning outcomes from **all Chapters** of the course, but in particular **Chapters 6, 7, 8 and 9**. It is worth 50% of the module. Please ensure you have read the [Chapter 8 Jupyter Notebook](https://github.com/haleygomez/Data-Analysis-2022/blob/master/blended_exercises/Chapter8/Chapter8.ipynb) before starting this coursework. "
      ]
    },
    {
      "cell_type": "markdown",
      "metadata": {
        "id": "3Fc5zQ2YDjpJ"
      },
      "source": [
        "**These assessments are equivalent to an exam**:\n",
        "- Submit your work via Turn-It-In on Learning Central. Note that you will need to upload your final notebook exported as a html file. **Don't forget to click `run all` before you export it**. You can constantly update this document until the deadline.\n",
        "- The breakdown of the assessment criteria is provided in Learning Central under Assessment.\n",
        "- Don't worry about how your code looks - marks are not given for pretty code, but rather for the approach used in solving the problem, your reasoning, explanation and answer.\n",
        "- Please also take note of the University’s policy on **plagiarism**, which is outlined in your student handbook."
      ]
    },
    {
      "cell_type": "markdown",
      "metadata": {
        "id": "5ex2UUwkDjpK"
      },
      "source": [
        "#### Tips\n"
      ]
    },
    {
      "cell_type": "markdown",
      "metadata": {
        "id": "Ir3yLROoDjpK"
      },
      "source": [
        "- Explain all your reasoning for each step. A *significant fraction* of the marks are given for explanations and discussion, as they evidence understanding of the analysis.  \n",
        "- Some of these steps will take a while to run and compile. It's a good idea to add in print statements to your code throughout eg `print('this step is done')` to make sure that your bit of code has finished.\n",
        "- Add the import packages statements at the top of your Jupyter notebook. We will use the `pandas` package to read in the data, with eg `dataIn=pd.read_csv('filename.csv')`.\n",
        "- You may need to do some additional research into this subject. You may find it useful to look at the following publication from the LIGO consortium. https://arxiv.org/pdf/1608.01940.pdf"
      ]
    },
    {
      "cell_type": "markdown",
      "metadata": {
        "id": "-IdHIxj_DjpK"
      },
      "source": [
        "***"
      ]
    },
    {
      "cell_type": "code",
      "source": [
        "import pandas as pd\n",
        "from matplotlib import pyplot as plt\n",
        "\n",
        "from scipy import stats\n",
        "import numpy as np"
      ],
      "metadata": {
        "id": "Jg_0pjuZD-ZJ"
      },
      "execution_count": 1,
      "outputs": []
    },
    {
      "cell_type": "markdown",
      "metadata": {
        "id": "vnj_z4D9DjpL"
      },
      "source": [
        "## Part A - Some background [15 marks]"
      ]
    },
    {
      "cell_type": "markdown",
      "metadata": {
        "id": "dtLn9M0qDjpL"
      },
      "source": [
        "**Answer:**"
      ]
    },
    {
      "cell_type": "markdown",
      "source": [
        "Scientists know that the gravitational waves from GW150914 were due to two black holes merging as the signal was identified as a binary black hole merger by matching up with simulated data from einstein theory.\n",
        "\n",
        "As the two objects spiral in on each other, they begin to gain angular momentum. At the same time they loose energy to gravitational waves. The dopler effect as the objects move towards us and away from us again casuses the signal amplitude we recieve to be sinusoidal. As the objects get closer, both the amplitude and frequency of the signal increases at an increasing rate up until the merger. At this point the GW sigfnal is at its maximum. As spacetime adjusts back to a steady state we recievce a slight short aftershock in the signal, which is about an order of magnitude fainter than the maximum signal.\n",
        "\n",
        "Download the file to my colab instance (that I have hosted on my Github, because you can't wget from LC as its behind sign in) "
      ],
      "metadata": {
        "id": "8JKcnKFxEEwx"
      }
    },
    {
      "cell_type": "code",
      "source": [
        "!wget https://raw.githubusercontent.com/Clarke-Jools-36/DataAnalysis22/main/gravitationalwaveevents.csv"
      ],
      "metadata": {
        "id": "gtBZP9GBD5D5",
        "outputId": "b0cd3902-dafb-455d-95f9-091296d31765",
        "colab": {
          "base_uri": "https://localhost:8080/"
        }
      },
      "execution_count": 2,
      "outputs": [
        {
          "output_type": "stream",
          "name": "stdout",
          "text": [
            "--2022-12-10 17:32:15--  https://raw.githubusercontent.com/Clarke-Jools-36/DataAnalysis22/main/gravitationalwaveevents.csv\n",
            "Resolving raw.githubusercontent.com (raw.githubusercontent.com)... 185.199.108.133, 185.199.109.133, 185.199.110.133, ...\n",
            "Connecting to raw.githubusercontent.com (raw.githubusercontent.com)|185.199.108.133|:443... connected.\n",
            "HTTP request sent, awaiting response... 200 OK\n",
            "Length: 1857 (1.8K) [text/plain]\n",
            "Saving to: ‘gravitationalwaveevents.csv’\n",
            "\n",
            "gravitationalwaveev 100%[===================>]   1.81K  --.-KB/s    in 0s      \n",
            "\n",
            "2022-12-10 17:32:15 (23.5 MB/s) - ‘gravitationalwaveevents.csv’ saved [1857/1857]\n",
            "\n"
          ]
        }
      ]
    },
    {
      "cell_type": "markdown",
      "source": [
        "Then i'm going to import the file and check some things about it, so the lenght of the data, the head, which is the first N values and all the headers"
      ],
      "metadata": {
        "id": "rP8zj1QVGFzd"
      }
    },
    {
      "cell_type": "code",
      "source": [
        "dataIn=pd.read_csv('/content/gravitationalwaveevents.csv')\n",
        "print(f\"#### length of data: {len(dataIn)}\\n\\n\")\n",
        "dataIn.head(8)"
      ],
      "metadata": {
        "id": "3TKD_-ZJGFD0",
        "outputId": "f6706e76-8a7b-4a87-ec99-8dafc0df996d",
        "colab": {
          "base_uri": "https://localhost:8080/",
          "height": 352
        }
      },
      "execution_count": 3,
      "outputs": [
        {
          "output_type": "stream",
          "name": "stdout",
          "text": [
            "#### length of data: 42\n",
            "\n",
            "\n"
          ]
        },
        {
          "output_type": "execute_result",
          "data": {
            "text/plain": [
              "   Unnamed: 0  idx      DL  DL_err  Mtot  Mtot_err  Mchirp  Mchirp_err\n",
              "0           0    0   430.0   170.0  63.1       3.0    28.6         1.5\n",
              "1           1    1  1060.0   480.0  35.7       3.8    15.2         1.1\n",
              "2           2    2   440.0   190.0  20.5       1.5     8.9         0.3\n",
              "3           3    3   960.0   410.0  49.1       3.9    21.5         1.7\n",
              "4           4    4   320.0   110.0  17.8       0.7     7.9         0.2\n",
              "5           5    5  2750.0  1320.0  80.3      10.2    35.7         4.7\n",
              "6           6    6   990.0   380.0  56.4       3.7    25.0         1.6\n",
              "7           7    7   580.0   210.0  53.4       2.4    24.2         1.1"
            ],
            "text/html": [
              "\n",
              "  <div id=\"df-c922a04a-6f8c-4f61-985c-761dd50ca8df\">\n",
              "    <div class=\"colab-df-container\">\n",
              "      <div>\n",
              "<style scoped>\n",
              "    .dataframe tbody tr th:only-of-type {\n",
              "        vertical-align: middle;\n",
              "    }\n",
              "\n",
              "    .dataframe tbody tr th {\n",
              "        vertical-align: top;\n",
              "    }\n",
              "\n",
              "    .dataframe thead th {\n",
              "        text-align: right;\n",
              "    }\n",
              "</style>\n",
              "<table border=\"1\" class=\"dataframe\">\n",
              "  <thead>\n",
              "    <tr style=\"text-align: right;\">\n",
              "      <th></th>\n",
              "      <th>Unnamed: 0</th>\n",
              "      <th>idx</th>\n",
              "      <th>DL</th>\n",
              "      <th>DL_err</th>\n",
              "      <th>Mtot</th>\n",
              "      <th>Mtot_err</th>\n",
              "      <th>Mchirp</th>\n",
              "      <th>Mchirp_err</th>\n",
              "    </tr>\n",
              "  </thead>\n",
              "  <tbody>\n",
              "    <tr>\n",
              "      <th>0</th>\n",
              "      <td>0</td>\n",
              "      <td>0</td>\n",
              "      <td>430.0</td>\n",
              "      <td>170.0</td>\n",
              "      <td>63.1</td>\n",
              "      <td>3.0</td>\n",
              "      <td>28.6</td>\n",
              "      <td>1.5</td>\n",
              "    </tr>\n",
              "    <tr>\n",
              "      <th>1</th>\n",
              "      <td>1</td>\n",
              "      <td>1</td>\n",
              "      <td>1060.0</td>\n",
              "      <td>480.0</td>\n",
              "      <td>35.7</td>\n",
              "      <td>3.8</td>\n",
              "      <td>15.2</td>\n",
              "      <td>1.1</td>\n",
              "    </tr>\n",
              "    <tr>\n",
              "      <th>2</th>\n",
              "      <td>2</td>\n",
              "      <td>2</td>\n",
              "      <td>440.0</td>\n",
              "      <td>190.0</td>\n",
              "      <td>20.5</td>\n",
              "      <td>1.5</td>\n",
              "      <td>8.9</td>\n",
              "      <td>0.3</td>\n",
              "    </tr>\n",
              "    <tr>\n",
              "      <th>3</th>\n",
              "      <td>3</td>\n",
              "      <td>3</td>\n",
              "      <td>960.0</td>\n",
              "      <td>410.0</td>\n",
              "      <td>49.1</td>\n",
              "      <td>3.9</td>\n",
              "      <td>21.5</td>\n",
              "      <td>1.7</td>\n",
              "    </tr>\n",
              "    <tr>\n",
              "      <th>4</th>\n",
              "      <td>4</td>\n",
              "      <td>4</td>\n",
              "      <td>320.0</td>\n",
              "      <td>110.0</td>\n",
              "      <td>17.8</td>\n",
              "      <td>0.7</td>\n",
              "      <td>7.9</td>\n",
              "      <td>0.2</td>\n",
              "    </tr>\n",
              "    <tr>\n",
              "      <th>5</th>\n",
              "      <td>5</td>\n",
              "      <td>5</td>\n",
              "      <td>2750.0</td>\n",
              "      <td>1320.0</td>\n",
              "      <td>80.3</td>\n",
              "      <td>10.2</td>\n",
              "      <td>35.7</td>\n",
              "      <td>4.7</td>\n",
              "    </tr>\n",
              "    <tr>\n",
              "      <th>6</th>\n",
              "      <td>6</td>\n",
              "      <td>6</td>\n",
              "      <td>990.0</td>\n",
              "      <td>380.0</td>\n",
              "      <td>56.4</td>\n",
              "      <td>3.7</td>\n",
              "      <td>25.0</td>\n",
              "      <td>1.6</td>\n",
              "    </tr>\n",
              "    <tr>\n",
              "      <th>7</th>\n",
              "      <td>7</td>\n",
              "      <td>7</td>\n",
              "      <td>580.0</td>\n",
              "      <td>210.0</td>\n",
              "      <td>53.4</td>\n",
              "      <td>2.4</td>\n",
              "      <td>24.2</td>\n",
              "      <td>1.1</td>\n",
              "    </tr>\n",
              "  </tbody>\n",
              "</table>\n",
              "</div>\n",
              "      <button class=\"colab-df-convert\" onclick=\"convertToInteractive('df-c922a04a-6f8c-4f61-985c-761dd50ca8df')\"\n",
              "              title=\"Convert this dataframe to an interactive table.\"\n",
              "              style=\"display:none;\">\n",
              "        \n",
              "  <svg xmlns=\"http://www.w3.org/2000/svg\" height=\"24px\"viewBox=\"0 0 24 24\"\n",
              "       width=\"24px\">\n",
              "    <path d=\"M0 0h24v24H0V0z\" fill=\"none\"/>\n",
              "    <path d=\"M18.56 5.44l.94 2.06.94-2.06 2.06-.94-2.06-.94-.94-2.06-.94 2.06-2.06.94zm-11 1L8.5 8.5l.94-2.06 2.06-.94-2.06-.94L8.5 2.5l-.94 2.06-2.06.94zm10 10l.94 2.06.94-2.06 2.06-.94-2.06-.94-.94-2.06-.94 2.06-2.06.94z\"/><path d=\"M17.41 7.96l-1.37-1.37c-.4-.4-.92-.59-1.43-.59-.52 0-1.04.2-1.43.59L10.3 9.45l-7.72 7.72c-.78.78-.78 2.05 0 2.83L4 21.41c.39.39.9.59 1.41.59.51 0 1.02-.2 1.41-.59l7.78-7.78 2.81-2.81c.8-.78.8-2.07 0-2.86zM5.41 20L4 18.59l7.72-7.72 1.47 1.35L5.41 20z\"/>\n",
              "  </svg>\n",
              "      </button>\n",
              "      \n",
              "  <style>\n",
              "    .colab-df-container {\n",
              "      display:flex;\n",
              "      flex-wrap:wrap;\n",
              "      gap: 12px;\n",
              "    }\n",
              "\n",
              "    .colab-df-convert {\n",
              "      background-color: #E8F0FE;\n",
              "      border: none;\n",
              "      border-radius: 50%;\n",
              "      cursor: pointer;\n",
              "      display: none;\n",
              "      fill: #1967D2;\n",
              "      height: 32px;\n",
              "      padding: 0 0 0 0;\n",
              "      width: 32px;\n",
              "    }\n",
              "\n",
              "    .colab-df-convert:hover {\n",
              "      background-color: #E2EBFA;\n",
              "      box-shadow: 0px 1px 2px rgba(60, 64, 67, 0.3), 0px 1px 3px 1px rgba(60, 64, 67, 0.15);\n",
              "      fill: #174EA6;\n",
              "    }\n",
              "\n",
              "    [theme=dark] .colab-df-convert {\n",
              "      background-color: #3B4455;\n",
              "      fill: #D2E3FC;\n",
              "    }\n",
              "\n",
              "    [theme=dark] .colab-df-convert:hover {\n",
              "      background-color: #434B5C;\n",
              "      box-shadow: 0px 1px 3px 1px rgba(0, 0, 0, 0.15);\n",
              "      filter: drop-shadow(0px 1px 2px rgba(0, 0, 0, 0.3));\n",
              "      fill: #FFFFFF;\n",
              "    }\n",
              "  </style>\n",
              "\n",
              "      <script>\n",
              "        const buttonEl =\n",
              "          document.querySelector('#df-c922a04a-6f8c-4f61-985c-761dd50ca8df button.colab-df-convert');\n",
              "        buttonEl.style.display =\n",
              "          google.colab.kernel.accessAllowed ? 'block' : 'none';\n",
              "\n",
              "        async function convertToInteractive(key) {\n",
              "          const element = document.querySelector('#df-c922a04a-6f8c-4f61-985c-761dd50ca8df');\n",
              "          const dataTable =\n",
              "            await google.colab.kernel.invokeFunction('convertToInteractive',\n",
              "                                                     [key], {});\n",
              "          if (!dataTable) return;\n",
              "\n",
              "          const docLinkHtml = 'Like what you see? Visit the ' +\n",
              "            '<a target=\"_blank\" href=https://colab.research.google.com/notebooks/data_table.ipynb>data table notebook</a>'\n",
              "            + ' to learn more about interactive tables.';\n",
              "          element.innerHTML = '';\n",
              "          dataTable['output_type'] = 'display_data';\n",
              "          await google.colab.output.renderOutput(dataTable, element);\n",
              "          const docLink = document.createElement('div');\n",
              "          docLink.innerHTML = docLinkHtml;\n",
              "          element.appendChild(docLink);\n",
              "        }\n",
              "      </script>\n",
              "    </div>\n",
              "  </div>\n",
              "  "
            ]
          },
          "metadata": {},
          "execution_count": 3
        }
      ]
    },
    {
      "cell_type": "code",
      "source": [
        "plt.plot(dataIn[\"DL\"],dataIn[\"Mtot\"],  \"kx\")\n",
        "plt.errorbar(dataIn[\"DL\"], dataIn[\"Mtot\"],\n",
        "             yerr=dataIn[\"Mtot_err\"], xerr=dataIn[\"DL_err\"], \n",
        "             fmt=\"none\", \n",
        "             ecolor=\"orange\", \n",
        "             capsize=2)\n",
        "\n",
        "plt.ylabel(\"Total Mass / $M_{\\odot}$\")\n",
        "plt.xlabel(\"Distance / Mpc\")"
      ],
      "metadata": {
        "id": "8RYijugtGKdo",
        "outputId": "079bdef6-5461-4886-d6d0-78d244fa25ec",
        "colab": {
          "base_uri": "https://localhost:8080/",
          "height": 296
        }
      },
      "execution_count": 6,
      "outputs": [
        {
          "output_type": "execute_result",
          "data": {
            "text/plain": [
              "Text(0.5, 0, 'Distance / Mpc')"
            ]
          },
          "metadata": {},
          "execution_count": 6
        },
        {
          "output_type": "display_data",
          "data": {
            "text/plain": [
              "<Figure size 432x288 with 1 Axes>"
            ],
            "image/png": "[encoded data removed]"
          },
          "metadata": {
            "needs_background": "light"
          }
        }
      ]
    },
    {
      "cell_type": "markdown",
      "source": [
        "We are given the mass and distance in solar masses, so lets convert this into SI units, and put some logarithmic scales to make the correlation linear"
      ],
      "metadata": {
        "id": "SstbxhrkGWbo"
      }
    },
    {
      "cell_type": "code",
      "source": [
        "DL = dataIn[\"DL\"]*3e16 #meters\n",
        "DL_err = dataIn[\"DL_err\"]*3e16 #meters\n",
        "\n",
        "Mtot = dataIn[\"Mtot\"]*1.99e30 #kg\n",
        "Mtot_err = dataIn[\"Mtot_err\"]*1.99e30 #kg\n",
        "\n",
        "\n",
        "\n",
        "plt.plot(DL,Mtot,  \"kx\")\n",
        "plt.errorbar(DL, Mtot,\n",
        "             yerr=Mtot_err, xerr=DL_err, \n",
        "             fmt=\"none\", \n",
        "             ecolor=\"orange\", \n",
        "             capsize=2)\n",
        "\n",
        "plt.ylabel(\"log Total Mass / kg\")\n",
        "plt.xlabel(\"log Distance / m\")\n",
        "\n",
        "plt.yscale(\"log\")\n",
        "plt.xscale(\"log\")"
      ],
      "metadata": {
        "id": "i52we2trGVyJ",
        "outputId": "01b401b1-8a37-4ea0-ae10-fccb962e3a33",
        "colab": {
          "base_uri": "https://localhost:8080/",
          "height": 283
        }
      },
      "execution_count": 16,
      "outputs": [
        {
          "output_type": "display_data",
          "data": {
            "text/plain": [
              "<Figure size 432x288 with 1 Axes>"
            ],
            "image/png": "[encoded data removed]"
          },
          "metadata": {
            "needs_background": "light"
          }
        }
      ]
    },
    {
      "cell_type": "markdown",
      "source": [
        "The plot now shows there is a positive logarithmic correlation between the size of the mass and the distance of GW events measured. "
      ],
      "metadata": {
        "id": "0A9TSkrcHVYH"
      }
    },
    {
      "cell_type": "markdown",
      "metadata": {
        "id": "3dymMKXPDjpM"
      },
      "source": [
        "***"
      ]
    },
    {
      "cell_type": "markdown",
      "metadata": {
        "id": "EpyCYNrcDjpM"
      },
      "source": [
        "## Part B - The data [15 marks]"
      ]
    },
    {
      "cell_type": "markdown",
      "metadata": {
        "id": "hkOantYsDjpN"
      },
      "source": [
        "**Answer:**"
      ]
    },
    {
      "cell_type": "markdown",
      "metadata": {
        "id": "t2mpa-5tDjpN"
      },
      "source": [
        "Lets download the next file from my github"
      ]
    },
    {
      "cell_type": "code",
      "source": [
        "!wget https://raw.githubusercontent.com/Clarke-Jools-36/DataAnalysis22/main/Observedwaveform.csv"
      ],
      "metadata": {
        "id": "ABX8kJgBIV5A",
        "outputId": "737c9ede-c26e-4ba0-b880-eabb30736746",
        "colab": {
          "base_uri": "https://localhost:8080/"
        }
      },
      "execution_count": 17,
      "outputs": [
        {
          "output_type": "stream",
          "name": "stdout",
          "text": [
            "--2022-12-10 17:42:22--  https://raw.githubusercontent.com/Clarke-Jools-36/DataAnalysis22/main/Observedwaveform.csv\n",
            "Resolving raw.githubusercontent.com (raw.githubusercontent.com)... 185.199.110.133, 185.199.111.133, 185.199.109.133, ...\n",
            "Connecting to raw.githubusercontent.com (raw.githubusercontent.com)|185.199.110.133|:443... connected.\n",
            "HTTP request sent, awaiting response... 200 OK\n",
            "Length: 26465 (26K) [text/plain]\n",
            "Saving to: ‘Observedwaveform.csv’\n",
            "\n",
            "Observedwaveform.cs 100%[===================>]  25.84K  --.-KB/s    in 0.003s  \n",
            "\n",
            "2022-12-10 17:42:22 (7.62 MB/s) - ‘Observedwaveform.csv’ saved [26465/26465]\n",
            "\n"
          ]
        }
      ]
    },
    {
      "cell_type": "markdown",
      "source": [
        "and check out the head, and then plot the data"
      ],
      "metadata": {
        "id": "5GCYJpTjIaXf"
      }
    },
    {
      "cell_type": "code",
      "source": [
        "dataIn=pd.read_csv('/content/Observedwaveform.csv')\n",
        "print(f\"#### length of data: {len(dataIn)}\\n\\n\")\n",
        "dataIn.head(8)"
      ],
      "metadata": {
        "id": "crupXwclIbFw",
        "outputId": "3e1c9483-ef81-4202-f20a-cf633a4aca04",
        "colab": {
          "base_uri": "https://localhost:8080/",
          "height": 352
        }
      },
      "execution_count": 18,
      "outputs": [
        {
          "output_type": "stream",
          "name": "stdout",
          "text": [
            "#### length of data: 636\n",
            "\n",
            "\n"
          ]
        },
        {
          "output_type": "execute_result",
          "data": {
            "text/plain": [
              "         strain      time (s)\n",
              "0  8.101405e-23  1.205952e+09\n",
              "1  1.019082e-22  1.205952e+09\n",
              "2  1.226521e-22  1.205952e+09\n",
              "3  1.396412e-22  1.205952e+09\n",
              "4  1.522380e-22  1.205952e+09\n",
              "5  1.633110e-22  1.205952e+09\n",
              "6  1.775375e-22  1.205952e+09\n",
              "7  1.983757e-22  1.205952e+09"
            ],
            "text/html": [
              "\n",
              "  <div id=\"df-76f810f3-4eb5-40b5-88dc-4ba22e8b969e\">\n",
              "    <div class=\"colab-df-container\">\n",
              "      <div>\n",
              "<style scoped>\n",
              "    .dataframe tbody tr th:only-of-type {\n",
              "        vertical-align: middle;\n",
              "    }\n",
              "\n",
              "    .dataframe tbody tr th {\n",
              "        vertical-align: top;\n",
              "    }\n",
              "\n",
              "    .dataframe thead th {\n",
              "        text-align: right;\n",
              "    }\n",
              "</style>\n",
              "<table border=\"1\" class=\"dataframe\">\n",
              "  <thead>\n",
              "    <tr style=\"text-align: right;\">\n",
              "      <th></th>\n",
              "      <th>strain</th>\n",
              "      <th>time (s)</th>\n",
              "    </tr>\n",
              "  </thead>\n",
              "  <tbody>\n",
              "    <tr>\n",
              "      <th>0</th>\n",
              "      <td>8.101405e-23</td>\n",
              "      <td>1.205952e+09</td>\n",
              "    </tr>\n",
              "    <tr>\n",
              "      <th>1</th>\n",
              "      <td>1.019082e-22</td>\n",
              "      <td>1.205952e+09</td>\n",
              "    </tr>\n",
              "    <tr>\n",
              "      <th>2</th>\n",
              "      <td>1.226521e-22</td>\n",
              "      <td>1.205952e+09</td>\n",
              "    </tr>\n",
              "    <tr>\n",
              "      <th>3</th>\n",
              "      <td>1.396412e-22</td>\n",
              "      <td>1.205952e+09</td>\n",
              "    </tr>\n",
              "    <tr>\n",
              "      <th>4</th>\n",
              "      <td>1.522380e-22</td>\n",
              "      <td>1.205952e+09</td>\n",
              "    </tr>\n",
              "    <tr>\n",
              "      <th>5</th>\n",
              "      <td>1.633110e-22</td>\n",
              "      <td>1.205952e+09</td>\n",
              "    </tr>\n",
              "    <tr>\n",
              "      <th>6</th>\n",
              "      <td>1.775375e-22</td>\n",
              "      <td>1.205952e+09</td>\n",
              "    </tr>\n",
              "    <tr>\n",
              "      <th>7</th>\n",
              "      <td>1.983757e-22</td>\n",
              "      <td>1.205952e+09</td>\n",
              "    </tr>\n",
              "  </tbody>\n",
              "</table>\n",
              "</div>\n",
              "      <button class=\"colab-df-convert\" onclick=\"convertToInteractive('df-76f810f3-4eb5-40b5-88dc-4ba22e8b969e')\"\n",
              "              title=\"Convert this dataframe to an interactive table.\"\n",
              "              style=\"display:none;\">\n",
              "        \n",
              "  <svg xmlns=\"http://www.w3.org/2000/svg\" height=\"24px\"viewBox=\"0 0 24 24\"\n",
              "       width=\"24px\">\n",
              "    <path d=\"M0 0h24v24H0V0z\" fill=\"none\"/>\n",
              "    <path d=\"M18.56 5.44l.94 2.06.94-2.06 2.06-.94-2.06-.94-.94-2.06-.94 2.06-2.06.94zm-11 1L8.5 8.5l.94-2.06 2.06-.94-2.06-.94L8.5 2.5l-.94 2.06-2.06.94zm10 10l.94 2.06.94-2.06 2.06-.94-2.06-.94-.94-2.06-.94 2.06-2.06.94z\"/><path d=\"M17.41 7.96l-1.37-1.37c-.4-.4-.92-.59-1.43-.59-.52 0-1.04.2-1.43.59L10.3 9.45l-7.72 7.72c-.78.78-.78 2.05 0 2.83L4 21.41c.39.39.9.59 1.41.59.51 0 1.02-.2 1.41-.59l7.78-7.78 2.81-2.81c.8-.78.8-2.07 0-2.86zM5.41 20L4 18.59l7.72-7.72 1.47 1.35L5.41 20z\"/>\n",
              "  </svg>\n",
              "      </button>\n",
              "      \n",
              "  <style>\n",
              "    .colab-df-container {\n",
              "      display:flex;\n",
              "      flex-wrap:wrap;\n",
              "      gap: 12px;\n",
              "    }\n",
              "\n",
              "    .colab-df-convert {\n",
              "      background-color: #E8F0FE;\n",
              "      border: none;\n",
              "      border-radius: 50%;\n",
              "      cursor: pointer;\n",
              "      display: none;\n",
              "      fill: #1967D2;\n",
              "      height: 32px;\n",
              "      padding: 0 0 0 0;\n",
              "      width: 32px;\n",
              "    }\n",
              "\n",
              "    .colab-df-convert:hover {\n",
              "      background-color: #E2EBFA;\n",
              "      box-shadow: 0px 1px 2px rgba(60, 64, 67, 0.3), 0px 1px 3px 1px rgba(60, 64, 67, 0.15);\n",
              "      fill: #174EA6;\n",
              "    }\n",
              "\n",
              "    [theme=dark] .colab-df-convert {\n",
              "      background-color: #3B4455;\n",
              "      fill: #D2E3FC;\n",
              "    }\n",
              "\n",
              "    [theme=dark] .colab-df-convert:hover {\n",
              "      background-color: #434B5C;\n",
              "      box-shadow: 0px 1px 3px 1px rgba(0, 0, 0, 0.15);\n",
              "      filter: drop-shadow(0px 1px 2px rgba(0, 0, 0, 0.3));\n",
              "      fill: #FFFFFF;\n",
              "    }\n",
              "  </style>\n",
              "\n",
              "      <script>\n",
              "        const buttonEl =\n",
              "          document.querySelector('#df-76f810f3-4eb5-40b5-88dc-4ba22e8b969e button.colab-df-convert');\n",
              "        buttonEl.style.display =\n",
              "          google.colab.kernel.accessAllowed ? 'block' : 'none';\n",
              "\n",
              "        async function convertToInteractive(key) {\n",
              "          const element = document.querySelector('#df-76f810f3-4eb5-40b5-88dc-4ba22e8b969e');\n",
              "          const dataTable =\n",
              "            await google.colab.kernel.invokeFunction('convertToInteractive',\n",
              "                                                     [key], {});\n",
              "          if (!dataTable) return;\n",
              "\n",
              "          const docLinkHtml = 'Like what you see? Visit the ' +\n",
              "            '<a target=\"_blank\" href=https://colab.research.google.com/notebooks/data_table.ipynb>data table notebook</a>'\n",
              "            + ' to learn more about interactive tables.';\n",
              "          element.innerHTML = '';\n",
              "          dataTable['output_type'] = 'display_data';\n",
              "          await google.colab.output.renderOutput(dataTable, element);\n",
              "          const docLink = document.createElement('div');\n",
              "          docLink.innerHTML = docLinkHtml;\n",
              "          element.appendChild(docLink);\n",
              "        }\n",
              "      </script>\n",
              "    </div>\n",
              "  </div>\n",
              "  "
            ]
          },
          "metadata": {},
          "execution_count": 18
        }
      ]
    },
    {
      "cell_type": "code",
      "source": [
        "s = dataIn[\"strain\"]\n",
        "t_gps = dataIn[\"time (s)\"]\n",
        "\n",
        "plt.plot(t_gps,s,\"k\")\n",
        "plt.xlabel(\"GPS Time / S\")\n",
        "plt.ylabel(\"Strain / unitless\")"
      ],
      "metadata": {
        "id": "0CU05XOqIgzJ",
        "outputId": "9057ba2c-b085-43c1-af64-a966a6f9e00c",
        "colab": {
          "base_uri": "https://localhost:8080/",
          "height": 307
        }
      },
      "execution_count": 19,
      "outputs": [
        {
          "output_type": "execute_result",
          "data": {
            "text/plain": [
              "Text(0, 0.5, 'Strain / unitless')"
            ]
          },
          "metadata": {},
          "execution_count": 19
        },
        {
          "output_type": "display_data",
          "data": {
            "text/plain": [
              "<Figure size 432x288 with 1 Axes>"
            ],
            "image/png": "[encoded data removed]"
          },
          "metadata": {
            "needs_background": "light"
          }
        }
      ]
    },
    {
      "cell_type": "markdown",
      "source": [
        "The beginning of the sample begins at zero, rather than the GW event occuring at zero. As we are told that the GPS time of the merger for your waveform is 1205951542.153363s, this means we can shift the data so that it is comparable with other samples"
      ],
      "metadata": {
        "id": "EON8lIPfIqSx"
      }
    },
    {
      "cell_type": "code",
      "source": [
        "t = t_gps - 1205951542.153363\n",
        "\n",
        "plt.plot(t,s,\"k\")\n",
        "plt.xlabel(\"Merger Normalised Time / S\")\n",
        "plt.ylabel(\"Strain / unitless\")"
      ],
      "metadata": {
        "id": "_WA5ADNrI1ZB",
        "outputId": "8ef23d7d-20d6-4c22-ea69-15a55175f975",
        "colab": {
          "base_uri": "https://localhost:8080/",
          "height": 307
        }
      },
      "execution_count": 20,
      "outputs": [
        {
          "output_type": "execute_result",
          "data": {
            "text/plain": [
              "Text(0, 0.5, 'Strain / unitless')"
            ]
          },
          "metadata": {},
          "execution_count": 20
        },
        {
          "output_type": "display_data",
          "data": {
            "text/plain": [
              "<Figure size 432x288 with 1 Axes>"
            ],
            "image/png": "[encoded data removed]"
          },
          "metadata": {
            "needs_background": "light"
          }
        }
      ]
    },
    {
      "cell_type": "markdown",
      "source": [
        "We can get a pure noise sample by taking data from after the GW has occurred. We need to be sure to leave a short amount of time for the aftershock to subside, so we can't take a noise profile directly from 0s."
      ],
      "metadata": {
        "id": "3YPgm5_GJHAB"
      }
    },
    {
      "cell_type": "code",
      "source": [
        "plt.plot(t,s,\"orange\", label = \"Signal\")\n",
        "\n",
        "purge = 400\n",
        "\n",
        "plt.plot(t[purge:],s[purge:],\"k\", label = \"Noise\")\n",
        "\n",
        "plt.legend()\n",
        "\n",
        "plt.xlabel(\"Merger Normalised Time / S\")\n",
        "plt.ylabel(\"Strain / unitless\")"
      ],
      "metadata": {
        "id": "oa_R7Qh4Jd5n",
        "outputId": "9b0bea6e-56da-4881-9762-f7331e2e82c3",
        "colab": {
          "base_uri": "https://localhost:8080/",
          "height": 307
        }
      },
      "execution_count": 21,
      "outputs": [
        {
          "output_type": "execute_result",
          "data": {
            "text/plain": [
              "Text(0, 0.5, 'Strain / unitless')"
            ]
          },
          "metadata": {},
          "execution_count": 21
        },
        {
          "output_type": "display_data",
          "data": {
            "text/plain": [
              "<Figure size 432x288 with 1 Axes>"
            ],
            "image/png": "[encoded data removed]"
          },
          "metadata": {
            "needs_background": "light"
          }
        }
      ]
    },
    {
      "cell_type": "markdown",
      "source": [
        "If we purge everything except the last 400 samples, then we get a clean noise profile. This can be used to find our mean and standard deviation"
      ],
      "metadata": {
        "id": "-tGOIojmJqNI"
      }
    },
    {
      "cell_type": "code",
      "source": [
        "noise = s[purge:]\n",
        "\n",
        "mean = noise.mean()\n",
        "std = noise.std()\n",
        "\n",
        "print(f\"Noise has mean {mean:.4e} and standard deviation {std:.4e}\")"
      ],
      "metadata": {
        "id": "RyxOzBZ5Jh5I",
        "outputId": "a3c6f3df-e9bb-4d5e-b946-6d39c952fa2c",
        "colab": {
          "base_uri": "https://localhost:8080/"
        }
      },
      "execution_count": 22,
      "outputs": [
        {
          "output_type": "stream",
          "name": "stdout",
          "text": [
            "Noise has mean 2.1502e-24 and standard deviation 4.8026e-23\n"
          ]
        }
      ]
    },
    {
      "cell_type": "markdown",
      "source": [
        "We can use this data to plot a distribution of our noise profile"
      ],
      "metadata": {
        "id": "VXGN9Gk4KEcG"
      }
    },
    {
      "cell_type": "code",
      "source": [
        "x = np.linspace(mean-(4*std), mean+(4*std), 500)\n",
        "plt.plot(x ,stats.norm.pdf(x, mean, std), \"k\")\n",
        "\n",
        "plt.ylabel(\"Probability Density\")\n",
        "plt.xlabel(\"Strain / unitless\")"
      ],
      "metadata": {
        "id": "X8rnYe7PJk3w",
        "outputId": "d9448234-86c9-4fc9-c982-70c5715aa313",
        "colab": {
          "base_uri": "https://localhost:8080/",
          "height": 307
        }
      },
      "execution_count": 23,
      "outputs": [
        {
          "output_type": "execute_result",
          "data": {
            "text/plain": [
              "Text(0.5, 0, 'Strain / unitless')"
            ]
          },
          "metadata": {},
          "execution_count": 23
        },
        {
          "output_type": "display_data",
          "data": {
            "text/plain": [
              "<Figure size 432x288 with 1 Axes>"
            ],
            "image/png": "[encoded data removed]"
          },
          "metadata": {
            "needs_background": "light"
          }
        }
      ]
    },
    {
      "cell_type": "markdown",
      "source": [
        "This is not particularily useful however as the noise is averaged about zero, so any mean will give us approzimately zero and not a true noise level. By squaring every value of the noise (thus removing negatives), we can find the rms noise value which is a better description of noise amplitude"
      ],
      "metadata": {
        "id": "kld4m-SBKLSL"
      }
    },
    {
      "cell_type": "code",
      "source": [
        "rms = np.sqrt(np.mean(noise**2))\n",
        "\n",
        "print(f\"rms noise is {rms:.4e}\")"
      ],
      "metadata": {
        "id": "Z02iB8RmKGpu",
        "outputId": "9a1982ca-4553-4039-c5dd-de8c653ca2c4",
        "colab": {
          "base_uri": "https://localhost:8080/"
        }
      },
      "execution_count": 25,
      "outputs": [
        {
          "output_type": "stream",
          "name": "stdout",
          "text": [
            "rms noise is 4.7972e-23\n"
          ]
        }
      ]
    },
    {
      "cell_type": "markdown",
      "metadata": {
        "id": "s2bA7jDwDjpN"
      },
      "source": [
        "***"
      ]
    },
    {
      "cell_type": "markdown",
      "metadata": {
        "id": "01lt2fEaDjpN"
      },
      "source": [
        "## Part C - Interpolate reference model to match the observed data time sampling [15 marks]"
      ]
    },
    {
      "cell_type": "markdown",
      "metadata": {
        "id": "_epxgSmmDjpN"
      },
      "source": [
        "**Answer:**"
      ]
    },
    {
      "cell_type": "markdown",
      "metadata": {
        "id": "aLwJMwFnDjpO"
      },
      "source": [
        "Your answer here"
      ]
    },
    {
      "cell_type": "markdown",
      "metadata": {
        "id": "Q7I6EWOTDjpO"
      },
      "source": [
        "***"
      ]
    },
    {
      "cell_type": "markdown",
      "metadata": {
        "id": "mHcwYrR6DjpO"
      },
      "source": [
        "## Part D - Using model waveforms to estimate the total mass and distance to the system \"a by-eye estimate\") [24 marks]"
      ]
    },
    {
      "cell_type": "markdown",
      "metadata": {
        "id": "C08UroqDDjpO"
      },
      "source": [
        "**Answer**"
      ]
    },
    {
      "cell_type": "markdown",
      "metadata": {
        "id": "VVwW83gUDjpO"
      },
      "source": [
        "Your answer here"
      ]
    },
    {
      "cell_type": "markdown",
      "metadata": {
        "id": "hLHwiseNDjpP"
      },
      "source": [
        "***"
      ]
    },
    {
      "cell_type": "markdown",
      "metadata": {
        "id": "dlLHrhVuDjpP"
      },
      "source": [
        "## Part E - Estimating the total mass using MCMC [75 marks]"
      ]
    },
    {
      "cell_type": "markdown",
      "metadata": {
        "id": "JgjOypvbDjpP"
      },
      "source": [
        "**Answer:**"
      ]
    },
    {
      "cell_type": "markdown",
      "metadata": {
        "id": "8Zy_8aKTDjpP"
      },
      "source": [
        "Your answer here"
      ]
    },
    {
      "cell_type": "markdown",
      "metadata": {
        "id": "1tbK9eKGDjpP"
      },
      "source": [
        "***"
      ]
    },
    {
      "cell_type": "markdown",
      "metadata": {
        "id": "czCYmkO8DjpQ"
      },
      "source": [
        "## Part F - Putting it all together [36 marks]"
      ]
    },
    {
      "cell_type": "markdown",
      "metadata": {
        "id": "xLUyRmo5DjpQ"
      },
      "source": [
        "**Answer:**"
      ]
    },
    {
      "cell_type": "markdown",
      "metadata": {
        "id": "x4dztLhmDjpQ"
      },
      "source": [
        "Your answer here"
      ]
    },
    {
      "cell_type": "markdown",
      "metadata": {
        "id": "opTUOC3HDjpQ"
      },
      "source": [
        "***"
      ]
    },
    {
      "cell_type": "markdown",
      "metadata": {
        "id": "lLKd3XyDDjpQ"
      },
      "source": [
        "## Part G - Evidence of Understanding, Presentation and Interpretation [20 marks]\n",
        "\n",
        "An additional 20 marks will be awarded for evidence of understanding and knowledge via (for example) explanations, plots, comments on your results and well formatted and well explained results. Marks are also available for additional investigations carried out on your analysis above. These marks are available for those data analysis reports that show evidence of work that is *very high quality* or *outstanding* as per the decile descriptions in the Assessment Criteria for modules. <div align=\"right\">**[20 marks]**</div>"
      ]
    }
  ],
  "metadata": {
    "kernelspec": {
      "display_name": "Python 3 (ipykernel)",
      "language": "python",
      "name": "python3"
    },
    "language_info": {
      "codemirror_mode": {
        "name": "ipython",
        "version": 3
      },
      "file_extension": ".py",
      "mimetype": "text/x-python",
      "name": "python",
      "nbconvert_exporter": "python",
      "pygments_lexer": "ipython3",
      "version": "3.9.7"
    },
    "colab": {
      "provenance": []
    }
  },
  "nbformat": 4,
  "nbformat_minor": 0
}