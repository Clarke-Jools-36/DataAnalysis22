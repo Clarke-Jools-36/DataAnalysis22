{
  "cells": [
    {
      "cell_type": "markdown",
      "metadata": {
        "collapsed": true,
        "id": "P9M0lwRqDjpE"
      },
      "source": [
        "##### Data Analysis - Coursework 2 (50%)\n",
        "# Analysing gravitational wave signals \n",
        "## Deadline Friday week 11, 2pm."
      ]
    },
    {
      "cell_type": "markdown",
      "metadata": {
        "id": "V94Jxt1eDjpI"
      },
      "source": [
        "#### Instructions"
      ]
    },
    {
      "cell_type": "markdown",
      "metadata": {
        "id": "UNrncsNHDjpI"
      },
      "source": [
        "This coursework assesses learning outcomes from **all Chapters** of the course, but in particular **Chapters 6, 7, 8 and 9**. It is worth 50% of the module. Please ensure you have read the [Chapter 8 Jupyter Notebook](https://github.com/haleygomez/Data-Analysis-2022/blob/master/blended_exercises/Chapter8/Chapter8.ipynb) before starting this coursework. "
      ]
    },
    {
      "cell_type": "markdown",
      "metadata": {
        "id": "3Fc5zQ2YDjpJ"
      },
      "source": [
        "**These assessments are equivalent to an exam**:\n",
        "- Submit your work via Turn-It-In on Learning Central. Note that you will need to upload your final notebook exported as a html file. **Don't forget to click `run all` before you export it**. You can constantly update this document until the deadline.\n",
        "- The breakdown of the assessment criteria is provided in Learning Central under Assessment.\n",
        "- Don't worry about how your code looks - marks are not given for pretty code, but rather for the approach used in solving the problem, your reasoning, explanation and answer.\n",
        "- Please also take note of the University’s policy on **plagiarism**, which is outlined in your student handbook."
      ]
    },
    {
      "cell_type": "markdown",
      "metadata": {
        "id": "5ex2UUwkDjpK"
      },
      "source": [
        "#### Tips\n"
      ]
    },
    {
      "cell_type": "markdown",
      "metadata": {
        "id": "Ir3yLROoDjpK"
      },
      "source": [
        "- Explain all your reasoning for each step. A *significant fraction* of the marks are given for explanations and discussion, as they evidence understanding of the analysis.  \n",
        "- Some of these steps will take a while to run and compile. It's a good idea to add in print statements to your code throughout eg `print('this step is done')` to make sure that your bit of code has finished.\n",
        "- Add the import packages statements at the top of your Jupyter notebook. We will use the `pandas` package to read in the data, with eg `dataIn=pd.read_csv('filename.csv')`.\n",
        "- You may need to do some additional research into this subject. You may find it useful to look at the following publication from the LIGO consortium. https://arxiv.org/pdf/1608.01940.pdf"
      ]
    },
    {
      "cell_type": "markdown",
      "metadata": {
        "id": "-IdHIxj_DjpK"
      },
      "source": [
        "***"
      ]
    },
    {
      "cell_type": "markdown",
      "metadata": {
        "id": "vnj_z4D9DjpL"
      },
      "source": [
        "## Part A - Some background [15 marks]"
      ]
    },
    {
      "cell_type": "markdown",
      "metadata": {
        "id": "dtLn9M0qDjpL"
      },
      "source": [
        "**Answer:**"
      ]
    },
    {
      "cell_type": "markdown",
      "metadata": {
        "id": "n0_I5aZSDjpM"
      },
      "source": [
        "Your answer here"
      ]
    },
    {
      "cell_type": "markdown",
      "metadata": {
        "id": "3dymMKXPDjpM"
      },
      "source": [
        "***"
      ]
    },
    {
      "cell_type": "markdown",
      "metadata": {
        "id": "EpyCYNrcDjpM"
      },
      "source": [
        "## Part B - The data [15 marks]"
      ]
    },
    {
      "cell_type": "markdown",
      "metadata": {
        "id": "hkOantYsDjpN"
      },
      "source": [
        "**Answer:**"
      ]
    },
    {
      "cell_type": "markdown",
      "metadata": {
        "id": "t2mpa-5tDjpN"
      },
      "source": [
        "Your answer here"
      ]
    },
    {
      "cell_type": "markdown",
      "metadata": {
        "id": "s2bA7jDwDjpN"
      },
      "source": [
        "***"
      ]
    },
    {
      "cell_type": "markdown",
      "metadata": {
        "id": "01lt2fEaDjpN"
      },
      "source": [
        "## Part C - Interpolate reference model to match the observed data time sampling [15 marks]"
      ]
    },
    {
      "cell_type": "markdown",
      "metadata": {
        "id": "_epxgSmmDjpN"
      },
      "source": [
        "**Answer:**"
      ]
    },
    {
      "cell_type": "markdown",
      "metadata": {
        "id": "aLwJMwFnDjpO"
      },
      "source": [
        "Your answer here"
      ]
    },
    {
      "cell_type": "markdown",
      "metadata": {
        "id": "Q7I6EWOTDjpO"
      },
      "source": [
        "***"
      ]
    },
    {
      "cell_type": "markdown",
      "metadata": {
        "id": "mHcwYrR6DjpO"
      },
      "source": [
        "## Part D - Using model waveforms to estimate the total mass and distance to the system \"a by-eye estimate\") [24 marks]"
      ]
    },
    {
      "cell_type": "markdown",
      "metadata": {
        "id": "C08UroqDDjpO"
      },
      "source": [
        "**Answer**"
      ]
    },
    {
      "cell_type": "markdown",
      "metadata": {
        "id": "VVwW83gUDjpO"
      },
      "source": [
        "Your answer here"
      ]
    },
    {
      "cell_type": "markdown",
      "metadata": {
        "id": "hLHwiseNDjpP"
      },
      "source": [
        "***"
      ]
    },
    {
      "cell_type": "markdown",
      "metadata": {
        "id": "dlLHrhVuDjpP"
      },
      "source": [
        "## Part E - Estimating the total mass using MCMC [75 marks]"
      ]
    },
    {
      "cell_type": "markdown",
      "metadata": {
        "id": "JgjOypvbDjpP"
      },
      "source": [
        "**Answer:**"
      ]
    },
    {
      "cell_type": "markdown",
      "metadata": {
        "id": "8Zy_8aKTDjpP"
      },
      "source": [
        "Your answer here"
      ]
    },
    {
      "cell_type": "markdown",
      "metadata": {
        "id": "1tbK9eKGDjpP"
      },
      "source": [
        "***"
      ]
    },
    {
      "cell_type": "markdown",
      "metadata": {
        "id": "czCYmkO8DjpQ"
      },
      "source": [
        "## Part F - Putting it all together [36 marks]"
      ]
    },
    {
      "cell_type": "markdown",
      "metadata": {
        "id": "xLUyRmo5DjpQ"
      },
      "source": [
        "**Answer:**"
      ]
    },
    {
      "cell_type": "markdown",
      "metadata": {
        "id": "x4dztLhmDjpQ"
      },
      "source": [
        "Your answer here"
      ]
    },
    {
      "cell_type": "markdown",
      "metadata": {
        "id": "opTUOC3HDjpQ"
      },
      "source": [
        "***"
      ]
    },
    {
      "cell_type": "markdown",
      "metadata": {
        "id": "lLKd3XyDDjpQ"
      },
      "source": [
        "## Part G - Evidence of Understanding, Presentation and Interpretation [20 marks]\n",
        "\n",
        "An additional 20 marks will be awarded for evidence of understanding and knowledge via (for example) explanations, plots, comments on your results and well formatted and well explained results. Marks are also available for additional investigations carried out on your analysis above. These marks are available for those data analysis reports that show evidence of work that is *very high quality* or *outstanding* as per the decile descriptions in the Assessment Criteria for modules. <div align=\"right\">**[20 marks]**</div>"
      ]
    }
  ],
  "metadata": {
    "kernelspec": {
      "display_name": "Python 3 (ipykernel)",
      "language": "python",
      "name": "python3"
    },
    "language_info": {
      "codemirror_mode": {
        "name": "ipython",
        "version": 3
      },
      "file_extension": ".py",
      "mimetype": "text/x-python",
      "name": "python",
      "nbconvert_exporter": "python",
      "pygments_lexer": "ipython3",
      "version": "3.9.7"
    },
    "colab": {
      "provenance": []
    }
  },
  "nbformat": 4,
  "nbformat_minor": 0
}