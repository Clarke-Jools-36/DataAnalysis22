{
  "cells": [
    {
      "cell_type": "markdown",
      "metadata": {
        "collapsed": true,
        "id": "P9M0lwRqDjpE"
      },
      "source": [
        "##### Data Analysis - Coursework 2 (50%)\n",
        "# Analysing gravitational wave signals \n",
        "## Deadline Friday week 11, 2pm."
      ]
    },
    {
      "cell_type": "markdown",
      "metadata": {
        "id": "V94Jxt1eDjpI"
      },
      "source": [
        "#### Instructions"
      ]
    },
    {
      "cell_type": "markdown",
      "metadata": {
        "id": "UNrncsNHDjpI"
      },
      "source": [
        "This coursework assesses learning outcomes from **all Chapters** of the course, but in particular **Chapters 6, 7, 8 and 9**. It is worth 50% of the module. Please ensure you have read the [Chapter 8 Jupyter Notebook](https://github.com/haleygomez/Data-Analysis-2022/blob/master/blended_exercises/Chapter8/Chapter8.ipynb) before starting this coursework. "
      ]
    },
    {
      "cell_type": "markdown",
      "metadata": {
        "id": "3Fc5zQ2YDjpJ"
      },
      "source": [
        "**These assessments are equivalent to an exam**:\n",
        "- Submit your work via Turn-It-In on Learning Central. Note that you will need to upload your final notebook exported as a html file. **Don't forget to click `run all` before you export it**. You can constantly update this document until the deadline.\n",
        "- The breakdown of the assessment criteria is provided in Learning Central under Assessment.\n",
        "- Don't worry about how your code looks - marks are not given for pretty code, but rather for the approach used in solving the problem, your reasoning, explanation and answer.\n",
        "- Please also take note of the University’s policy on **plagiarism**, which is outlined in your student handbook."
      ]
    },
    {
      "cell_type": "markdown",
      "metadata": {
        "id": "5ex2UUwkDjpK"
      },
      "source": [
        "#### Tips\n"
      ]
    },
    {
      "cell_type": "markdown",
      "metadata": {
        "id": "Ir3yLROoDjpK"
      },
      "source": [
        "- Explain all your reasoning for each step. A *significant fraction* of the marks are given for explanations and discussion, as they evidence understanding of the analysis.  \n",
        "- Some of these steps will take a while to run and compile. It's a good idea to add in print statements to your code throughout eg `print('this step is done')` to make sure that your bit of code has finished.\n",
        "- Add the import packages statements at the top of your Jupyter notebook. We will use the `pandas` package to read in the data, with eg `dataIn=pd.read_csv('filename.csv')`.\n",
        "- You may need to do some additional research into this subject. You may find it useful to look at the following publication from the LIGO consortium. https://arxiv.org/pdf/1608.01940.pdf"
      ]
    },
    {
      "cell_type": "markdown",
      "metadata": {
        "id": "-IdHIxj_DjpK"
      },
      "source": [
        "***"
      ]
    },
    {
      "cell_type": "code",
      "source": [
        "import pandas as pd\n",
        "from matplotlib import pyplot as plt\n",
        "\n",
        "from scipy import stats\n",
        "import numpy as np"
      ],
      "metadata": {
        "id": "Jg_0pjuZD-ZJ"
      },
      "execution_count": 161,
      "outputs": []
    },
    {
      "cell_type": "markdown",
      "metadata": {
        "id": "vnj_z4D9DjpL"
      },
      "source": [
        "## Part A - Some background [15 marks]"
      ]
    },
    {
      "cell_type": "markdown",
      "metadata": {
        "id": "dtLn9M0qDjpL"
      },
      "source": [
        "**Answer:**"
      ]
    },
    {
      "cell_type": "markdown",
      "source": [
        "Scientists know that the gravitational waves from GW150914 were due to two black holes merging as the signal was identified as a binary black hole merger by matching up with simulated data from einstein theory.\n",
        "\n",
        "As the two objects spiral in on each other, they begin to gain angular momentum. At the same time they loose energy to gravitational waves. The dopler effect as the objects move towards us and away from us again casuses the signal amplitude we recieve to be sinusoidal. As the objects get closer, both the amplitude and frequency of the signal increases at an increasing rate up until the merger. At this point the GW sigfnal is at its maximum. As spacetime adjusts back to a steady state we recievce a slight short aftershock in the signal, which is about an order of magnitude fainter than the maximum signal.\n",
        "\n",
        "Download the file to my colab instance (that I have hosted on my Github, because you can't wget from LC as its behind sign in) "
      ],
      "metadata": {
        "id": "8JKcnKFxEEwx"
      }
    },
    {
      "cell_type": "code",
      "source": [
        "!wget https://raw.githubusercontent.com/Clarke-Jools-36/DataAnalysis22/main/gravitationalwaveevents.csv"
      ],
      "metadata": {
        "id": "gtBZP9GBD5D5",
        "outputId": "75e7d5fa-34f0-4805-92a5-6d312941ba66",
        "colab": {
          "base_uri": "https://localhost:8080/"
        }
      },
      "execution_count": 162,
      "outputs": [
        {
          "output_type": "stream",
          "name": "stdout",
          "text": [
            "--2022-12-10 23:24:50--  https://raw.githubusercontent.com/Clarke-Jools-36/DataAnalysis22/main/gravitationalwaveevents.csv\n",
            "Resolving raw.githubusercontent.com (raw.githubusercontent.com)... 185.199.109.133, 185.199.108.133, 185.199.110.133, ...\n",
            "Connecting to raw.githubusercontent.com (raw.githubusercontent.com)|185.199.109.133|:443... connected.\n",
            "HTTP request sent, awaiting response... 200 OK\n",
            "Length: 1857 (1.8K) [text/plain]\n",
            "Saving to: ‘gravitationalwaveevents.csv.7’\n",
            "\n",
            "\r          gravitati   0%[                    ]       0  --.-KB/s               \rgravitationalwaveev 100%[===================>]   1.81K  --.-KB/s    in 0s      \n",
            "\n",
            "2022-12-10 23:24:50 (27.1 MB/s) - ‘gravitationalwaveevents.csv.7’ saved [1857/1857]\n",
            "\n"
          ]
        }
      ]
    },
    {
      "cell_type": "markdown",
      "source": [
        "Then i'm going to import the file and check some things about it, so the lenght of the data, the head, which is the first N values and all the headers"
      ],
      "metadata": {
        "id": "rP8zj1QVGFzd"
      }
    },
    {
      "cell_type": "code",
      "source": [
        "dataIn=pd.read_csv('/content/gravitationalwaveevents.csv')\n",
        "print(f\"#### length of data: {len(dataIn)}\\n\\n\")\n",
        "dataIn.head(8)"
      ],
      "metadata": {
        "id": "3TKD_-ZJGFD0",
        "outputId": "48321cdb-ccda-4076-e8e1-39e196803d13",
        "colab": {
          "base_uri": "https://localhost:8080/",
          "height": 352
        }
      },
      "execution_count": 163,
      "outputs": [
        {
          "output_type": "stream",
          "name": "stdout",
          "text": [
            "#### length of data: 42\n",
            "\n",
            "\n"
          ]
        },
        {
          "output_type": "execute_result",
          "data": {
            "text/plain": [
              "   Unnamed: 0  idx      DL  DL_err  Mtot  Mtot_err  Mchirp  Mchirp_err\n",
              "0           0    0   430.0   170.0  63.1       3.0    28.6         1.5\n",
              "1           1    1  1060.0   480.0  35.7       3.8    15.2         1.1\n",
              "2           2    2   440.0   190.0  20.5       1.5     8.9         0.3\n",
              "3           3    3   960.0   410.0  49.1       3.9    21.5         1.7\n",
              "4           4    4   320.0   110.0  17.8       0.7     7.9         0.2\n",
              "5           5    5  2750.0  1320.0  80.3      10.2    35.7         4.7\n",
              "6           6    6   990.0   380.0  56.4       3.7    25.0         1.6\n",
              "7           7    7   580.0   210.0  53.4       2.4    24.2         1.1"
            ],
            "text/html": [
              "\n",
              "  <div id=\"df-90ead1b7-c7aa-468a-81fa-b6d235da5cf0\">\n",
              "    <div class=\"colab-df-container\">\n",
              "      <div>\n",
              "<style scoped>\n",
              "    .dataframe tbody tr th:only-of-type {\n",
              "        vertical-align: middle;\n",
              "    }\n",
              "\n",
              "    .dataframe tbody tr th {\n",
              "        vertical-align: top;\n",
              "    }\n",
              "\n",
              "    .dataframe thead th {\n",
              "        text-align: right;\n",
              "    }\n",
              "</style>\n",
              "<table border=\"1\" class=\"dataframe\">\n",
              "  <thead>\n",
              "    <tr style=\"text-align: right;\">\n",
              "      <th></th>\n",
              "      <th>Unnamed: 0</th>\n",
              "      <th>idx</th>\n",
              "      <th>DL</th>\n",
              "      <th>DL_err</th>\n",
              "      <th>Mtot</th>\n",
              "      <th>Mtot_err</th>\n",
              "      <th>Mchirp</th>\n",
              "      <th>Mchirp_err</th>\n",
              "    </tr>\n",
              "  </thead>\n",
              "  <tbody>\n",
              "    <tr>\n",
              "      <th>0</th>\n",
              "      <td>0</td>\n",
              "      <td>0</td>\n",
              "      <td>430.0</td>\n",
              "      <td>170.0</td>\n",
              "      <td>63.1</td>\n",
              "      <td>3.0</td>\n",
              "      <td>28.6</td>\n",
              "      <td>1.5</td>\n",
              "    </tr>\n",
              "    <tr>\n",
              "      <th>1</th>\n",
              "      <td>1</td>\n",
              "      <td>1</td>\n",
              "      <td>1060.0</td>\n",
              "      <td>480.0</td>\n",
              "      <td>35.7</td>\n",
              "      <td>3.8</td>\n",
              "      <td>15.2</td>\n",
              "      <td>1.1</td>\n",
              "    </tr>\n",
              "    <tr>\n",
              "      <th>2</th>\n",
              "      <td>2</td>\n",
              "      <td>2</td>\n",
              "      <td>440.0</td>\n",
              "      <td>190.0</td>\n",
              "      <td>20.5</td>\n",
              "      <td>1.5</td>\n",
              "      <td>8.9</td>\n",
              "      <td>0.3</td>\n",
              "    </tr>\n",
              "    <tr>\n",
              "      <th>3</th>\n",
              "      <td>3</td>\n",
              "      <td>3</td>\n",
              "      <td>960.0</td>\n",
              "      <td>410.0</td>\n",
              "      <td>49.1</td>\n",
              "      <td>3.9</td>\n",
              "      <td>21.5</td>\n",
              "      <td>1.7</td>\n",
              "    </tr>\n",
              "    <tr>\n",
              "      <th>4</th>\n",
              "      <td>4</td>\n",
              "      <td>4</td>\n",
              "      <td>320.0</td>\n",
              "      <td>110.0</td>\n",
              "      <td>17.8</td>\n",
              "      <td>0.7</td>\n",
              "      <td>7.9</td>\n",
              "      <td>0.2</td>\n",
              "    </tr>\n",
              "    <tr>\n",
              "      <th>5</th>\n",
              "      <td>5</td>\n",
              "      <td>5</td>\n",
              "      <td>2750.0</td>\n",
              "      <td>1320.0</td>\n",
              "      <td>80.3</td>\n",
              "      <td>10.2</td>\n",
              "      <td>35.7</td>\n",
              "      <td>4.7</td>\n",
              "    </tr>\n",
              "    <tr>\n",
              "      <th>6</th>\n",
              "      <td>6</td>\n",
              "      <td>6</td>\n",
              "      <td>990.0</td>\n",
              "      <td>380.0</td>\n",
              "      <td>56.4</td>\n",
              "      <td>3.7</td>\n",
              "      <td>25.0</td>\n",
              "      <td>1.6</td>\n",
              "    </tr>\n",
              "    <tr>\n",
              "      <th>7</th>\n",
              "      <td>7</td>\n",
              "      <td>7</td>\n",
              "      <td>580.0</td>\n",
              "      <td>210.0</td>\n",
              "      <td>53.4</td>\n",
              "      <td>2.4</td>\n",
              "      <td>24.2</td>\n",
              "      <td>1.1</td>\n",
              "    </tr>\n",
              "  </tbody>\n",
              "</table>\n",
              "</div>\n",
              "      <button class=\"colab-df-convert\" onclick=\"convertToInteractive('df-90ead1b7-c7aa-468a-81fa-b6d235da5cf0')\"\n",
              "              title=\"Convert this dataframe to an interactive table.\"\n",
              "              style=\"display:none;\">\n",
              "        \n",
              "  <svg xmlns=\"http://www.w3.org/2000/svg\" height=\"24px\"viewBox=\"0 0 24 24\"\n",
              "       width=\"24px\">\n",
              "    <path d=\"M0 0h24v24H0V0z\" fill=\"none\"/>\n",
              "    <path d=\"M18.56 5.44l.94 2.06.94-2.06 2.06-.94-2.06-.94-.94-2.06-.94 2.06-2.06.94zm-11 1L8.5 8.5l.94-2.06 2.06-.94-2.06-.94L8.5 2.5l-.94 2.06-2.06.94zm10 10l.94 2.06.94-2.06 2.06-.94-2.06-.94-.94-2.06-.94 2.06-2.06.94z\"/><path d=\"M17.41 7.96l-1.37-1.37c-.4-.4-.92-.59-1.43-.59-.52 0-1.04.2-1.43.59L10.3 9.45l-7.72 7.72c-.78.78-.78 2.05 0 2.83L4 21.41c.39.39.9.59 1.41.59.51 0 1.02-.2 1.41-.59l7.78-7.78 2.81-2.81c.8-.78.8-2.07 0-2.86zM5.41 20L4 18.59l7.72-7.72 1.47 1.35L5.41 20z\"/>\n",
              "  </svg>\n",
              "      </button>\n",
              "      \n",
              "  <style>\n",
              "    .colab-df-container {\n",
              "      display:flex;\n",
              "      flex-wrap:wrap;\n",
              "      gap: 12px;\n",
              "    }\n",
              "\n",
              "    .colab-df-convert {\n",
              "      background-color: #E8F0FE;\n",
              "      border: none;\n",
              "      border-radius: 50%;\n",
              "      cursor: pointer;\n",
              "      display: none;\n",
              "      fill: #1967D2;\n",
              "      height: 32px;\n",
              "      padding: 0 0 0 0;\n",
              "      width: 32px;\n",
              "    }\n",
              "\n",
              "    .colab-df-convert:hover {\n",
              "      background-color: #E2EBFA;\n",
              "      box-shadow: 0px 1px 2px rgba(60, 64, 67, 0.3), 0px 1px 3px 1px rgba(60, 64, 67, 0.15);\n",
              "      fill: #174EA6;\n",
              "    }\n",
              "\n",
              "    [theme=dark] .colab-df-convert {\n",
              "      background-color: #3B4455;\n",
              "      fill: #D2E3FC;\n",
              "    }\n",
              "\n",
              "    [theme=dark] .colab-df-convert:hover {\n",
              "      background-color: #434B5C;\n",
              "      box-shadow: 0px 1px 3px 1px rgba(0, 0, 0, 0.15);\n",
              "      filter: drop-shadow(0px 1px 2px rgba(0, 0, 0, 0.3));\n",
              "      fill: #FFFFFF;\n",
              "    }\n",
              "  </style>\n",
              "\n",
              "      <script>\n",
              "        const buttonEl =\n",
              "          document.querySelector('#df-90ead1b7-c7aa-468a-81fa-b6d235da5cf0 button.colab-df-convert');\n",
              "        buttonEl.style.display =\n",
              "          google.colab.kernel.accessAllowed ? 'block' : 'none';\n",
              "\n",
              "        async function convertToInteractive(key) {\n",
              "          const element = document.querySelector('#df-90ead1b7-c7aa-468a-81fa-b6d235da5cf0');\n",
              "          const dataTable =\n",
              "            await google.colab.kernel.invokeFunction('convertToInteractive',\n",
              "                                                     [key], {});\n",
              "          if (!dataTable) return;\n",
              "\n",
              "          const docLinkHtml = 'Like what you see? Visit the ' +\n",
              "            '<a target=\"_blank\" href=https://colab.research.google.com/notebooks/data_table.ipynb>data table notebook</a>'\n",
              "            + ' to learn more about interactive tables.';\n",
              "          element.innerHTML = '';\n",
              "          dataTable['output_type'] = 'display_data';\n",
              "          await google.colab.output.renderOutput(dataTable, element);\n",
              "          const docLink = document.createElement('div');\n",
              "          docLink.innerHTML = docLinkHtml;\n",
              "          element.appendChild(docLink);\n",
              "        }\n",
              "      </script>\n",
              "    </div>\n",
              "  </div>\n",
              "  "
            ]
          },
          "metadata": {},
          "execution_count": 163
        }
      ]
    },
    {
      "cell_type": "code",
      "source": [
        "plt.plot(dataIn[\"DL\"],dataIn[\"Mtot\"],  \"kx\")\n",
        "plt.errorbar(dataIn[\"DL\"], dataIn[\"Mtot\"],\n",
        "             yerr=dataIn[\"Mtot_err\"], xerr=dataIn[\"DL_err\"], \n",
        "             fmt=\"none\", \n",
        "             ecolor=\"orange\", \n",
        "             capsize=2)\n",
        "\n",
        "plt.ylabel(\"Total Mass / $M_{\\odot}$\")\n",
        "plt.xlabel(\"Distance / Mpc\")"
      ],
      "metadata": {
        "id": "8RYijugtGKdo",
        "outputId": "7372749d-406a-4c70-93d5-c840c0b136cf",
        "colab": {
          "base_uri": "https://localhost:8080/",
          "height": 296
        }
      },
      "execution_count": 164,
      "outputs": [
        {
          "output_type": "execute_result",
          "data": {
            "text/plain": [
              "Text(0.5, 0, 'Distance / Mpc')"
            ]
          },
          "metadata": {},
          "execution_count": 164
        },
        {
          "output_type": "display_data",
          "data": {
            "text/plain": [
              "<Figure size 432x288 with 1 Axes>"
            ],
            "image/png": "[encoded data removed]"
          },
          "metadata": {
            "needs_background": "light"
          }
        }
      ]
    },
    {
      "cell_type": "markdown",
      "source": [
        "We are given the mass and distance in solar masses, so lets convert this into SI units, and put some logarithmic scales to make the correlation linear"
      ],
      "metadata": {
        "id": "SstbxhrkGWbo"
      }
    },
    {
      "cell_type": "code",
      "source": [
        "DL = dataIn[\"DL\"]*3e16 #meters\n",
        "DL_err = dataIn[\"DL_err\"]*3e16 #meters\n",
        "\n",
        "Mtot = dataIn[\"Mtot\"]*1.99e30 #kg\n",
        "Mtot_err = dataIn[\"Mtot_err\"]*1.99e30 #kg\n",
        "\n",
        "\n",
        "\n",
        "plt.plot(DL,Mtot,  \"kx\")\n",
        "plt.errorbar(DL, Mtot,\n",
        "             yerr=Mtot_err, xerr=DL_err, \n",
        "             fmt=\"none\", \n",
        "             ecolor=\"orange\", \n",
        "             capsize=2)\n",
        "\n",
        "plt.ylabel(\"log Total Mass / kg\")\n",
        "plt.xlabel(\"log Distance / m\")\n",
        "\n",
        "plt.yscale(\"log\")\n",
        "plt.xscale(\"log\")"
      ],
      "metadata": {
        "id": "i52we2trGVyJ",
        "outputId": "e07dd790-3304-4e80-90de-d078b8eb9af7",
        "colab": {
          "base_uri": "https://localhost:8080/",
          "height": 283
        }
      },
      "execution_count": 165,
      "outputs": [
        {
          "output_type": "display_data",
          "data": {
            "text/plain": [
              "<Figure size 432x288 with 1 Axes>"
            ],
            "image/png": "[encoded data removed]"
          },
          "metadata": {
            "needs_background": "light"
          }
        }
      ]
    },
    {
      "cell_type": "markdown",
      "source": [
        "The plot now shows there is a positive logarithmic correlation between the size of the mass and the distance of GW events measured. "
      ],
      "metadata": {
        "id": "0A9TSkrcHVYH"
      }
    },
    {
      "cell_type": "markdown",
      "metadata": {
        "id": "3dymMKXPDjpM"
      },
      "source": [
        "***"
      ]
    },
    {
      "cell_type": "markdown",
      "metadata": {
        "id": "EpyCYNrcDjpM"
      },
      "source": [
        "## Part B - The data [15 marks]"
      ]
    },
    {
      "cell_type": "markdown",
      "metadata": {
        "id": "hkOantYsDjpN"
      },
      "source": [
        "**Answer:**"
      ]
    },
    {
      "cell_type": "markdown",
      "metadata": {
        "id": "t2mpa-5tDjpN"
      },
      "source": [
        "Lets download the next file from my github"
      ]
    },
    {
      "cell_type": "code",
      "source": [
        "!wget https://raw.githubusercontent.com/Clarke-Jools-36/DataAnalysis22/main/Observedwaveform.csv"
      ],
      "metadata": {
        "id": "ABX8kJgBIV5A",
        "outputId": "68e79224-05f8-4672-d733-84392c98a4dd",
        "colab": {
          "base_uri": "https://localhost:8080/"
        }
      },
      "execution_count": 166,
      "outputs": [
        {
          "output_type": "stream",
          "name": "stdout",
          "text": [
            "--2022-12-10 23:24:51--  https://raw.githubusercontent.com/Clarke-Jools-36/DataAnalysis22/main/Observedwaveform.csv\n",
            "Resolving raw.githubusercontent.com (raw.githubusercontent.com)... 185.199.109.133, 185.199.108.133, 185.199.110.133, ...\n",
            "Connecting to raw.githubusercontent.com (raw.githubusercontent.com)|185.199.109.133|:443... connected.\n",
            "HTTP request sent, awaiting response... 200 OK\n",
            "Length: 26465 (26K) [text/plain]\n",
            "Saving to: ‘Observedwaveform.csv.7’\n",
            "\n",
            "\rObservedwaveform.cs   0%[                    ]       0  --.-KB/s               \rObservedwaveform.cs 100%[===================>]  25.84K  --.-KB/s    in 0.002s  \n",
            "\n",
            "2022-12-10 23:24:51 (16.3 MB/s) - ‘Observedwaveform.csv.7’ saved [26465/26465]\n",
            "\n"
          ]
        }
      ]
    },
    {
      "cell_type": "markdown",
      "source": [
        "and check out the head, and then plot the data"
      ],
      "metadata": {
        "id": "5GCYJpTjIaXf"
      }
    },
    {
      "cell_type": "code",
      "source": [
        "obsIn=pd.read_csv('/content/Observedwaveform.csv')\n",
        "print(f\"#### length of data: {len(obsIn)}\\n\\n\")\n",
        "obsIn.head(8)"
      ],
      "metadata": {
        "id": "crupXwclIbFw",
        "outputId": "90ad9caa-7e25-49a2-8818-bdb59ed88905",
        "colab": {
          "base_uri": "https://localhost:8080/",
          "height": 0
        }
      },
      "execution_count": 167,
      "outputs": [
        {
          "output_type": "stream",
          "name": "stdout",
          "text": [
            "#### length of data: 636\n",
            "\n",
            "\n"
          ]
        },
        {
          "output_type": "execute_result",
          "data": {
            "text/plain": [
              "         strain      time (s)\n",
              "0  8.101405e-23  1.205952e+09\n",
              "1  1.019082e-22  1.205952e+09\n",
              "2  1.226521e-22  1.205952e+09\n",
              "3  1.396412e-22  1.205952e+09\n",
              "4  1.522380e-22  1.205952e+09\n",
              "5  1.633110e-22  1.205952e+09\n",
              "6  1.775375e-22  1.205952e+09\n",
              "7  1.983757e-22  1.205952e+09"
            ],
            "text/html": [
              "\n",
              "  <div id=\"df-2bed8f79-a54c-4c40-babf-31c455cdb40f\">\n",
              "    <div class=\"colab-df-container\">\n",
              "      <div>\n",
              "<style scoped>\n",
              "    .dataframe tbody tr th:only-of-type {\n",
              "        vertical-align: middle;\n",
              "    }\n",
              "\n",
              "    .dataframe tbody tr th {\n",
              "        vertical-align: top;\n",
              "    }\n",
              "\n",
              "    .dataframe thead th {\n",
              "        text-align: right;\n",
              "    }\n",
              "</style>\n",
              "<table border=\"1\" class=\"dataframe\">\n",
              "  <thead>\n",
              "    <tr style=\"text-align: right;\">\n",
              "      <th></th>\n",
              "      <th>strain</th>\n",
              "      <th>time (s)</th>\n",
              "    </tr>\n",
              "  </thead>\n",
              "  <tbody>\n",
              "    <tr>\n",
              "      <th>0</th>\n",
              "      <td>8.101405e-23</td>\n",
              "      <td>1.205952e+09</td>\n",
              "    </tr>\n",
              "    <tr>\n",
              "      <th>1</th>\n",
              "      <td>1.019082e-22</td>\n",
              "      <td>1.205952e+09</td>\n",
              "    </tr>\n",
              "    <tr>\n",
              "      <th>2</th>\n",
              "      <td>1.226521e-22</td>\n",
              "      <td>1.205952e+09</td>\n",
              "    </tr>\n",
              "    <tr>\n",
              "      <th>3</th>\n",
              "      <td>1.396412e-22</td>\n",
              "      <td>1.205952e+09</td>\n",
              "    </tr>\n",
              "    <tr>\n",
              "      <th>4</th>\n",
              "      <td>1.522380e-22</td>\n",
              "      <td>1.205952e+09</td>\n",
              "    </tr>\n",
              "    <tr>\n",
              "      <th>5</th>\n",
              "      <td>1.633110e-22</td>\n",
              "      <td>1.205952e+09</td>\n",
              "    </tr>\n",
              "    <tr>\n",
              "      <th>6</th>\n",
              "      <td>1.775375e-22</td>\n",
              "      <td>1.205952e+09</td>\n",
              "    </tr>\n",
              "    <tr>\n",
              "      <th>7</th>\n",
              "      <td>1.983757e-22</td>\n",
              "      <td>1.205952e+09</td>\n",
              "    </tr>\n",
              "  </tbody>\n",
              "</table>\n",
              "</div>\n",
              "      <button class=\"colab-df-convert\" onclick=\"convertToInteractive('df-2bed8f79-a54c-4c40-babf-31c455cdb40f')\"\n",
              "              title=\"Convert this dataframe to an interactive table.\"\n",
              "              style=\"display:none;\">\n",
              "        \n",
              "  <svg xmlns=\"http://www.w3.org/2000/svg\" height=\"24px\"viewBox=\"0 0 24 24\"\n",
              "       width=\"24px\">\n",
              "    <path d=\"M0 0h24v24H0V0z\" fill=\"none\"/>\n",
              "    <path d=\"M18.56 5.44l.94 2.06.94-2.06 2.06-.94-2.06-.94-.94-2.06-.94 2.06-2.06.94zm-11 1L8.5 8.5l.94-2.06 2.06-.94-2.06-.94L8.5 2.5l-.94 2.06-2.06.94zm10 10l.94 2.06.94-2.06 2.06-.94-2.06-.94-.94-2.06-.94 2.06-2.06.94z\"/><path d=\"M17.41 7.96l-1.37-1.37c-.4-.4-.92-.59-1.43-.59-.52 0-1.04.2-1.43.59L10.3 9.45l-7.72 7.72c-.78.78-.78 2.05 0 2.83L4 21.41c.39.39.9.59 1.41.59.51 0 1.02-.2 1.41-.59l7.78-7.78 2.81-2.81c.8-.78.8-2.07 0-2.86zM5.41 20L4 18.59l7.72-7.72 1.47 1.35L5.41 20z\"/>\n",
              "  </svg>\n",
              "      </button>\n",
              "      \n",
              "  <style>\n",
              "    .colab-df-container {\n",
              "      display:flex;\n",
              "      flex-wrap:wrap;\n",
              "      gap: 12px;\n",
              "    }\n",
              "\n",
              "    .colab-df-convert {\n",
              "      background-color: #E8F0FE;\n",
              "      border: none;\n",
              "      border-radius: 50%;\n",
              "      cursor: pointer;\n",
              "      display: none;\n",
              "      fill: #1967D2;\n",
              "      height: 32px;\n",
              "      padding: 0 0 0 0;\n",
              "      width: 32px;\n",
              "    }\n",
              "\n",
              "    .colab-df-convert:hover {\n",
              "      background-color: #E2EBFA;\n",
              "      box-shadow: 0px 1px 2px rgba(60, 64, 67, 0.3), 0px 1px 3px 1px rgba(60, 64, 67, 0.15);\n",
              "      fill: #174EA6;\n",
              "    }\n",
              "\n",
              "    [theme=dark] .colab-df-convert {\n",
              "      background-color: #3B4455;\n",
              "      fill: #D2E3FC;\n",
              "    }\n",
              "\n",
              "    [theme=dark] .colab-df-convert:hover {\n",
              "      background-color: #434B5C;\n",
              "      box-shadow: 0px 1px 3px 1px rgba(0, 0, 0, 0.15);\n",
              "      filter: drop-shadow(0px 1px 2px rgba(0, 0, 0, 0.3));\n",
              "      fill: #FFFFFF;\n",
              "    }\n",
              "  </style>\n",
              "\n",
              "      <script>\n",
              "        const buttonEl =\n",
              "          document.querySelector('#df-2bed8f79-a54c-4c40-babf-31c455cdb40f button.colab-df-convert');\n",
              "        buttonEl.style.display =\n",
              "          google.colab.kernel.accessAllowed ? 'block' : 'none';\n",
              "\n",
              "        async function convertToInteractive(key) {\n",
              "          const element = document.querySelector('#df-2bed8f79-a54c-4c40-babf-31c455cdb40f');\n",
              "          const dataTable =\n",
              "            await google.colab.kernel.invokeFunction('convertToInteractive',\n",
              "                                                     [key], {});\n",
              "          if (!dataTable) return;\n",
              "\n",
              "          const docLinkHtml = 'Like what you see? Visit the ' +\n",
              "            '<a target=\"_blank\" href=https://colab.research.google.com/notebooks/data_table.ipynb>data table notebook</a>'\n",
              "            + ' to learn more about interactive tables.';\n",
              "          element.innerHTML = '';\n",
              "          dataTable['output_type'] = 'display_data';\n",
              "          await google.colab.output.renderOutput(dataTable, element);\n",
              "          const docLink = document.createElement('div');\n",
              "          docLink.innerHTML = docLinkHtml;\n",
              "          element.appendChild(docLink);\n",
              "        }\n",
              "      </script>\n",
              "    </div>\n",
              "  </div>\n",
              "  "
            ]
          },
          "metadata": {},
          "execution_count": 167
        }
      ]
    },
    {
      "cell_type": "code",
      "source": [
        "s_obs = obsIn[\"strain\"]\n",
        "t_obs_gps = obsIn[\"time (s)\"]\n",
        "\n",
        "plt.plot(t_obs_gps,s_obs,\"k\", label=\"Observed GPS\")\n",
        "plt.xlabel(\"GPS Time / S\")\n",
        "plt.ylabel(\"Strain / unitless\")\n",
        "plt.legend()"
      ],
      "metadata": {
        "id": "0CU05XOqIgzJ",
        "outputId": "a5220a80-898f-41b9-d379-005ba6b7e3bb",
        "colab": {
          "base_uri": "https://localhost:8080/",
          "height": 0
        }
      },
      "execution_count": 168,
      "outputs": [
        {
          "output_type": "execute_result",
          "data": {
            "text/plain": [
              "<matplotlib.legend.Legend at 0x7f0dc86faa60>"
            ]
          },
          "metadata": {},
          "execution_count": 168
        },
        {
          "output_type": "display_data",
          "data": {
            "text/plain": [
              "<Figure size 432x288 with 1 Axes>"
            ],
            "image/png": "[encoded data removed]"
          },
          "metadata": {
            "needs_background": "light"
          }
        }
      ]
    },
    {
      "cell_type": "markdown",
      "source": [
        "The beginning of the sample begins at zero, rather than the GW event occuring at zero. As we are told that the GPS time of the merger for your waveform is 1205951542.153363s, this means we can shift the data so that it is comparable with other samples"
      ],
      "metadata": {
        "id": "EON8lIPfIqSx"
      }
    },
    {
      "cell_type": "code",
      "source": [
        "t_obs = t_obs_gps - 1205951542.153363\n",
        "\n",
        "plt.plot(t_obs,s_obs,\"k\", label=\"Observed\")\n",
        "plt.xlabel(\"Merger Normalised Time / S\")\n",
        "plt.ylabel(\"Strain / unitless\")\n",
        "plt.legend()"
      ],
      "metadata": {
        "id": "_WA5ADNrI1ZB",
        "outputId": "1a8313c2-ac06-4e8a-84ad-156c53f9cd0c",
        "colab": {
          "base_uri": "https://localhost:8080/",
          "height": 0
        }
      },
      "execution_count": 169,
      "outputs": [
        {
          "output_type": "execute_result",
          "data": {
            "text/plain": [
              "<matplotlib.legend.Legend at 0x7f0dc8672670>"
            ]
          },
          "metadata": {},
          "execution_count": 169
        },
        {
          "output_type": "display_data",
          "data": {
            "text/plain": [
              "<Figure size 432x288 with 1 Axes>"
            ],
            "image/png": "[encoded data removed]"
          },
          "metadata": {
            "needs_background": "light"
          }
        }
      ]
    },
    {
      "cell_type": "markdown",
      "source": [
        "We can get a pure noise sample by taking data from after the GW has occurred. We need to be sure to leave a short amount of time for the aftershock to subside, so we can't take a noise profile directly from 0s."
      ],
      "metadata": {
        "id": "3YPgm5_GJHAB"
      }
    },
    {
      "cell_type": "code",
      "source": [
        "plt.plot(t_obs,s_obs,\"orange\", label = \"Observed Signal\")\n",
        "\n",
        "purge = 400\n",
        "\n",
        "plt.plot(t_obs[purge:],s_obs[purge:],\"k\", label = \"Observed Noise\")\n",
        "\n",
        "plt.legend()\n",
        "\n",
        "plt.xlabel(\"Merger Normalised Time / S\")\n",
        "plt.ylabel(\"Strain / unitless\")"
      ],
      "metadata": {
        "id": "oa_R7Qh4Jd5n",
        "outputId": "0035a6bf-0e11-4b95-e051-ded0f918d9a4",
        "colab": {
          "base_uri": "https://localhost:8080/",
          "height": 0
        }
      },
      "execution_count": 170,
      "outputs": [
        {
          "output_type": "execute_result",
          "data": {
            "text/plain": [
              "Text(0, 0.5, 'Strain / unitless')"
            ]
          },
          "metadata": {},
          "execution_count": 170
        },
        {
          "output_type": "display_data",
          "data": {
            "text/plain": [
              "<Figure size 432x288 with 1 Axes>"
            ],
            "image/png": "[encoded data removed]"
          },
          "metadata": {
            "needs_background": "light"
          }
        }
      ]
    },
    {
      "cell_type": "markdown",
      "source": [
        "If we purge everything except the last 400 samples, then we get a clean noise profile. This can be used to find our mean and standard deviation"
      ],
      "metadata": {
        "id": "-tGOIojmJqNI"
      }
    },
    {
      "cell_type": "code",
      "source": [
        "noise_obs = s_obs[purge:]\n",
        "\n",
        "mean_obs = noise_obs.mean()\n",
        "std_obs = noise_obs.std()\n",
        "\n",
        "print(f\"Observed noise has mean {mean_obs:.4e} and standard deviation {std_obs:.4e}\")"
      ],
      "metadata": {
        "id": "RyxOzBZ5Jh5I",
        "outputId": "d4874cdb-7750-482f-c70c-8e9245b5e941",
        "colab": {
          "base_uri": "https://localhost:8080/"
        }
      },
      "execution_count": 171,
      "outputs": [
        {
          "output_type": "stream",
          "name": "stdout",
          "text": [
            "Observed noise has mean 2.1502e-24 and standard deviation 4.8026e-23\n"
          ]
        }
      ]
    },
    {
      "cell_type": "markdown",
      "source": [
        "We can use this data to plot a distribution of our noise profile"
      ],
      "metadata": {
        "id": "VXGN9Gk4KEcG"
      }
    },
    {
      "cell_type": "code",
      "source": [
        "x = np.linspace(mean_obs-(4*std_obs), mean_obs+(4*std_obs), 500)\n",
        "plt.plot(x ,stats.norm.pdf(x, mean_obs, std_obs), \"k\", label=\"Obs Noise Distribution\")\n",
        "\n",
        "plt.ylabel(\"Probability Density\")\n",
        "plt.xlabel(\"Strain / unitless\")\n",
        "plt.legend(loc=\"upper left\")"
      ],
      "metadata": {
        "id": "X8rnYe7PJk3w",
        "outputId": "7ae17160-b005-4746-fd81-34afad0980a6",
        "colab": {
          "base_uri": "https://localhost:8080/",
          "height": 0
        }
      },
      "execution_count": 172,
      "outputs": [
        {
          "output_type": "execute_result",
          "data": {
            "text/plain": [
              "<matplotlib.legend.Legend at 0x7f0dc85a0760>"
            ]
          },
          "metadata": {},
          "execution_count": 172
        },
        {
          "output_type": "display_data",
          "data": {
            "text/plain": [
              "<Figure size 432x288 with 1 Axes>"
            ],
            "image/png": "[encoded data removed]"
          },
          "metadata": {
            "needs_background": "light"
          }
        }
      ]
    },
    {
      "cell_type": "markdown",
      "source": [
        "This is not particularily useful however as the noise is averaged about zero, so any mean will give us approzimately zero and not a true noise level. By squaring every value of the noise (thus removing negatives), we can find the rms noise value which is a better description of noise amplitude"
      ],
      "metadata": {
        "id": "kld4m-SBKLSL"
      }
    },
    {
      "cell_type": "code",
      "source": [
        "rms_obs = np.sqrt(np.mean(noise_obs**2))\n",
        "\n",
        "print(f\"Observed rms noise is {rms_obs:.4e}\")"
      ],
      "metadata": {
        "id": "Z02iB8RmKGpu",
        "outputId": "eaf24beb-90c7-4862-dc57-f406425e2278",
        "colab": {
          "base_uri": "https://localhost:8080/"
        }
      },
      "execution_count": 173,
      "outputs": [
        {
          "output_type": "stream",
          "name": "stdout",
          "text": [
            "Observed rms noise is 4.7972e-23\n"
          ]
        }
      ]
    },
    {
      "cell_type": "markdown",
      "metadata": {
        "id": "s2bA7jDwDjpN"
      },
      "source": [
        "***"
      ]
    },
    {
      "cell_type": "markdown",
      "metadata": {
        "id": "01lt2fEaDjpN"
      },
      "source": [
        "## Part C - Interpolate reference model to match the observed data time sampling [15 marks]"
      ]
    },
    {
      "cell_type": "markdown",
      "metadata": {
        "id": "_epxgSmmDjpN"
      },
      "source": [
        "**Answer:**"
      ]
    },
    {
      "cell_type": "markdown",
      "metadata": {
        "id": "aLwJMwFnDjpO"
      },
      "source": [
        "First lets get the file from github"
      ]
    },
    {
      "cell_type": "code",
      "source": [
        "!wget https://raw.githubusercontent.com/Clarke-Jools-36/DataAnalysis22/main/mockData_Mtot40Msun_Dist1Mpc.csv"
      ],
      "metadata": {
        "id": "Ct3r9RbsN7pF",
        "outputId": "103d1b42-2247-4da5-8725-e6e406e0861b",
        "colab": {
          "base_uri": "https://localhost:8080/"
        }
      },
      "execution_count": 174,
      "outputs": [
        {
          "output_type": "stream",
          "name": "stdout",
          "text": [
            "--2022-12-10 23:24:52--  https://raw.githubusercontent.com/Clarke-Jools-36/DataAnalysis22/main/mockData_Mtot40Msun_Dist1Mpc.csv\n",
            "Resolving raw.githubusercontent.com (raw.githubusercontent.com)... 185.199.110.133, 185.199.108.133, 185.199.109.133, ...\n",
            "Connecting to raw.githubusercontent.com (raw.githubusercontent.com)|185.199.110.133|:443... connected.\n",
            "HTTP request sent, awaiting response... 200 OK\n",
            "Length: 18875 (18K) [text/plain]\n",
            "Saving to: ‘mockData_Mtot40Msun_Dist1Mpc.csv.7’\n",
            "\n",
            "\r          mockData_   0%[                    ]       0  --.-KB/s               \rmockData_Mtot40Msun 100%[===================>]  18.43K  --.-KB/s    in 0.001s  \n",
            "\n",
            "2022-12-10 23:24:52 (22.9 MB/s) - ‘mockData_Mtot40Msun_Dist1Mpc.csv.7’ saved [18875/18875]\n",
            "\n"
          ]
        }
      ]
    },
    {
      "cell_type": "markdown",
      "source": [
        "and then open it using pandas"
      ],
      "metadata": {
        "id": "aDueNwqgOF0i"
      }
    },
    {
      "cell_type": "code",
      "source": [
        "mockIn=pd.read_csv('mockData_Mtot40Msun_Dist1Mpc.csv')\n",
        "print(f\"#### length of data: {len(mockIn)}\\n\\n\")\n",
        "mockIn.head(8)"
      ],
      "metadata": {
        "id": "y4rfiwo-OLZb",
        "outputId": "ad8029a5-ec38-4606-eead-62efc1ea35e0",
        "colab": {
          "base_uri": "https://localhost:8080/",
          "height": 352
        }
      },
      "execution_count": 175,
      "outputs": [
        {
          "output_type": "stream",
          "name": "stdout",
          "text": [
            "#### length of data: 440\n",
            "\n",
            "\n"
          ]
        },
        {
          "output_type": "execute_result",
          "data": {
            "text/plain": [
              "         strain  time (s)\n",
              "0  1.545156e-19 -0.164658\n",
              "1  1.171263e-19 -0.164170\n",
              "2  1.082966e-19 -0.163681\n",
              "3  1.389174e-19 -0.163193\n",
              "4  2.190045e-19 -0.162704\n",
              "5  1.252695e-19 -0.162216\n",
              "6  2.021146e-19 -0.161728\n",
              "7  1.249938e-19 -0.161240"
            ],
            "text/html": [
              "\n",
              "  <div id=\"df-f0901793-9ad1-4e03-a098-60d6e83062f1\">\n",
              "    <div class=\"colab-df-container\">\n",
              "      <div>\n",
              "<style scoped>\n",
              "    .dataframe tbody tr th:only-of-type {\n",
              "        vertical-align: middle;\n",
              "    }\n",
              "\n",
              "    .dataframe tbody tr th {\n",
              "        vertical-align: top;\n",
              "    }\n",
              "\n",
              "    .dataframe thead th {\n",
              "        text-align: right;\n",
              "    }\n",
              "</style>\n",
              "<table border=\"1\" class=\"dataframe\">\n",
              "  <thead>\n",
              "    <tr style=\"text-align: right;\">\n",
              "      <th></th>\n",
              "      <th>strain</th>\n",
              "      <th>time (s)</th>\n",
              "    </tr>\n",
              "  </thead>\n",
              "  <tbody>\n",
              "    <tr>\n",
              "      <th>0</th>\n",
              "      <td>1.545156e-19</td>\n",
              "      <td>-0.164658</td>\n",
              "    </tr>\n",
              "    <tr>\n",
              "      <th>1</th>\n",
              "      <td>1.171263e-19</td>\n",
              "      <td>-0.164170</td>\n",
              "    </tr>\n",
              "    <tr>\n",
              "      <th>2</th>\n",
              "      <td>1.082966e-19</td>\n",
              "      <td>-0.163681</td>\n",
              "    </tr>\n",
              "    <tr>\n",
              "      <th>3</th>\n",
              "      <td>1.389174e-19</td>\n",
              "      <td>-0.163193</td>\n",
              "    </tr>\n",
              "    <tr>\n",
              "      <th>4</th>\n",
              "      <td>2.190045e-19</td>\n",
              "      <td>-0.162704</td>\n",
              "    </tr>\n",
              "    <tr>\n",
              "      <th>5</th>\n",
              "      <td>1.252695e-19</td>\n",
              "      <td>-0.162216</td>\n",
              "    </tr>\n",
              "    <tr>\n",
              "      <th>6</th>\n",
              "      <td>2.021146e-19</td>\n",
              "      <td>-0.161728</td>\n",
              "    </tr>\n",
              "    <tr>\n",
              "      <th>7</th>\n",
              "      <td>1.249938e-19</td>\n",
              "      <td>-0.161240</td>\n",
              "    </tr>\n",
              "  </tbody>\n",
              "</table>\n",
              "</div>\n",
              "      <button class=\"colab-df-convert\" onclick=\"convertToInteractive('df-f0901793-9ad1-4e03-a098-60d6e83062f1')\"\n",
              "              title=\"Convert this dataframe to an interactive table.\"\n",
              "              style=\"display:none;\">\n",
              "        \n",
              "  <svg xmlns=\"http://www.w3.org/2000/svg\" height=\"24px\"viewBox=\"0 0 24 24\"\n",
              "       width=\"24px\">\n",
              "    <path d=\"M0 0h24v24H0V0z\" fill=\"none\"/>\n",
              "    <path d=\"M18.56 5.44l.94 2.06.94-2.06 2.06-.94-2.06-.94-.94-2.06-.94 2.06-2.06.94zm-11 1L8.5 8.5l.94-2.06 2.06-.94-2.06-.94L8.5 2.5l-.94 2.06-2.06.94zm10 10l.94 2.06.94-2.06 2.06-.94-2.06-.94-.94-2.06-.94 2.06-2.06.94z\"/><path d=\"M17.41 7.96l-1.37-1.37c-.4-.4-.92-.59-1.43-.59-.52 0-1.04.2-1.43.59L10.3 9.45l-7.72 7.72c-.78.78-.78 2.05 0 2.83L4 21.41c.39.39.9.59 1.41.59.51 0 1.02-.2 1.41-.59l7.78-7.78 2.81-2.81c.8-.78.8-2.07 0-2.86zM5.41 20L4 18.59l7.72-7.72 1.47 1.35L5.41 20z\"/>\n",
              "  </svg>\n",
              "      </button>\n",
              "      \n",
              "  <style>\n",
              "    .colab-df-container {\n",
              "      display:flex;\n",
              "      flex-wrap:wrap;\n",
              "      gap: 12px;\n",
              "    }\n",
              "\n",
              "    .colab-df-convert {\n",
              "      background-color: #E8F0FE;\n",
              "      border: none;\n",
              "      border-radius: 50%;\n",
              "      cursor: pointer;\n",
              "      display: none;\n",
              "      fill: #1967D2;\n",
              "      height: 32px;\n",
              "      padding: 0 0 0 0;\n",
              "      width: 32px;\n",
              "    }\n",
              "\n",
              "    .colab-df-convert:hover {\n",
              "      background-color: #E2EBFA;\n",
              "      box-shadow: 0px 1px 2px rgba(60, 64, 67, 0.3), 0px 1px 3px 1px rgba(60, 64, 67, 0.15);\n",
              "      fill: #174EA6;\n",
              "    }\n",
              "\n",
              "    [theme=dark] .colab-df-convert {\n",
              "      background-color: #3B4455;\n",
              "      fill: #D2E3FC;\n",
              "    }\n",
              "\n",
              "    [theme=dark] .colab-df-convert:hover {\n",
              "      background-color: #434B5C;\n",
              "      box-shadow: 0px 1px 3px 1px rgba(0, 0, 0, 0.15);\n",
              "      filter: drop-shadow(0px 1px 2px rgba(0, 0, 0, 0.3));\n",
              "      fill: #FFFFFF;\n",
              "    }\n",
              "  </style>\n",
              "\n",
              "      <script>\n",
              "        const buttonEl =\n",
              "          document.querySelector('#df-f0901793-9ad1-4e03-a098-60d6e83062f1 button.colab-df-convert');\n",
              "        buttonEl.style.display =\n",
              "          google.colab.kernel.accessAllowed ? 'block' : 'none';\n",
              "\n",
              "        async function convertToInteractive(key) {\n",
              "          const element = document.querySelector('#df-f0901793-9ad1-4e03-a098-60d6e83062f1');\n",
              "          const dataTable =\n",
              "            await google.colab.kernel.invokeFunction('convertToInteractive',\n",
              "                                                     [key], {});\n",
              "          if (!dataTable) return;\n",
              "\n",
              "          const docLinkHtml = 'Like what you see? Visit the ' +\n",
              "            '<a target=\"_blank\" href=https://colab.research.google.com/notebooks/data_table.ipynb>data table notebook</a>'\n",
              "            + ' to learn more about interactive tables.';\n",
              "          element.innerHTML = '';\n",
              "          dataTable['output_type'] = 'display_data';\n",
              "          await google.colab.output.renderOutput(dataTable, element);\n",
              "          const docLink = document.createElement('div');\n",
              "          docLink.innerHTML = docLinkHtml;\n",
              "          element.appendChild(docLink);\n",
              "        }\n",
              "      </script>\n",
              "    </div>\n",
              "  </div>\n",
              "  "
            ]
          },
          "metadata": {},
          "execution_count": 175
        }
      ]
    },
    {
      "cell_type": "code",
      "source": [
        "s_mock = mockIn[\"strain\"]\n",
        "t_mock = mockIn[\"time (s)\"]\n",
        "\n",
        "plt.plot(t_mock,s_mock,\"k\", label=\"Mock\")\n",
        "plt.xlabel(\"Time / S\")\n",
        "plt.ylabel(\"Strain / unitless\")\n",
        "plt.legend()"
      ],
      "metadata": {
        "id": "0SjzncVPOR6i",
        "outputId": "31893cc7-e6b9-49c8-c952-9903db78145e",
        "colab": {
          "base_uri": "https://localhost:8080/",
          "height": 307
        }
      },
      "execution_count": 176,
      "outputs": [
        {
          "output_type": "execute_result",
          "data": {
            "text/plain": [
              "<matplotlib.legend.Legend at 0x7f0dc856eaf0>"
            ]
          },
          "metadata": {},
          "execution_count": 176
        },
        {
          "output_type": "display_data",
          "data": {
            "text/plain": [
              "<Figure size 432x288 with 1 Axes>"
            ],
            "image/png": "[encoded data removed]"
          },
          "metadata": {
            "needs_background": "light"
          }
        }
      ]
    },
    {
      "cell_type": "markdown",
      "source": [
        "The waveform starts at some point $t_{min}$. Lets find it!"
      ],
      "metadata": {
        "id": "EwVSksw0Hnwd"
      }
    },
    {
      "cell_type": "code",
      "source": [
        "t_mock_min = np.min(t_mock)\n",
        "\n",
        "print(f\"Mock t_min = {t_mock_min:.4f}\")"
      ],
      "metadata": {
        "id": "M01ySP8qHxW8",
        "outputId": "71209a3f-7d84-4060-b685-7287e2a8b9c6",
        "colab": {
          "base_uri": "https://localhost:8080/"
        }
      },
      "execution_count": 177,
      "outputs": [
        {
          "output_type": "stream",
          "name": "stdout",
          "text": [
            "Mock t_min = -0.1647\n"
          ]
        }
      ]
    },
    {
      "cell_type": "markdown",
      "source": [
        "Now we know this, lets discard all the t and s data we dont need from both the mock and observed arrays so they are the same length. While we can use any of the three options for defining the truth array, using only numpy functions to work with numpy arrays is both faster, and friendlier for external compilers to parse such as numba"
      ],
      "metadata": {
        "id": "yubpM1IQNM-O"
      }
    },
    {
      "cell_type": "code",
      "source": [
        "print(f\"original observed time array shape = {t_obs.shape}\")\n",
        "#truth_array = np.logical_and(t_mock_min<t_obs, t_obs<=0)\n",
        "#truth_array = np.where((t_mock_min<t_obs)&(t_obs<=0))[0]\n",
        "truth_array = np.where(np.logical_and(t_mock_min<t_obs, t_obs<=0))[0]\n",
        "t_obs = t_obs[truth_array]\n",
        "s_obs = s_obs[truth_array]\n",
        "print(f\"truncated observed time array shape = {t_obs.shape}\")\n",
        "\n",
        "print(f\"original mock time array shape = {t_mock.shape}\")\n",
        "#truth_array = t_mock<=0\n",
        "truth_array = np.where(t_mock<=0)[0]\n",
        "t_mock = t_mock[truth_array]\n",
        "s_mock = s_mock[truth_array]\n",
        "print(f\"truncated mock time array shape = {t_mock.shape}\")\n",
        "print(f\"does {t_mock.shape} = {t_obs.shape}? {t_mock.shape==t_obs.shape}\")"
      ],
      "metadata": {
        "id": "FQ1UoQbuNLod",
        "outputId": "18933406-3b56-48fa-86ed-2801a030165c",
        "colab": {
          "base_uri": "https://localhost:8080/"
        }
      },
      "execution_count": 178,
      "outputs": [
        {
          "output_type": "stream",
          "name": "stdout",
          "text": [
            "original observed time array shape = (636,)\n",
            "truncated observed time array shape = (337,)\n",
            "original mock time array shape = (440,)\n",
            "truncated mock time array shape = (338,)\n",
            "does (338,) = (337,)? False\n"
          ]
        }
      ]
    },
    {
      "cell_type": "markdown",
      "source": [],
      "metadata": {
        "id": "L_LfpPl-OwVh"
      }
    },
    {
      "cell_type": "code",
      "source": [
        "plt.plot(t_obs,s_obs,\"k\", label=\"Observed\")\n",
        "plt.ylabel(\"Observed Strain / unitless\")\n",
        "plt.legend(loc=\"upper left\")\n",
        "plt.xlabel(\"Time / S\")\n",
        "\n",
        "plt.twinx()\n",
        "plt.plot(t_mock,s_mock,\"r\", label=\"Mock\")\n",
        "plt.ylabel(\"Mock Strain / unitless\")\n",
        "plt.legend(loc=\"upper right\")"
      ],
      "metadata": {
        "id": "gsKALKWzLYI1",
        "outputId": "d2e4fb55-ea7d-4480-eaaf-bc29b27ba3fa",
        "colab": {
          "base_uri": "https://localhost:8080/",
          "height": 307
        }
      },
      "execution_count": 179,
      "outputs": [
        {
          "output_type": "execute_result",
          "data": {
            "text/plain": [
              "<matplotlib.legend.Legend at 0x7f0dc8553af0>"
            ]
          },
          "metadata": {},
          "execution_count": 179
        },
        {
          "output_type": "display_data",
          "data": {
            "text/plain": [
              "<Figure size 432x288 with 2 Axes>"
            ],
            "image/png": "[encoded data removed]"
          },
          "metadata": {
            "needs_background": "light"
          }
        }
      ]
    },
    {
      "cell_type": "markdown",
      "source": [
        "Because the two are orders of magnitude different in strain, i needed to plot them using two seperate y axis, but you can see they are now matching in the time axis range, although they do not have the same $\\Delta t$\n",
        "\n",
        "Lets get the reference file from github"
      ],
      "metadata": {
        "id": "YKevGop7RJAt"
      }
    },
    {
      "cell_type": "code",
      "source": [
        "!wget https://raw.githubusercontent.com/Clarke-Jools-36/DataAnalysis22/main/reference_Mtot40Msun_Dist1Mpc.csv"
      ],
      "metadata": {
        "id": "P11o6GY0Rixx",
        "outputId": "dd278fe7-900c-4991-b533-98078a0f8411",
        "colab": {
          "base_uri": "https://localhost:8080/"
        }
      },
      "execution_count": 180,
      "outputs": [
        {
          "output_type": "stream",
          "name": "stdout",
          "text": [
            "--2022-12-10 23:24:53--  https://raw.githubusercontent.com/Clarke-Jools-36/DataAnalysis22/main/reference_Mtot40Msun_Dist1Mpc.csv\n",
            "Resolving raw.githubusercontent.com (raw.githubusercontent.com)... 185.199.110.133, 185.199.111.133, 185.199.108.133, ...\n",
            "Connecting to raw.githubusercontent.com (raw.githubusercontent.com)|185.199.110.133|:443... connected.\n",
            "HTTP request sent, awaiting response... 200 OK\n",
            "Length: 997473 (974K) [text/plain]\n",
            "Saving to: ‘reference_Mtot40Msun_Dist1Mpc.csv.3’\n",
            "\n",
            "\r          reference   0%[                    ]       0  --.-KB/s               \rreference_Mtot40Msu 100%[===================>] 974.09K  --.-KB/s    in 0.03s   \n",
            "\n",
            "2022-12-10 23:24:53 (31.8 MB/s) - ‘reference_Mtot40Msun_Dist1Mpc.csv.3’ saved [997473/997473]\n",
            "\n"
          ]
        }
      ]
    },
    {
      "cell_type": "code",
      "source": [
        "refIn=pd.read_csv('reference_Mtot40Msun_Dist1Mpc.csv')\n",
        "print(f\"#### length of data: {len(refIn)}\\n\\n\")\n",
        "refIn.head(8)"
      ],
      "metadata": {
        "id": "XTgzxHMJRtKa",
        "outputId": "60dd1e7e-39b4-490d-9987-a8398b3b9a8e",
        "colab": {
          "base_uri": "https://localhost:8080/",
          "height": 352
        }
      },
      "execution_count": 181,
      "outputs": [
        {
          "output_type": "stream",
          "name": "stdout",
          "text": [
            "#### length of data: 24622\n",
            "\n",
            "\n"
          ]
        },
        {
          "output_type": "execute_result",
          "data": {
            "text/plain": [
              "         strain   time (s)\n",
              "0 -6.162294e-20 -11.946102\n",
              "1 -6.140841e-20 -11.945614\n",
              "2 -6.113607e-20 -11.945126\n",
              "3 -6.080617e-20 -11.944637\n",
              "4 -6.041902e-20 -11.944149\n",
              "5 -5.997498e-20 -11.943661\n",
              "6 -5.947447e-20 -11.943172\n",
              "7 -5.891795e-20 -11.942684"
            ],
            "text/html": [
              "\n",
              "  <div id=\"df-473db6b3-eaf6-44d9-887f-8d74f13fbabd\">\n",
              "    <div class=\"colab-df-container\">\n",
              "      <div>\n",
              "<style scoped>\n",
              "    .dataframe tbody tr th:only-of-type {\n",
              "        vertical-align: middle;\n",
              "    }\n",
              "\n",
              "    .dataframe tbody tr th {\n",
              "        vertical-align: top;\n",
              "    }\n",
              "\n",
              "    .dataframe thead th {\n",
              "        text-align: right;\n",
              "    }\n",
              "</style>\n",
              "<table border=\"1\" class=\"dataframe\">\n",
              "  <thead>\n",
              "    <tr style=\"text-align: right;\">\n",
              "      <th></th>\n",
              "      <th>strain</th>\n",
              "      <th>time (s)</th>\n",
              "    </tr>\n",
              "  </thead>\n",
              "  <tbody>\n",
              "    <tr>\n",
              "      <th>0</th>\n",
              "      <td>-6.162294e-20</td>\n",
              "      <td>-11.946102</td>\n",
              "    </tr>\n",
              "    <tr>\n",
              "      <th>1</th>\n",
              "      <td>-6.140841e-20</td>\n",
              "      <td>-11.945614</td>\n",
              "    </tr>\n",
              "    <tr>\n",
              "      <th>2</th>\n",
              "      <td>-6.113607e-20</td>\n",
              "      <td>-11.945126</td>\n",
              "    </tr>\n",
              "    <tr>\n",
              "      <th>3</th>\n",
              "      <td>-6.080617e-20</td>\n",
              "      <td>-11.944637</td>\n",
              "    </tr>\n",
              "    <tr>\n",
              "      <th>4</th>\n",
              "      <td>-6.041902e-20</td>\n",
              "      <td>-11.944149</td>\n",
              "    </tr>\n",
              "    <tr>\n",
              "      <th>5</th>\n",
              "      <td>-5.997498e-20</td>\n",
              "      <td>-11.943661</td>\n",
              "    </tr>\n",
              "    <tr>\n",
              "      <th>6</th>\n",
              "      <td>-5.947447e-20</td>\n",
              "      <td>-11.943172</td>\n",
              "    </tr>\n",
              "    <tr>\n",
              "      <th>7</th>\n",
              "      <td>-5.891795e-20</td>\n",
              "      <td>-11.942684</td>\n",
              "    </tr>\n",
              "  </tbody>\n",
              "</table>\n",
              "</div>\n",
              "      <button class=\"colab-df-convert\" onclick=\"convertToInteractive('df-473db6b3-eaf6-44d9-887f-8d74f13fbabd')\"\n",
              "              title=\"Convert this dataframe to an interactive table.\"\n",
              "              style=\"display:none;\">\n",
              "        \n",
              "  <svg xmlns=\"http://www.w3.org/2000/svg\" height=\"24px\"viewBox=\"0 0 24 24\"\n",
              "       width=\"24px\">\n",
              "    <path d=\"M0 0h24v24H0V0z\" fill=\"none\"/>\n",
              "    <path d=\"M18.56 5.44l.94 2.06.94-2.06 2.06-.94-2.06-.94-.94-2.06-.94 2.06-2.06.94zm-11 1L8.5 8.5l.94-2.06 2.06-.94-2.06-.94L8.5 2.5l-.94 2.06-2.06.94zm10 10l.94 2.06.94-2.06 2.06-.94-2.06-.94-.94-2.06-.94 2.06-2.06.94z\"/><path d=\"M17.41 7.96l-1.37-1.37c-.4-.4-.92-.59-1.43-.59-.52 0-1.04.2-1.43.59L10.3 9.45l-7.72 7.72c-.78.78-.78 2.05 0 2.83L4 21.41c.39.39.9.59 1.41.59.51 0 1.02-.2 1.41-.59l7.78-7.78 2.81-2.81c.8-.78.8-2.07 0-2.86zM5.41 20L4 18.59l7.72-7.72 1.47 1.35L5.41 20z\"/>\n",
              "  </svg>\n",
              "      </button>\n",
              "      \n",
              "  <style>\n",
              "    .colab-df-container {\n",
              "      display:flex;\n",
              "      flex-wrap:wrap;\n",
              "      gap: 12px;\n",
              "    }\n",
              "\n",
              "    .colab-df-convert {\n",
              "      background-color: #E8F0FE;\n",
              "      border: none;\n",
              "      border-radius: 50%;\n",
              "      cursor: pointer;\n",
              "      display: none;\n",
              "      fill: #1967D2;\n",
              "      height: 32px;\n",
              "      padding: 0 0 0 0;\n",
              "      width: 32px;\n",
              "    }\n",
              "\n",
              "    .colab-df-convert:hover {\n",
              "      background-color: #E2EBFA;\n",
              "      box-shadow: 0px 1px 2px rgba(60, 64, 67, 0.3), 0px 1px 3px 1px rgba(60, 64, 67, 0.15);\n",
              "      fill: #174EA6;\n",
              "    }\n",
              "\n",
              "    [theme=dark] .colab-df-convert {\n",
              "      background-color: #3B4455;\n",
              "      fill: #D2E3FC;\n",
              "    }\n",
              "\n",
              "    [theme=dark] .colab-df-convert:hover {\n",
              "      background-color: #434B5C;\n",
              "      box-shadow: 0px 1px 3px 1px rgba(0, 0, 0, 0.15);\n",
              "      filter: drop-shadow(0px 1px 2px rgba(0, 0, 0, 0.3));\n",
              "      fill: #FFFFFF;\n",
              "    }\n",
              "  </style>\n",
              "\n",
              "      <script>\n",
              "        const buttonEl =\n",
              "          document.querySelector('#df-473db6b3-eaf6-44d9-887f-8d74f13fbabd button.colab-df-convert');\n",
              "        buttonEl.style.display =\n",
              "          google.colab.kernel.accessAllowed ? 'block' : 'none';\n",
              "\n",
              "        async function convertToInteractive(key) {\n",
              "          const element = document.querySelector('#df-473db6b3-eaf6-44d9-887f-8d74f13fbabd');\n",
              "          const dataTable =\n",
              "            await google.colab.kernel.invokeFunction('convertToInteractive',\n",
              "                                                     [key], {});\n",
              "          if (!dataTable) return;\n",
              "\n",
              "          const docLinkHtml = 'Like what you see? Visit the ' +\n",
              "            '<a target=\"_blank\" href=https://colab.research.google.com/notebooks/data_table.ipynb>data table notebook</a>'\n",
              "            + ' to learn more about interactive tables.';\n",
              "          element.innerHTML = '';\n",
              "          dataTable['output_type'] = 'display_data';\n",
              "          await google.colab.output.renderOutput(dataTable, element);\n",
              "          const docLink = document.createElement('div');\n",
              "          docLink.innerHTML = docLinkHtml;\n",
              "          element.appendChild(docLink);\n",
              "        }\n",
              "      </script>\n",
              "    </div>\n",
              "  </div>\n",
              "  "
            ]
          },
          "metadata": {},
          "execution_count": 181
        }
      ]
    },
    {
      "cell_type": "code",
      "source": [
        "s_ref = refIn[\"strain\"]\n",
        "t_ref = refIn[\"time (s)\"]\n",
        "\n",
        "plt.plot(t_ref,s_ref,\"k\")\n",
        "plt.xlabel(\"Time / S\")\n",
        "plt.ylabel(\"Strain / unitless\")"
      ],
      "metadata": {
        "id": "fbWiH_rrRwMC",
        "outputId": "69bfe4c8-b42e-4437-92b5-3c73cc74642c",
        "colab": {
          "base_uri": "https://localhost:8080/",
          "height": 307
        }
      },
      "execution_count": 182,
      "outputs": [
        {
          "output_type": "execute_result",
          "data": {
            "text/plain": [
              "Text(0, 0.5, 'Strain / unitless')"
            ]
          },
          "metadata": {},
          "execution_count": 182
        },
        {
          "output_type": "display_data",
          "data": {
            "text/plain": [
              "<Figure size 432x288 with 1 Axes>"
            ],
            "image/png": "[encoded data removed]"
          },
          "metadata": {
            "needs_background": "light"
          }
        }
      ]
    },
    {
      "cell_type": "markdown",
      "source": [
        "This data has many more datapoints than the other two, also we can see that it has no noise if we zoom in and check after t=0"
      ],
      "metadata": {
        "id": "UG8k39rvSDyz"
      }
    },
    {
      "cell_type": "code",
      "source": [
        "plt.plot(t_ref,s_ref,\"k\")\n",
        "plt.xlabel(\"Time / S\")\n",
        "plt.ylabel(\"Strain / unitless\")\n",
        "\n",
        "plt.xlim(-0.3,0.2)\n",
        "plt.ylim(-2e-19,2e-19)"
      ],
      "metadata": {
        "id": "GHEq7L7VSLfo",
        "outputId": "cebeb9f4-ea4b-4092-b361-9c21751176c8",
        "colab": {
          "base_uri": "https://localhost:8080/",
          "height": 307
        }
      },
      "execution_count": 183,
      "outputs": [
        {
          "output_type": "execute_result",
          "data": {
            "text/plain": [
              "(-2e-19, 2e-19)"
            ]
          },
          "metadata": {},
          "execution_count": 183
        },
        {
          "output_type": "display_data",
          "data": {
            "text/plain": [
              "<Figure size 432x288 with 1 Axes>"
            ],
            "image/png": "[encoded data removed]"
          },
          "metadata": {
            "needs_background": "light"
          }
        }
      ]
    },
    {
      "cell_type": "markdown",
      "source": [
        "Lets change the sample rate of the reference to match that of the observed data"
      ],
      "metadata": {
        "id": "ZUeHsWawVn0o"
      }
    },
    {
      "cell_type": "code",
      "source": [
        "from scipy.interpolate import interp1d\n",
        "\n",
        "# get interpolation object using a reference waveform with ref_x (time) and ref_y (strain).\n",
        "interp_fn = interp1d(t_ref,s_ref,bounds_error=False)\n",
        "# now interpolate the data waveform\n",
        "interp_strain = interp_fn(s_mock)\n",
        "# plot\n",
        "plt.plot(s_mock,interp_strain)\n"
      ],
      "metadata": {
        "id": "0w8bFi3GVmTw",
        "outputId": "85c891dd-7481-4c20-f4aa-d5dfb8dae499",
        "colab": {
          "base_uri": "https://localhost:8080/",
          "height": 306
        }
      },
      "execution_count": 185,
      "outputs": [
        {
          "output_type": "execute_result",
          "data": {
            "text/plain": [
              "[<matplotlib.lines.Line2D at 0x7f0dc839fb50>]"
            ]
          },
          "metadata": {},
          "execution_count": 185
        },
        {
          "output_type": "display_data",
          "data": {
            "text/plain": [
              "<Figure size 432x288 with 1 Axes>"
            ],
            "image/png": "[encoded data removed]"
          },
          "metadata": {
            "needs_background": "light"
          }
        }
      ]
    },
    {
      "cell_type": "markdown",
      "metadata": {
        "id": "Q7I6EWOTDjpO"
      },
      "source": [
        "***"
      ]
    },
    {
      "cell_type": "markdown",
      "metadata": {
        "id": "mHcwYrR6DjpO"
      },
      "source": [
        "## Part D - Using model waveforms to estimate the total mass and distance to the system \"a by-eye estimate\") [24 marks]"
      ]
    },
    {
      "cell_type": "markdown",
      "source": [
        "THIS STUFF IS RELEVANT!\n"
      ],
      "metadata": {
        "id": "Vz0V0ogXSbLS"
      }
    },
    {
      "cell_type": "markdown",
      "source": [
        "yes definitely no noise. This reference waveform has $𝑀^\\prime=40𝑀_{𝑠𝑢𝑛}$ , $𝐷^\\prime=1Mpc$ and $𝑞=\\frac{𝑀2}{𝑀1}=1$. \n",
        "\n",
        "Mathematically, we have an equal-mass system ($q=1$), if we want to create a waveform with total mass $M=M_1 + M_2$ at a distance $D=1Mpc$ (not spinning), then we can scale the strain $h(t,M,D)$ from a reference waveform with $M^\\prime,D^\\prime$ as:\n",
        "\n",
        "$$\n",
        "h(t,M,D) = \\left(\\dfrac{M}{M^\\prime}\\right) \\left(\\dfrac{D^\\prime}{D}\\right) ~ h(t^\\prime) \n",
        "$$\n",
        "\n",
        "where: \n",
        "\n",
        "$$ t^\\prime=\\left(\\dfrac{M^\\prime}{M}\\right)t  $$\n",
        "\n",
        "and $t=0$ is defined as being the time at which the merger occurred."
      ],
      "metadata": {
        "id": "SJ07Tvr9SeGp"
      }
    },
    {
      "cell_type": "code",
      "source": [
        "def scale_ref(M,D): #M_sun, Mpc\n",
        "  M_prime, D_prime = 40, 1 #M_sun, Mpc\n",
        "  out = (M/M_prime)*(D_prime/D)*np.array(refIn[\"strain\"])\n",
        "  return out"
      ],
      "metadata": {
        "id": "j0C2uSqCSdjJ"
      },
      "execution_count": null,
      "outputs": []
    },
    {
      "cell_type": "markdown",
      "source": [
        "If I test the function with the same M and D as the reference, then I should get exactly the same result"
      ],
      "metadata": {
        "id": "HmZZXFXCSiZK"
      }
    },
    {
      "cell_type": "code",
      "source": [
        "plt.plot(refIn[\"time (s)\"],scale_ref(40,1),\"k\")\n",
        "plt.xlabel(\"GPS Time / S\")\n",
        "plt.ylabel(\"Strain / unitless\")"
      ],
      "metadata": {
        "id": "hxRBb5AvSl0L"
      },
      "execution_count": null,
      "outputs": []
    },
    {
      "cell_type": "markdown",
      "source": [
        "This looks about the same but lets take the difference and be sure. "
      ],
      "metadata": {
        "id": "5sPl_wdZSqnA"
      }
    },
    {
      "cell_type": "code",
      "source": [
        "np.mean((refIn[\"strain\"] - scale_ref(40,1))**2)"
      ],
      "metadata": {
        "id": "f_M06483Sp9B"
      },
      "execution_count": null,
      "outputs": []
    },
    {
      "cell_type": "markdown",
      "source": [
        "Sum of squares is zero, so the two are identical, I can expect the function is working properly. "
      ],
      "metadata": {
        "id": "u51lfPC0St7B"
      }
    },
    {
      "cell_type": "code",
      "source": [
        "md_ = [[40,1],[40,2],[20,1],[10,1]]\n",
        "\n",
        "for i in md_:\n",
        "  plt.plot(refIn[\"time (s)\"],scale_ref(*i), label = i)\n",
        "\n",
        "\n",
        "\n",
        "plt.legend()\n",
        "plt.xlabel(\"GPS Time / S\")\n",
        "plt.ylabel(\"Strain / unitless\")\n",
        "plt.xlim(-0.3,0.2)\n",
        "plt.ylim(-2e-19,2e-19)"
      ],
      "metadata": {
        "id": "3XhxNbrqSyFg"
      },
      "execution_count": null,
      "outputs": []
    },
    {
      "cell_type": "markdown",
      "source": [
        "Looks good, [40,2] seems to be the same as another line that comes after it. "
      ],
      "metadata": {
        "id": "rnWQjN2aS2rR"
      }
    },
    {
      "cell_type": "code",
      "source": [
        "plt.plot(mockIn[\"time (s)\"],mockIn[\"strain\"], label=\"Data\")\n",
        "plt.plot(refIn[\"time (s)\"],scale_ref(70,5), label=\"Reference\")\n",
        "\n",
        "\n",
        "\n",
        "plt.legend()\n",
        "plt.xlabel(\"GPS Time / S\")\n",
        "plt.ylabel(\"Strain / unitless\")\n",
        "plt.xlim(min(mockIn[\"time (s)\"])-0.01,max(mockIn[\"time (s)\"])+0.01) #set the limits to the data"
      ],
      "metadata": {
        "id": "P5cYzAoeS-HR"
      },
      "execution_count": null,
      "outputs": []
    },
    {
      "cell_type": "markdown",
      "metadata": {
        "id": "C08UroqDDjpO"
      },
      "source": [
        "**Answer**"
      ]
    },
    {
      "cell_type": "markdown",
      "metadata": {
        "id": "VVwW83gUDjpO"
      },
      "source": [
        "Your answer here"
      ]
    },
    {
      "cell_type": "markdown",
      "metadata": {
        "id": "hLHwiseNDjpP"
      },
      "source": [
        "***"
      ]
    },
    {
      "cell_type": "markdown",
      "metadata": {
        "id": "dlLHrhVuDjpP"
      },
      "source": [
        "## Part E - Estimating the total mass using MCMC [75 marks]"
      ]
    },
    {
      "cell_type": "markdown",
      "metadata": {
        "id": "JgjOypvbDjpP"
      },
      "source": [
        "**Answer:**"
      ]
    },
    {
      "cell_type": "markdown",
      "metadata": {
        "id": "8Zy_8aKTDjpP"
      },
      "source": [
        "Your answer here"
      ]
    },
    {
      "cell_type": "markdown",
      "metadata": {
        "id": "1tbK9eKGDjpP"
      },
      "source": [
        "***"
      ]
    },
    {
      "cell_type": "markdown",
      "metadata": {
        "id": "czCYmkO8DjpQ"
      },
      "source": [
        "## Part F - Putting it all together [36 marks]"
      ]
    },
    {
      "cell_type": "markdown",
      "metadata": {
        "id": "xLUyRmo5DjpQ"
      },
      "source": [
        "**Answer:**"
      ]
    },
    {
      "cell_type": "markdown",
      "metadata": {
        "id": "x4dztLhmDjpQ"
      },
      "source": [
        "Your answer here"
      ]
    },
    {
      "cell_type": "markdown",
      "metadata": {
        "id": "opTUOC3HDjpQ"
      },
      "source": [
        "***"
      ]
    },
    {
      "cell_type": "markdown",
      "metadata": {
        "id": "lLKd3XyDDjpQ"
      },
      "source": [
        "## Part G - Evidence of Understanding, Presentation and Interpretation [20 marks]\n",
        "\n",
        "An additional 20 marks will be awarded for evidence of understanding and knowledge via (for example) explanations, plots, comments on your results and well formatted and well explained results. Marks are also available for additional investigations carried out on your analysis above. These marks are available for those data analysis reports that show evidence of work that is *very high quality* or *outstanding* as per the decile descriptions in the Assessment Criteria for modules. <div align=\"right\">**[20 marks]**</div>"
      ]
    }
  ],
  "metadata": {
    "kernelspec": {
      "display_name": "Python 3 (ipykernel)",
      "language": "python",
      "name": "python3"
    },
    "language_info": {
      "codemirror_mode": {
        "name": "ipython",
        "version": 3
      },
      "file_extension": ".py",
      "mimetype": "text/x-python",
      "name": "python",
      "nbconvert_exporter": "python",
      "pygments_lexer": "ipython3",
      "version": "3.9.7"
    },
    "colab": {
      "provenance": []
    }
  },
  "nbformat": 4,
  "nbformat_minor": 0
}