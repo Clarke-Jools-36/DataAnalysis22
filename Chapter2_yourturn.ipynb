{
  "cells": [
    {
      "cell_type": "markdown",
      "metadata": {
        "id": "0UBeheLUXe_t"
      },
      "source": [
        "# To be completed at the Live Session and in your own time.\n",
        "\n",
        "These set of examples we will help you get familiar with estimating probabilities and using Bayes Theorem within a Jupyter notebook. The questions coloured green are important practice for CA.\n",
        "\n",
        "Before attempting these examples, please ensure you have read through [Chapter 2 Jupyter Notebook](https://github.com/haleygomez/Data-Analysis-2022/blob/master/blended_exercises/Chapter2/Chapter2.ipynb) and have completed the Learning Central **Chapter 2 quiz**. \n",
        "\n",
        "These are good practice for CA 1 Questions 1 and 4."
      ]
    },
    {
      "cell_type": "markdown",
      "metadata": {
        "id": "6Pq1sa5IXe_w"
      },
      "source": [
        "***"
      ]
    },
    {
      "cell_type": "markdown",
      "metadata": {
        "id": "10IQmT1FXe_w"
      },
      "source": [
        "# Probabilities"
      ]
    },
    {
      "cell_type": "markdown",
      "metadata": {
        "id": "H0CvrczeXe_x"
      },
      "source": [
        "***"
      ]
    },
    {
      "cell_type": "markdown",
      "metadata": {
        "id": "y4d9FRb0Xe_x"
      },
      "source": [
        "## Question"
      ]
    },
    {
      "cell_type": "markdown",
      "metadata": {
        "id": "ALNfvhSIXe_x"
      },
      "source": [
        "You want to send a document to your bank and it is very important it gets there the next day. You therefore send two copies of the document using Hermes (delivery service $A$) and the Royal Mail (delivery service $B$).  The probabilities of those companies delivering on time are:\n",
        "\n",
        "- 0.90 for service A\n",
        "- 0.80 for service B \n",
        "- 0.75 for both services being on time.\n",
        "\n",
        "Does your strategy improve the chances the document will be delivered on time? "
      ]
    },
    {
      "cell_type": "markdown",
      "metadata": {
        "id": "x4gPeAPXXe_x"
      },
      "source": [
        "### Answer"
      ]
    },
    {
      "cell_type": "markdown",
      "metadata": {
        "id": "2tMJ5HWNXe_y"
      },
      "source": [
        "*The two events are not independant*"
      ]
    },
    {
      "cell_type": "markdown",
      "metadata": {
        "id": "oFjwx2MwXe_y"
      },
      "source": [
        "***"
      ]
    },
    {
      "cell_type": "code",
      "source": [
        "((0.9) + (0.8)) - (0.75)"
      ],
      "metadata": {
        "id": "U86j9oraYV2U",
        "outputId": "d3046202-fae8-448b-ea28-64b0f4f7a29f",
        "colab": {
          "base_uri": "https://localhost:8080/"
        }
      },
      "execution_count": 1,
      "outputs": [
        {
          "output_type": "execute_result",
          "data": {
            "text/plain": [
              "0.9500000000000002"
            ]
          },
          "metadata": {},
          "execution_count": 1
        }
      ]
    },
    {
      "cell_type": "markdown",
      "source": [
        "Yes you increase the chances of the letter being delivered on time by 0.05"
      ],
      "metadata": {
        "id": "PHaJ0qHladW0"
      }
    },
    {
      "cell_type": "markdown",
      "metadata": {
        "id": "XFKDuiX6Xe_z"
      },
      "source": [
        "## <font color=#30a64d>Question</font>"
      ]
    },
    {
      "cell_type": "markdown",
      "metadata": {
        "id": "io_SIg8AXe_z"
      },
      "source": [
        "You flip a coin 5 times. What is the probability that heads will not occur 3 times?    "
      ]
    },
    {
      "cell_type": "markdown",
      "metadata": {
        "id": "Y8xXipnMXe_z"
      },
      "source": [
        "### Answer"
      ]
    },
    {
      "cell_type": "markdown",
      "metadata": {
        "id": "uAnuTS2IXe_z"
      },
      "source": [
        "*Binomial*"
      ]
    },
    {
      "cell_type": "code",
      "source": [
        "import scipy.special\n",
        "\n",
        "1 - (scipy.special.binom(5,3) * ((0.5)**3) * ((1-0.5)**(5-3)))\n"
      ],
      "metadata": {
        "id": "BsnS6kSMcCnV",
        "outputId": "99013fe8-3fc4-494e-8a1e-44ee171031e2",
        "colab": {
          "base_uri": "https://localhost:8080/"
        }
      },
      "execution_count": 7,
      "outputs": [
        {
          "output_type": "execute_result",
          "data": {
            "text/plain": [
              "0.6875"
            ]
          },
          "metadata": {},
          "execution_count": 7
        }
      ]
    },
    {
      "cell_type": "markdown",
      "metadata": {
        "id": "vlwDc0tLXe_z"
      },
      "source": [
        "***"
      ]
    },
    {
      "cell_type": "markdown",
      "metadata": {
        "id": "teh0FTzJXe_0"
      },
      "source": [
        "# Bayes Theorem"
      ]
    },
    {
      "cell_type": "markdown",
      "metadata": {
        "id": "kPtpoGRoXe_0"
      },
      "source": [
        "## <font color=#30a64d>Question</font>"
      ]
    },
    {
      "cell_type": "markdown",
      "metadata": {
        "id": "WZwP8VZzXe_0"
      },
      "source": [
        "Suppose you think you have a rare disease where 1 in 10,000 people are affected. You go to your doctor, and she performs a test. The test is of a high quality, and is correct 99% of the time.\n",
        "\n",
        "Unfortunately your results come back positive for the disease. What is your chance of having the disease? Is it (roughly): <br><br>\n",
        "\n",
        "a) 99% <br>\n",
        "b) 90% <br>\n",
        "c) 10% or <br>\n",
        "d) 1%? <br> <br>\n",
        "\n",
        "Repeat the same as above, but change 1 in 10,000 to 1 in 100. What would the chances of having the disease be now?"
      ]
    },
    {
      "cell_type": "markdown",
      "metadata": {
        "id": "Suz7TO2dXe_0"
      },
      "source": [
        "### Answer"
      ]
    },
    {
      "cell_type": "markdown",
      "metadata": {
        "id": "osRE12wJXe_0"
      },
      "source": [
        "$P(disease | positive test) = \\dfrac{ P(positive test | disease) P(disease)}  {P(positive test | disease) P(disease) + P(positive test | healthy) P(healthy)}$"
      ]
    },
    {
      "cell_type": "code",
      "source": [
        "pos_dis =0.99\n",
        "dis =1/10000\n",
        "pos_hea =0.01\n",
        "hea =1-1/10000\n",
        "\n",
        "\n",
        "((pos_dis)*(dis))/(((pos_dis)*(dis))+((pos_hea)*(hea))) *100"
      ],
      "metadata": {
        "id": "nJVTO1Syc90L",
        "outputId": "f6d8c610-2810-42ff-be1b-003626663a2f",
        "colab": {
          "base_uri": "https://localhost:8080/"
        }
      },
      "execution_count": 12,
      "outputs": [
        {
          "output_type": "execute_result",
          "data": {
            "text/plain": [
              "0.9803921568627451"
            ]
          },
          "metadata": {},
          "execution_count": 12
        }
      ]
    },
    {
      "cell_type": "markdown",
      "source": [
        "1%"
      ],
      "metadata": {
        "id": "ejSz7DKrhOHs"
      }
    },
    {
      "cell_type": "markdown",
      "metadata": {
        "id": "a9DiQafVXe_0"
      },
      "source": [
        "## Question"
      ]
    },
    {
      "cell_type": "markdown",
      "metadata": {
        "id": "gcmfCGG-Xe_1"
      },
      "source": [
        "We saw in [Chapter 2 Notebook](https://github.com/haleygomez/Data-Analysis-2022/blob/master/blended_exercises/Chapter2/Chapter2.ipynb) that the probability that a couple has 2 children that are boys when the older child is a boy is 50%. \n",
        "\n",
        "What about the following scenario: a couple has two children, of which at least one is a boy. If the probabilities of having a boy or a girl are both 50%, what is the probability that the couple has two boys?\n",
        "\n",
        "At first glance, this appears to be asking the same question as in our previous notebook. We might reason as follows: “We know that one is a boy, so the only question is whether the other one is a boy, and the chances of that being the case are 50%. So again, the answer is 50%.”\n",
        "\n",
        "Although this sounds common sense, it is incorrect.  Show why."
      ]
    },
    {
      "cell_type": "markdown",
      "metadata": {
        "id": "JM-1dlexXe_1"
      },
      "source": [
        "### Answer"
      ]
    },
    {
      "cell_type": "markdown",
      "metadata": {
        "id": "yZixRT5wXe_1"
      },
      "source": [
        "*1/3*"
      ]
    },
    {
      "cell_type": "code",
      "source": [
        "both_boys = 1/4 #both children are boys\n",
        "one_boy = 3/4 #at least one of the children is a boy\n",
        "union_both_one = 1/4 #union of both boys and one boy, in this case = getting both boys\n",
        "\n",
        "\n",
        "union_both_one/one_boy"
      ],
      "metadata": {
        "id": "v3O2Sbj0iW0u",
        "outputId": "33d89a2f-3f8b-4a27-9344-6828af3b2200",
        "colab": {
          "base_uri": "https://localhost:8080/"
        }
      },
      "execution_count": 16,
      "outputs": [
        {
          "output_type": "execute_result",
          "data": {
            "text/plain": [
              "0.3333333333333333"
            ]
          },
          "metadata": {},
          "execution_count": 16
        }
      ]
    }
  ],
  "metadata": {
    "kernelspec": {
      "display_name": "Python 3",
      "language": "python",
      "name": "python3"
    },
    "language_info": {
      "codemirror_mode": {
        "name": "ipython",
        "version": 3
      },
      "file_extension": ".py",
      "mimetype": "text/x-python",
      "name": "python",
      "nbconvert_exporter": "python",
      "pygments_lexer": "ipython3",
      "version": "3.7.4"
    },
    "colab": {
      "provenance": []
    }
  },
  "nbformat": 4,
  "nbformat_minor": 0
}