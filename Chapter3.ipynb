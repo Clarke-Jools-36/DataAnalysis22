{
  "cells": [
    {
      "cell_type": "markdown",
      "metadata": {
        "id": "view-in-github",
        "colab_type": "text"
      },
      "source": [
        "<a href=\"https://colab.research.google.com/github/Clarke-Jools-36/DataAnalysis22/blob/main/Chapter3.ipynb\" target=\"_parent\"><img src=\"https://colab.research.google.com/assets/colab-badge.svg\" alt=\"Open In Colab\"/></a>"
      ]
    },
    {
      "cell_type": "markdown",
      "metadata": {
        "id": "_XLopdKWZqsa"
      },
      "source": [
        "# To be completed at the Live Session and in your own time.\n",
        "\n",
        "These set of examples we will help you get familiar with estimating probabilities and using Bayes Theorem within a Jupyter notebook.  The questions coloured green are important practice for CA.\n",
        "\n",
        "Before attempting these examples, please ensure you have read through [Chapter 3 Jupyter Notebook](https://github.com/haleygomez/Data-Analysis-2022/blob/master/blended_exercises/Chapter3/Chapter3.ipynb) and have completed the Learning Central **Chapter 3 quiz**. \n",
        "\n",
        "These are good practice for CA 1 Questions 2 and 3."
      ]
    },
    {
      "cell_type": "markdown",
      "metadata": {
        "id": "GxtgOfkBZqsc"
      },
      "source": [
        "***"
      ]
    },
    {
      "cell_type": "markdown",
      "metadata": {
        "id": "YbFBjbMWZqsd"
      },
      "source": [
        "# Probabilities"
      ]
    },
    {
      "cell_type": "markdown",
      "metadata": {
        "id": "7PFqXXpJZqsd"
      },
      "source": [
        "## <font color=#30a64d>Question</font>"
      ]
    },
    {
      "cell_type": "markdown",
      "metadata": {
        "id": "yNbtAYqGZqse"
      },
      "source": [
        "You flip a coin 5 times. Use an appropriate probability function to estimate the probability that heads will **not** occur 3 times.  "
      ]
    },
    {
      "cell_type": "markdown",
      "metadata": {
        "id": "q0Tqxlt_Zqse"
      },
      "source": [
        "### Answer"
      ]
    },
    {
      "cell_type": "code",
      "source": [
        "import scipy.stats as stats\n",
        "import numpy as np\n",
        "\n",
        "n = 5\n",
        "nu = 3\n",
        "\n",
        "theta = 1./2\n",
        "\n",
        "prob = stats.binom.pmf(nu, n, theta)\n",
        "\n",
        "print('Probability of getting 3 heads in 5 coin tosses is {:.2f}'.format(prob))\n",
        "print('So the probability of not getting  heads is {:.2f}'.format(1-prob))"
      ],
      "metadata": {
        "colab": {
          "base_uri": "https://localhost:8080/"
        },
        "id": "5lF_xjXwaoNg",
        "outputId": "16f59ad9-be81-4466-b35d-67f1d2de7424"
      },
      "execution_count": null,
      "outputs": [
        {
          "output_type": "stream",
          "name": "stdout",
          "text": [
            "Probability of getting 3 heads in 5 coin tosses is 0.31: \n",
            "So the probability of not getting  heads is 0.69: \n"
          ]
        }
      ]
    },
    {
      "cell_type": "markdown",
      "metadata": {
        "id": "MCJCetGuZqsf"
      },
      "source": [
        "## <font color=#30a64d>Question</font>"
      ]
    },
    {
      "cell_type": "markdown",
      "metadata": {
        "id": "EPmY9QjNZqsf"
      },
      "source": [
        "The probability that a student is accepted to a prestigious university is 0.3. If 5 students from the same school apply, what is the probability that at most 2 are accepted?"
      ]
    },
    {
      "cell_type": "markdown",
      "metadata": {
        "id": "e8ZdaAmvZqsg"
      },
      "source": [
        "### Answer"
      ]
    },
    {
      "cell_type": "markdown",
      "metadata": {
        "id": "CzAub9LlZqsh"
      },
      "source": [
        "*Your answer here.*"
      ]
    },
    {
      "cell_type": "code",
      "source": [
        "import scipy.stats as stats\n",
        "import numpy as np\n",
        "\n",
        "n = 5\n",
        "nu = [0,1,2]\n",
        "\n",
        "theta = 0.3\n",
        "\n",
        "prob = sum(stats.binom.pmf(nu, n, theta))\n",
        "\n",
        "print('Probability of at most 2 people being accepted is {:.2f}'.format(prob))"
      ],
      "metadata": {
        "colab": {
          "base_uri": "https://localhost:8080/"
        },
        "id": "jSVkD9cVcgDj",
        "outputId": "7354821f-75a4-4ad3-b025-0f6271683ccf"
      },
      "execution_count": null,
      "outputs": [
        {
          "output_type": "stream",
          "name": "stdout",
          "text": [
            "Probability of at most 2 people being accepted is 0.84\n"
          ]
        }
      ]
    },
    {
      "cell_type": "markdown",
      "metadata": {
        "id": "xlQNF8uXZqsh"
      },
      "source": [
        "***"
      ]
    },
    {
      "cell_type": "markdown",
      "metadata": {
        "id": "lfqpy6GcZqsh"
      },
      "source": [
        "# Probability Distributions"
      ]
    },
    {
      "cell_type": "markdown",
      "metadata": {
        "id": "LQ8QPYDNZqsh"
      },
      "source": [
        "## <font color=#30a64d>Question </fomt>"
      ]
    },
    {
      "cell_type": "markdown",
      "metadata": {
        "id": "FA26inYbZqsi"
      },
      "source": [
        "What does the binomial distribution look like if the probability of success in $N=17$ trials is $\\theta = 0.7$?  "
      ]
    },
    {
      "cell_type": "markdown",
      "metadata": {
        "id": "F0WDPZ6XZqsi"
      },
      "source": [
        "### Answer"
      ]
    },
    {
      "cell_type": "markdown",
      "metadata": {
        "id": "0eTa2krVZqsi"
      },
      "source": [
        "*Your answer here.*"
      ]
    },
    {
      "cell_type": "code",
      "source": [
        "import scipy.stats as stats\n",
        "import numpy as np\n",
        "import matplotlib.pyplot as plt\n",
        "\n",
        "\n",
        "n = 17\n",
        "nu = np.arange(0,18)\n",
        "\n",
        "theta = 0.5\n",
        "\n",
        "prob = stats.binom.pmf(nu, n, theta)\n",
        "\n",
        "plt.plot(nu,prob)\n",
        "plt.xlabel('Result')\n",
        "plt.ylabel('Probability')\n",
        "plt.grid()\n",
        "plt.xlim(0,18)"
      ],
      "metadata": {
        "colab": {
          "base_uri": "https://localhost:8080/",
          "height": 296
        },
        "id": "YIhcD65qehZF",
        "outputId": "f55a0cf0-f7fb-4983-c25b-96537cf77031"
      },
      "execution_count": null,
      "outputs": [
        {
          "output_type": "execute_result",
          "data": {
            "text/plain": [
              "(0.0, 18.0)"
            ]
          },
          "metadata": {},
          "execution_count": 14
        },
        {
          "output_type": "display_data",
          "data": {
            "text/plain": [
              "<Figure size 432x288 with 1 Axes>"
            ],
            "image/png": "[encoded data removed]"
          },
          "metadata": {
            "needs_background": "light"
          }
        }
      ]
    },
    {
      "cell_type": "markdown",
      "metadata": {
        "id": "ckZD0LfyZqsi"
      },
      "source": [
        "## <font color=#30a64d> Question </font>"
      ]
    },
    {
      "cell_type": "markdown",
      "metadata": {
        "id": "iWNd4zwSZqsi"
      },
      "source": [
        "Plot a normal distribution in python with mean = 8.0 and standard deviation = 2.0 over an x range `[0,16]`. Do this both by writing your own function and by using in-built Python routines.  \n",
        "\n",
        "Plot the CDF of the normal distribution using in-built python routines. Estimate the median."
      ]
    },
    {
      "cell_type": "markdown",
      "metadata": {
        "id": "eo5H9FUAZqsi"
      },
      "source": [
        "### Answer"
      ]
    },
    {
      "cell_type": "code",
      "source": [
        "import scipy.stats as stats\n",
        "import numpy as np\n",
        "import matplotlib.pyplot as plt\n",
        "\n",
        "def norm(x, mu, simgma):\n",
        "  y = 1/(sigma*np.sqrt(2*np.pi)) * np.exp(-(x - mu)**2/(2*sigma**2))\n",
        "  return y\n",
        "\n",
        "mu = 8.0\n",
        "sigma = 2.0\n",
        "x = np.linspace(0,16, 100)\n",
        "\n",
        "eq_norm = norm(x, mu, sigma)\n",
        "py_norm = stats.norm.pdf(x, mu, sigma)\n",
        "\n",
        "\n",
        "plt.figure()\n",
        "plt.plot(x, eq_norm, label = 'My equation')\n",
        "plt.plot(x, py_norm, label = 'Python normal')\n",
        "plt.grid()\n",
        "plt.xlabel('Result')\n",
        "plt.ylabel('Probability')\n",
        "plt.legend(loc='best')\n",
        "\n",
        "py_norm_cdf = stats.norm.cdf(x, mu, sigma)\n",
        "plt.figure()\n",
        "plt.plot(x,py_norm_cdf)\n",
        "plt.grid()\n",
        "plt.xlabel('Result')\n",
        "plt.ylabel('CDF')"
      ],
      "metadata": {
        "colab": {
          "base_uri": "https://localhost:8080/",
          "height": 558
        },
        "id": "CClSJ9tPhArX",
        "outputId": "b5adb291-82f0-4cc5-ef56-d14f4760fee7"
      },
      "execution_count": null,
      "outputs": [
        {
          "output_type": "execute_result",
          "data": {
            "text/plain": [
              "Text(0, 0.5, 'CDF')"
            ]
          },
          "metadata": {},
          "execution_count": 26
        },
        {
          "output_type": "display_data",
          "data": {
            "text/plain": [
              "<Figure size 432x288 with 1 Axes>"
            ],
            "image/png": "[encoded data removed]"
          },
          "metadata": {
            "needs_background": "light"
          }
        },
        {
          "output_type": "display_data",
          "data": {
            "text/plain": [
              "<Figure size 432x288 with 1 Axes>"
            ],
            "image/png": "[encoded data removed]"
          },
          "metadata": {
            "needs_background": "light"
          }
        }
      ]
    },
    {
      "cell_type": "markdown",
      "metadata": {
        "id": "nHYq0V19Zqsj"
      },
      "source": [
        "*Your answer here.*"
      ]
    },
    {
      "cell_type": "markdown",
      "metadata": {
        "id": "T91ZDMJNZqsj"
      },
      "source": [
        "## Question"
      ]
    },
    {
      "cell_type": "markdown",
      "metadata": {
        "id": "JeLrlf1MZqsj"
      },
      "source": [
        "Let $X$ be a discrete random variable with range $X={1,2,3,...}$. Suppose the probability mass function (PMF) of $X$ is given by\n",
        "\n",
        "$P_X(k) = \\dfrac{1}{2^k}$ for $k={1,2,3,...}$\n",
        " \n",
        "1. Find $P(2<X\\le 5)$.\n",
        "2. Plot the CDF of $X$, $F_X(x)$ where\n",
        "\n",
        "    $F_X(k) = \\dfrac{2^k-1}{2^k}$"
      ]
    },
    {
      "cell_type": "markdown",
      "metadata": {
        "id": "u4k1hi-2Zqsj"
      },
      "source": [
        "### Answer"
      ]
    },
    {
      "cell_type": "code",
      "source": [
        "import scipy.stats as stats\n",
        "import numpy as np\n",
        "import matplotlib.pyplot as plt\n",
        "\n",
        "def p_x(k):\n",
        "  return 1/(2**k)\n",
        "\n",
        "def f_x(k):\n",
        "  return (2.**k - 1)/2**k\n",
        "\n",
        "def cdf(k):\n",
        "  return k + (2.**(-k))/np.log(2)\n",
        "\n",
        "p_2_5 = np.sum(p_x(np.arange(2,5+1)))\n",
        "\n",
        "print('P(2<X<=5) = {:.2f}'.format(p_2_5))\n",
        "\n",
        "x = np.arange(1,20)\n",
        "plt.plot(x, f_x(x))\n",
        "\n"
      ],
      "metadata": {
        "colab": {
          "base_uri": "https://localhost:8080/",
          "height": 300
        },
        "id": "p8FVyLCclrVw",
        "outputId": "31fc6426-c8a2-427b-f302-2e2c76b4b40f"
      },
      "execution_count": null,
      "outputs": [
        {
          "output_type": "stream",
          "name": "stdout",
          "text": [
            "P(2<X<=5) = 0.47\n"
          ]
        },
        {
          "output_type": "execute_result",
          "data": {
            "text/plain": [
              "[<matplotlib.lines.Line2D at 0x7f1492c15250>]"
            ]
          },
          "metadata": {},
          "execution_count": 42
        },
        {
          "output_type": "display_data",
          "data": {
            "text/plain": [
              "<Figure size 432x288 with 1 Axes>"
            ],
            "image/png": "[encoded data removed]"
          },
          "metadata": {
            "needs_background": "light"
          }
        }
      ]
    },
    {
      "cell_type": "markdown",
      "metadata": {
        "id": "qfOz_TdKZqsk"
      },
      "source": [
        "*Your answer here.*"
      ]
    },
    {
      "cell_type": "markdown",
      "metadata": {
        "id": "EQBqCdTJZqsk"
      },
      "source": [
        "***"
      ]
    },
    {
      "cell_type": "markdown",
      "metadata": {
        "id": "I1MdVVatZqsk"
      },
      "source": [
        "# Best Estimates"
      ]
    },
    {
      "cell_type": "markdown",
      "metadata": {
        "id": "y1NgyO7-Zqsk"
      },
      "source": [
        "## Question "
      ]
    },
    {
      "cell_type": "markdown",
      "metadata": {
        "id": "B80o_s2NZqsk"
      },
      "source": [
        "Astronomers take an image of the galaxy M42 with a telescope to measure its brightness. But they find that the image has background light across the whole picture (we call this a positive background level) which affects the measured brightness of the galaxy. They want to subtract this level off the image.   They don't know whether the mean background value in the image or the median background value is a better estimate of the background. \n",
        "\n",
        "Take the image (available [here](https://github.com/haleygomez/Data-Analysis-2021/raw/master/blended_exercises/Chapter3/galaxym42.fits.fz), you will need to upload it to google colab) and plot a histogram of the brightness measured across the image. Overplot the mean and median values and decide which one provides the best measurement of the nuisance background light.<br><br>\n",
        "\n",
        "Tip: import the following `import matplotlib.pyplot as plt` and `from astropy.io import fits` and read in the image file of the galaxy using the following commands:\n",
        "\n",
        "`image_data = fits.getdata('galaxym42.fits.fz')` \n",
        "\n",
        "`histogram = plt.hist(image_data.flatten(),1000,histtype='bar')`"
      ]
    },
    {
      "cell_type": "markdown",
      "metadata": {
        "id": "2XRdshLhZqsl"
      },
      "source": [
        "### Answer"
      ]
    },
    {
      "cell_type": "markdown",
      "metadata": {
        "id": "xwpIlzsHZqsl"
      },
      "source": [
        "*Your answer here.*"
      ]
    }
  ],
  "metadata": {
    "kernelspec": {
      "display_name": "Python 3",
      "language": "python",
      "name": "python3"
    },
    "language_info": {
      "codemirror_mode": {
        "name": "ipython",
        "version": 3
      },
      "file_extension": ".py",
      "mimetype": "text/x-python",
      "name": "python",
      "nbconvert_exporter": "python",
      "pygments_lexer": "ipython3",
      "version": "3.7.4"
    },
    "colab": {
      "provenance": [],
      "include_colab_link": true
    }
  },
  "nbformat": 4,
  "nbformat_minor": 0
}