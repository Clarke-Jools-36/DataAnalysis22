{
  "cells": [
    {
      "cell_type": "markdown",
      "metadata": {
        "id": "Dg8GOw1_vpf1"
      },
      "source": [
        "# To be completed at the Live Session and in your own time.\n",
        "\n",
        "These set of examples we will help you get familiar with non parametric tests and correlations within a Jupyter notebook.   The questions coloured green are important practice for CA, particularly Question 5.\n",
        "\n",
        "Before attempting these examples, please ensure you have read through [Chapter 5 Jupyter Notebook](https://github.com/haleygomez/Data-Analysis-2022/blob/master/blended_exercises/Chapter5/Chapter5.ipynb) and have completed the Learning Central **Chapter 5 quiz**. "
      ]
    },
    {
      "cell_type": "markdown",
      "metadata": {
        "id": "o0JoVC_tvpf2"
      },
      "source": [
        "***"
      ]
    },
    {
      "cell_type": "code",
      "source": [
        "import numpy as np\n",
        "from matplotlib import pyplot as plt\n",
        "\n",
        "from scipy import stats"
      ],
      "metadata": {
        "id": "zjgeSXkCxN4f"
      },
      "execution_count": 10,
      "outputs": []
    },
    {
      "cell_type": "markdown",
      "metadata": {
        "id": "9jKrFbXvvpf3"
      },
      "source": [
        "#  Hypothesis Testing"
      ]
    },
    {
      "cell_type": "markdown",
      "metadata": {
        "id": "lzQfkqKQvpf3"
      },
      "source": [
        "## <font color=#30a64d>Question</font>"
      ]
    },
    {
      "cell_type": "markdown",
      "metadata": {
        "id": "--bAIj19vpf3"
      },
      "source": [
        "In the previous week, we used the datafile [worldpopulation.txt](https://github.com/haleygomez/Data-Analysis-2021/raw/master/blended_exercises/Chapter4/worldpopulation.txt) to estimate the correlation between the world population size measured over time. \n",
        "\n",
        "1. Measure the correlation coefficient using the in built Python package for the Spearman $\\rho$ statistic. \n",
        "\n",
        "2. Measure it again but this time creating the functions to calculate $\\rho$ from scratch.   You can use the in-built function to rank datasets from scipy.stats: `from scipy.stats import rankdata`."
      ]
    },
    {
      "cell_type": "markdown",
      "metadata": {
        "id": "G6rtVyGdvpf3"
      },
      "source": [
        "### Answer"
      ]
    },
    {
      "cell_type": "markdown",
      "metadata": {
        "id": "JRoMKFLfvpf3"
      },
      "source": [
        "*Your answer here.*"
      ]
    },
    {
      "cell_type": "code",
      "source": [
        "!wget https://raw.githubusercontent.com/haleygomez/Data-Analysis-2021/master/blended_exercises/Chapter4/worldpopulation.txt"
      ],
      "metadata": {
        "id": "oB3WNUHxv7HP",
        "outputId": "92e1a15d-4f09-4c5a-f18b-5ce7002a8e79",
        "colab": {
          "base_uri": "https://localhost:8080/"
        }
      },
      "execution_count": 1,
      "outputs": [
        {
          "output_type": "stream",
          "name": "stdout",
          "text": [
            "--2022-10-31 11:14:30--  https://raw.githubusercontent.com/haleygomez/Data-Analysis-2021/master/blended_exercises/Chapter4/worldpopulation.txt\n",
            "Resolving raw.githubusercontent.com (raw.githubusercontent.com)... 185.199.108.133, 185.199.109.133, 185.199.110.133, ...\n",
            "Connecting to raw.githubusercontent.com (raw.githubusercontent.com)|185.199.108.133|:443... connected.\n",
            "HTTP request sent, awaiting response... 200 OK\n",
            "Length: 2950 (2.9K) [text/plain]\n",
            "Saving to: ‘worldpopulation.txt’\n",
            "\n",
            "\rworldpopulation.txt   0%[                    ]       0  --.-KB/s               \rworldpopulation.txt 100%[===================>]   2.88K  --.-KB/s    in 0s      \n",
            "\n",
            "2022-10-31 11:14:30 (33.3 MB/s) - ‘worldpopulation.txt’ saved [2950/2950]\n",
            "\n"
          ]
        }
      ]
    },
    {
      "cell_type": "markdown",
      "metadata": {
        "id": "PlYZMrUJvpf3"
      },
      "source": [
        "***"
      ]
    },
    {
      "cell_type": "code",
      "source": [
        "population = np.loadtxt(\"/content/worldpopulation.txt\")\n",
        "\n",
        "plt.plot(*population, \"k--\") #the * operator splits px in x[0], x[1]\n",
        "plt.xlabel(\"Date\")\n",
        "plt.ylabel(\"Population\")\n",
        "\n",
        "corr_pearson, p_pearson = stats.pearsonr(*population)\n",
        "print('Pearson r correlation is {:.3f}'.format(corr_pearson))\n",
        "\n",
        "corr_spearman, p_spearman = stats.spearmanr(*population)\n",
        "print('Spearman rho correlation is {:.3f}'.format(corr_spearman))"
      ],
      "metadata": {
        "id": "j1ZK8jwEwDZI",
        "outputId": "96a7272e-a7e7-49b0-c341-7fee47f02afa",
        "colab": {
          "base_uri": "https://localhost:8080/",
          "height": 326
        }
      },
      "execution_count": 7,
      "outputs": [
        {
          "output_type": "stream",
          "name": "stdout",
          "text": [
            "Pearson r correlation is 1.000\n",
            "Spearman rho correlation is 1.000\n"
          ]
        },
        {
          "output_type": "display_data",
          "data": {
            "text/plain": [
              "<Figure size 432x288 with 1 Axes>"
            ],
            "image/png": "[encoded data removed]"
          },
          "metadata": {
            "needs_background": "light"
          }
        }
      ]
    },
    {
      "cell_type": "code",
      "source": [
        "def spearman_diy(x,y):\n",
        "  rank_x = stats.rankdata(x)\n",
        "  rank_y = stats.rankdata(y)\n",
        "\n",
        "  N = len(x)\n",
        "\n",
        "  num = np.sum( (rank_x * rank_y) ) - ((N * (N+1)**2)/4)\n",
        "\n",
        "  denom_x = ( np.sum(rank_x**2 )- (N * (N+1)**2)/4)\n",
        "  denom_y = ( np.sum(rank_y**2 )- (N * (N+1)**2)/4)\n",
        "  denom = denom_x**(1/2)*denom_y**(1/2)\n",
        "\n",
        "  return num / denom"
      ],
      "metadata": {
        "id": "e6nhYnB8yWId"
      },
      "execution_count": 40,
      "outputs": []
    },
    {
      "cell_type": "code",
      "source": [
        "corr_spearman = spearman_diy(*population)\n",
        "print('Spearman rho correlation is {:.3f}'.format(corr_spearman))"
      ],
      "metadata": {
        "id": "8ETmCMhe3swS",
        "outputId": "50e79caf-94f7-44bd-d739-6eafbc614afe",
        "colab": {
          "base_uri": "https://localhost:8080/"
        }
      },
      "execution_count": 41,
      "outputs": [
        {
          "output_type": "stream",
          "name": "stdout",
          "text": [
            "Spearman rho correlation is 1.000\n"
          ]
        }
      ]
    },
    {
      "cell_type": "markdown",
      "metadata": {
        "id": "2mD8U57lvpf4"
      },
      "source": [
        "# KS Test"
      ]
    },
    {
      "cell_type": "markdown",
      "metadata": {
        "id": "t5UrmldGvpf4"
      },
      "source": [
        "## Question"
      ]
    },
    {
      "cell_type": "markdown",
      "metadata": {
        "id": "CutomPz8vpf4"
      },
      "source": [
        "Two near-by apple trees are in bloom in an otherwise empty field. One is a Whitney Crab the other is a Redwell. We want to test if bees prefer one tree to the other.\n",
        "\n",
        "To do this we collect data. We use a stop watch to time how long a bee stays near a particular tree. We begin to time when the bee touches the tree, we stop timing when the bee is more than a metre from the tree. Unfortunately we did not get exactly the same number of bees for each tree as it started to rain.   The data is below (time is in seconds). Can we conclude anything based on our experiment?"
      ]
    },
    {
      "cell_type": "code",
      "source": [
        "redwell= np.array([23.4, 30.9, 18.8, 23.0, 21.4, 1, 24.6, 23.8, 24.1, 18.7, 16.3, 20.3, 14.9, 35.4, 21.6, 21.2, 21.0, 15.0, 15.6, 24.0, 34.6, 40.9, 30.7, 24.5, 16.6, 1, 21.7, 1, 23.6, 1, 25.7, 19.3, 46.9, 23.3, 21.8, 33.3, 24.9, 24.4, 1, 19.8, 17.2, 21.5, 25.5, 23.3, 18.6, 22.0, 29.8, 33.3, 1, 21.3, 18.6, 26.8, 19.4, 21.1, 21.2, 20.5, 19.8, 26.3, 39.3, 21.4, 22.6, 1, 35.3, 7.0, 19.3, 21.3, 10.1, 20.2, 1, 36.2, 16.7, 21.1, 39.1, 19.9, 32.1, 23.1, 21.8, 30.4, 19.62, 15.5])\n",
        "\n",
        "whitney=np.array([16.5, 1, 22.6, 25.3, 23.7, 1, 23.3, 23.9, 16.2, 23.0, 21.6, 10.8, 12.2, 23.6, 10.1, 24.4, 16.4, 11.7, 17.7, 34.3, 24.3, 18.7, 27.5, 25.8, 22.5, 14.2, 21.7, 1, 31.2, 13.8, 29.7, 23.1, 26.1, 25.1, 23.4, 21.7, 24.4, 13.2, 22.1, 26.7, 22.7, 1, 18.2, 28.7, 29.1, 27.4, 22.3, 13.2, 22.5, 25.0, 1, 6.6, 23.7, 23.5, 17.3, 24.6, 27.8, 29.7, 25.3, 19.9, 18.2, 26.2, 20.4, 23.3, 26.7, 26.0, 1, 25.1, 33.1, 35.0, 25.3, 23.6, 23.2, 20.2, 24.7, 22.6, 39.1, 26.5, 22.7])"
      ],
      "metadata": {
        "id": "BFTppsBm49Q4"
      },
      "execution_count": 19,
      "outputs": []
    },
    {
      "cell_type": "markdown",
      "metadata": {
        "id": "ahts4AE9vpf7"
      },
      "source": [
        "### Answer"
      ]
    },
    {
      "cell_type": "markdown",
      "metadata": {
        "id": "gVqDb5GJvpf8"
      },
      "source": [
        "*Your answer here.*"
      ]
    },
    {
      "cell_type": "code",
      "source": [
        "plt.boxplot([redwell,whitney])\n"
      ],
      "metadata": {
        "id": "Pa841ckI48Vx",
        "outputId": "8ff30ba4-36eb-4484-96d1-c14279f6f4fe",
        "colab": {
          "base_uri": "https://localhost:8080/",
          "height": 589
        }
      },
      "execution_count": 23,
      "outputs": [
        {
          "output_type": "stream",
          "name": "stderr",
          "text": [
            "/usr/local/lib/python3.7/dist-packages/matplotlib/cbook/__init__.py:1376: VisibleDeprecationWarning: Creating an ndarray from ragged nested sequences (which is a list-or-tuple of lists-or-tuples-or ndarrays with different lengths or shapes) is deprecated. If you meant to do this, you must specify 'dtype=object' when creating the ndarray.\n",
            "  X = np.atleast_1d(X.T if isinstance(X, np.ndarray) else np.asarray(X))\n"
          ]
        },
        {
          "output_type": "execute_result",
          "data": {
            "text/plain": [
              "{'whiskers': [<matplotlib.lines.Line2D at 0x7fb676844950>,\n",
              "  <matplotlib.lines.Line2D at 0x7fb676844f10>,\n",
              "  <matplotlib.lines.Line2D at 0x7fb67683ff90>,\n",
              "  <matplotlib.lines.Line2D at 0x7fb676847510>],\n",
              " 'caps': [<matplotlib.lines.Line2D at 0x7fb67682e490>,\n",
              "  <matplotlib.lines.Line2D at 0x7fb67682e9d0>,\n",
              "  <matplotlib.lines.Line2D at 0x7fb676847a10>,\n",
              "  <matplotlib.lines.Line2D at 0x7fb676847f50>],\n",
              " 'boxes': [<matplotlib.lines.Line2D at 0x7fb67686ad50>,\n",
              "  <matplotlib.lines.Line2D at 0x7fb67683fa10>],\n",
              " 'medians': [<matplotlib.lines.Line2D at 0x7fb67682ef10>,\n",
              "  <matplotlib.lines.Line2D at 0x7fb6768504d0>],\n",
              " 'fliers': [<matplotlib.lines.Line2D at 0x7fb67683f4d0>,\n",
              "  <matplotlib.lines.Line2D at 0x7fb676850a10>],\n",
              " 'means': []}"
            ]
          },
          "metadata": {},
          "execution_count": 23
        },
        {
          "output_type": "display_data",
          "data": {
            "text/plain": [
              "<Figure size 432x288 with 1 Axes>"
            ],
            "image/png": "[encoded data removed]"
          },
          "metadata": {
            "needs_background": "light"
          }
        }
      ]
    },
    {
      "cell_type": "markdown",
      "metadata": {
        "id": "BNxz2MiUvpf8"
      },
      "source": [
        "***"
      ]
    },
    {
      "cell_type": "markdown",
      "metadata": {
        "id": "2Yk8HexYvpf8"
      },
      "source": [
        "# Chi-square test"
      ]
    },
    {
      "cell_type": "markdown",
      "metadata": {
        "id": "dMW0I2Nuvpf9"
      },
      "source": [
        "## Question "
      ]
    },
    {
      "cell_type": "markdown",
      "metadata": {
        "id": "K4dEErD4vpf9"
      },
      "source": [
        "You publish flyers for an event in three different colours and want to test whether the colour has a significant affect on whether people take them. The data is available below.  Use the $\\chi^2$ test to do this, and calculate the probability of the significance of the result.\n",
        "\n",
        "| |white | light blue | neon pink | Totals|\n",
        "|---|---|---|---|---|\n",
        "|Take | 32| 38 | 20| 90| \n",
        "|Don't take | 8| 22 |30 | 60| \n",
        "|Totals | 40|60 | 50| 150| "
      ]
    },
    {
      "cell_type": "markdown",
      "metadata": {
        "id": "Q1PE49FKvpf9"
      },
      "source": [
        "### Answer"
      ]
    },
    {
      "cell_type": "markdown",
      "metadata": {
        "id": "bi8lhaBQvpf9"
      },
      "source": [
        "*Your answer here.*"
      ]
    },
    {
      "cell_type": "markdown",
      "metadata": {
        "id": "hGOYe4xKvpf9"
      },
      "source": [
        "***"
      ]
    }
  ],
  "metadata": {
    "kernelspec": {
      "display_name": "Python 3",
      "language": "python",
      "name": "python3"
    },
    "language_info": {
      "codemirror_mode": {
        "name": "ipython",
        "version": 3
      },
      "file_extension": ".py",
      "mimetype": "text/x-python",
      "name": "python",
      "nbconvert_exporter": "python",
      "pygments_lexer": "ipython3",
      "version": "3.7.4"
    },
    "colab": {
      "provenance": []
    }
  },
  "nbformat": 4,
  "nbformat_minor": 0
}