{
  "cells": [
    {
      "cell_type": "markdown",
      "metadata": {
        "id": "djcqBMfdNMiZ"
      },
      "source": [
        "# Data Analysis - Coursework 1 (35%)\n",
        "\n",
        "***\n",
        "\n",
        "## Short Style Data Analysis Questions\n",
        "### Deadline Friday week 6, 2pm."
      ]
    },
    {
      "cell_type": "markdown",
      "metadata": {
        "id": "WHwWO3DVNMib"
      },
      "source": [
        "***"
      ]
    },
    {
      "cell_type": "markdown",
      "metadata": {
        "id": "hcsM3digNMib"
      },
      "source": [
        "## Instructions"
      ]
    },
    {
      "cell_type": "markdown",
      "metadata": {
        "id": "gjX7U6IKNMib"
      },
      "source": [
        "This coursework assesses learning outcomes from **Chapters 1 - 4** of the course."
      ]
    },
    {
      "cell_type": "markdown",
      "metadata": {
        "id": "L-8dGyIDNMib"
      },
      "source": [
        "**These assessments are equivalent to an exam**:\n",
        "- Submit your work via Turn-It-In on Learning Central. Note that you will need to upload your final notebook exported as a pdf. **Don't forget to execute all of your cells before you export the notebook to pdf**. You can constantly resubmit your turnitin document until the deadline.\n",
        "- The breakdown of the assessment criteria is provided in Learning Central under Assessment.\n",
        "- Don't worry about how your code looks - marks are not given for pretty code, but rather for the approach used in solving the problem, your reasoning, explanation and answer.\n",
        "- Please also take note of the University’s policy on **plagiarism**, which is outlined in your student handbook."
      ]
    },
    {
      "cell_type": "markdown",
      "metadata": {
        "id": "5amnG8qzNMih"
      },
      "source": [
        "***"
      ]
    },
    {
      "cell_type": "markdown",
      "metadata": {
        "id": "CGwBX526NMii"
      },
      "source": [
        "## QUESTION 1"
      ]
    },
    {
      "cell_type": "markdown",
      "metadata": {
        "id": "yBD6oi3ONMii"
      },
      "source": [
        "**[10 marks]**"
      ]
    },
    {
      "cell_type": "markdown",
      "metadata": {
        "id": "XAwsVSYeNMii"
      },
      "source": [
        "Answer:"
      ]
    },
    {
      "cell_type": "code",
      "source": [
        "def p_(f): #probability of passing each module\n",
        "  return 0.8*f"
      ],
      "metadata": {
        "id": "D7bZaWnJyayy"
      },
      "execution_count": 8,
      "outputs": []
    },
    {
      "cell_type": "markdown",
      "source": [
        "#####A) f = 1"
      ],
      "metadata": {
        "id": "mFugFnO3zXly"
      }
    },
    {
      "cell_type": "code",
      "source": [
        "f = 1 #they attend all modules\n",
        "p = p_(f) #probability of passing each individual module"
      ],
      "metadata": {
        "id": "VRhENJbnzWbs"
      },
      "execution_count": 9,
      "outputs": []
    },
    {
      "cell_type": "markdown",
      "source": [
        "#####**i**) probability of passing all three modules"
      ],
      "metadata": {
        "id": "Seus2PDzziLp"
      }
    },
    {
      "cell_type": "code",
      "source": [
        "from scipy import special \n",
        "def mod_pass_prob(p,x,n):\n",
        "  return special.comb(n,x) * p**(x) * (1-p)**(n-x) #n[CHOOSE]x * (p_success ^ n_successes) * (p_faliure ^ n_faliures)\n",
        "\n",
        "n = 3 #number of modules\n",
        "x = 3 #number of successes\n",
        "\n",
        "p_3 = mod_pass_prob(p,x,n) \n",
        "\n",
        "print(f\"Probability of passing all 3 modules = {p_3:.4f}\")"
      ],
      "metadata": {
        "id": "l2rRZIdqzjsp",
        "outputId": "80cd62a5-c2f3-4ea6-ec18-d091e87e5769",
        "colab": {
          "base_uri": "https://localhost:8080/"
        }
      },
      "execution_count": 10,
      "outputs": [
        {
          "output_type": "stream",
          "name": "stdout",
          "text": [
            "Probability of passing all 3 modules = 0.5120\n"
          ]
        }
      ]
    },
    {
      "cell_type": "markdown",
      "source": [
        "#####**ii**) probability of passing two modules and failing one"
      ],
      "metadata": {
        "id": "1LoHXsCf1TSr"
      }
    },
    {
      "cell_type": "code",
      "source": [
        "x = 2 #number of successes\n",
        "p_2 = mod_pass_prob(p,x,n) \n",
        "\n",
        "print(f\"Probability of passing 2 modules = {p_2:.4f}\")"
      ],
      "metadata": {
        "id": "kD-bbEO01dgp",
        "outputId": "b1951e44-ca96-4f5a-9f6a-ae9af109ee09",
        "colab": {
          "base_uri": "https://localhost:8080/"
        }
      },
      "execution_count": 11,
      "outputs": [
        {
          "output_type": "stream",
          "name": "stdout",
          "text": [
            "Probability of passing 2 modules = 0.3840\n"
          ]
        }
      ]
    },
    {
      "cell_type": "markdown",
      "source": [
        "#####**iii**) probability of passing only one module"
      ],
      "metadata": {
        "id": "cSUmDV-31_ZV"
      }
    },
    {
      "cell_type": "code",
      "source": [
        "x = 1 #number of successes\n",
        "p_1 = mod_pass_prob(p,x,n) \n",
        "\n",
        "print(f\"Probability of passing only 1 module = {p_1:.4f}\")"
      ],
      "metadata": {
        "id": "FeHCVMr-2LPH",
        "outputId": "e4adfaeb-02df-47d3-894d-e7434b9c2c71",
        "colab": {
          "base_uri": "https://localhost:8080/"
        }
      },
      "execution_count": 12,
      "outputs": [
        {
          "output_type": "stream",
          "name": "stdout",
          "text": [
            "Probability of passing only 1 module = 0.0960\n"
          ]
        }
      ]
    },
    {
      "cell_type": "markdown",
      "source": [
        "#####**iv**) probability of passing no modules"
      ],
      "metadata": {
        "id": "9p4eqWUm2XZM"
      }
    },
    {
      "cell_type": "code",
      "source": [
        "x = 0 #number of successes\n",
        "p_0 = mod_pass_prob(p,x,n)\n",
        "\n",
        "print(f\"Probability of passing no modules = {p_0:.4f}\")"
      ],
      "metadata": {
        "id": "0wfT7XIN2e5T",
        "outputId": "28221121-0e6b-4f43-d58e-d6492896a71f",
        "colab": {
          "base_uri": "https://localhost:8080/"
        }
      },
      "execution_count": 13,
      "outputs": [
        {
          "output_type": "stream",
          "name": "stdout",
          "text": [
            "Probability of passing no modules = 0.0080\n"
          ]
        }
      ]
    },
    {
      "cell_type": "markdown",
      "source": [
        "#####B) show these sum to 1"
      ],
      "metadata": {
        "id": "DAgJkwCm3lOM"
      }
    },
    {
      "cell_type": "code",
      "source": [
        "import numpy as np\n",
        "total = p_3+p_2+p_1+p_0\n",
        "i = (total == 1)\n",
        "print(f\"the sum of all the probabilities = {total}, so it is {i} that sum of p = 1\")"
      ],
      "metadata": {
        "id": "m8537BRu3uWR",
        "outputId": "1c43eb19-23a9-4cfb-edb8-510493e8caa4",
        "colab": {
          "base_uri": "https://localhost:8080/"
        }
      },
      "execution_count": 16,
      "outputs": [
        {
          "output_type": "stream",
          "name": "stdout",
          "text": [
            "the sum of all the probabilities = 1.0, so it is True that sum of p = 1\n"
          ]
        }
      ]
    },
    {
      "cell_type": "markdown",
      "metadata": {
        "id": "otkfN6nDNMii"
      },
      "source": [
        "##  QUESTION 2"
      ]
    },
    {
      "cell_type": "markdown",
      "metadata": {
        "id": "pNP2aZ-tNMij"
      },
      "source": [
        "Answer:"
      ]
    },
    {
      "cell_type": "markdown",
      "metadata": {
        "id": "n3tSl1A6NMij"
      },
      "source": [
        "**[20 marks]**"
      ]
    },
    {
      "cell_type": "markdown",
      "metadata": {
        "id": "VWT_PMVqNMij"
      },
      "source": [
        "***"
      ]
    },
    {
      "cell_type": "markdown",
      "metadata": {
        "id": "-fQ6hyRjNMij"
      },
      "source": [
        "## QUESTION 3 "
      ]
    },
    {
      "cell_type": "markdown",
      "metadata": {
        "id": "C_DMa54kNMij"
      },
      "source": [
        "**[15 marks]**"
      ]
    },
    {
      "cell_type": "markdown",
      "metadata": {
        "id": "CSJtagucNMik"
      },
      "source": [
        "Answer:"
      ]
    },
    {
      "cell_type": "markdown",
      "metadata": {
        "id": "wzR9WjBENMik"
      },
      "source": [
        "***"
      ]
    },
    {
      "cell_type": "markdown",
      "metadata": {
        "id": "whLT4pxFNMik"
      },
      "source": [
        "## QUESTION 4 "
      ]
    },
    {
      "cell_type": "markdown",
      "metadata": {
        "id": "Lywd8kTSNMik"
      },
      "source": [
        "**[25 marks]**"
      ]
    },
    {
      "cell_type": "markdown",
      "metadata": {
        "id": "rj2dHbj9NMik"
      },
      "source": [
        "Answer:"
      ]
    },
    {
      "cell_type": "markdown",
      "metadata": {
        "id": "Jku5hQR8NMik"
      },
      "source": [
        "***"
      ]
    },
    {
      "cell_type": "markdown",
      "metadata": {
        "id": "hnQ92ipgNMil"
      },
      "source": [
        "## QUESTION 5"
      ]
    },
    {
      "cell_type": "markdown",
      "metadata": {
        "id": "xdoHwk71NMil"
      },
      "source": [
        "**[30 marks]**"
      ]
    },
    {
      "cell_type": "markdown",
      "metadata": {
        "id": "Ww2wvJ8ZNMil"
      },
      "source": [
        "Answer:"
      ]
    }
  ],
  "metadata": {
    "kernelspec": {
      "display_name": "Python 3 (ipykernel)",
      "language": "python",
      "name": "python3"
    },
    "language_info": {
      "codemirror_mode": {
        "name": "ipython",
        "version": 3
      },
      "file_extension": ".py",
      "mimetype": "text/x-python",
      "name": "python",
      "nbconvert_exporter": "python",
      "pygments_lexer": "ipython3",
      "version": "3.9.7"
    },
    "colab": {
      "provenance": []
    }
  },
  "nbformat": 4,
  "nbformat_minor": 0
}