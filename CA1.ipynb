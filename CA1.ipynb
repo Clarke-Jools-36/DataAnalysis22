{
  "cells": [
    {
      "cell_type": "markdown",
      "metadata": {
        "id": "djcqBMfdNMiZ"
      },
      "source": [
        "# Data Analysis - Coursework 1 (35%)\n",
        "\n",
        "***\n",
        "\n",
        "## Short Style Data Analysis Questions\n",
        "### Deadline Friday week 6, 2pm."
      ]
    },
    {
      "cell_type": "markdown",
      "metadata": {
        "id": "WHwWO3DVNMib"
      },
      "source": [
        "***"
      ]
    },
    {
      "cell_type": "markdown",
      "metadata": {
        "id": "hcsM3digNMib"
      },
      "source": [
        "## Instructions"
      ]
    },
    {
      "cell_type": "markdown",
      "metadata": {
        "id": "gjX7U6IKNMib"
      },
      "source": [
        "This coursework assesses learning outcomes from **Chapters 1 - 4** of the course."
      ]
    },
    {
      "cell_type": "markdown",
      "metadata": {
        "id": "L-8dGyIDNMib"
      },
      "source": [
        "**These assessments are equivalent to an exam**:\n",
        "- Submit your work via Turn-It-In on Learning Central. Note that you will need to upload your final notebook exported as a pdf. **Don't forget to execute all of your cells before you export the notebook to pdf**. You can constantly resubmit your turnitin document until the deadline.\n",
        "- The breakdown of the assessment criteria is provided in Learning Central under Assessment.\n",
        "- Don't worry about how your code looks - marks are not given for pretty code, but rather for the approach used in solving the problem, your reasoning, explanation and answer.\n",
        "- Please also take note of the University’s policy on **plagiarism**, which is outlined in your student handbook."
      ]
    },
    {
      "cell_type": "markdown",
      "metadata": {
        "id": "5amnG8qzNMih"
      },
      "source": [
        "***"
      ]
    },
    {
      "cell_type": "markdown",
      "metadata": {
        "id": "CGwBX526NMii"
      },
      "source": [
        "## QUESTION 1"
      ]
    },
    {
      "cell_type": "markdown",
      "metadata": {
        "id": "yBD6oi3ONMii"
      },
      "source": [
        "**[10 marks]**"
      ]
    },
    {
      "cell_type": "markdown",
      "metadata": {
        "id": "XAwsVSYeNMii"
      },
      "source": [
        "Answer:"
      ]
    },
    {
      "cell_type": "code",
      "source": [
        "def p_(f): #probability of passing each module\n",
        "  return 0.8*f"
      ],
      "metadata": {
        "id": "D7bZaWnJyayy"
      },
      "execution_count": 1,
      "outputs": []
    },
    {
      "cell_type": "markdown",
      "source": [
        "#####A) f = 1"
      ],
      "metadata": {
        "id": "mFugFnO3zXly"
      }
    },
    {
      "cell_type": "code",
      "source": [
        "f = 1 #they attend all modules\n",
        "p = p_(f) #probability of passing each individual module"
      ],
      "metadata": {
        "id": "VRhENJbnzWbs"
      },
      "execution_count": 2,
      "outputs": []
    },
    {
      "cell_type": "markdown",
      "source": [
        "#####**i**) probability of passing all three modules"
      ],
      "metadata": {
        "id": "Seus2PDzziLp"
      }
    },
    {
      "cell_type": "code",
      "source": [
        "from scipy import special \n",
        "def mod_pass_prob(p,x,n):\n",
        "  return special.comb(n,x) * p**(x) * (1-p)**(n-x) #n[CHOOSE]x * (p_success ^ n_successes) * (p_faliure ^ n_faliures)\n",
        "\n",
        "n = 3 #number of modules\n",
        "x = 3 #number of successes\n",
        "\n",
        "p_3 = mod_pass_prob(p,x,n) \n",
        "\n",
        "print(f\"Probability of passing all 3 modules = {p_3:.4f}\")"
      ],
      "metadata": {
        "id": "l2rRZIdqzjsp",
        "outputId": "bd11d1d7-5cf8-48d0-b869-0598596d2f22",
        "colab": {
          "base_uri": "https://localhost:8080/"
        }
      },
      "execution_count": 3,
      "outputs": [
        {
          "output_type": "stream",
          "name": "stdout",
          "text": [
            "Probability of passing all 3 modules = 0.5120\n"
          ]
        }
      ]
    },
    {
      "cell_type": "markdown",
      "source": [
        "#####**ii**) probability of passing two modules and failing one"
      ],
      "metadata": {
        "id": "1LoHXsCf1TSr"
      }
    },
    {
      "cell_type": "code",
      "source": [
        "x = 2 #number of successes\n",
        "p_2 = mod_pass_prob(p,x,n) \n",
        "\n",
        "print(f\"Probability of passing 2 modules = {p_2:.4f}\")"
      ],
      "metadata": {
        "id": "kD-bbEO01dgp",
        "outputId": "bf157b90-a54c-491c-8ba4-53e5cda9b7c4",
        "colab": {
          "base_uri": "https://localhost:8080/"
        }
      },
      "execution_count": 4,
      "outputs": [
        {
          "output_type": "stream",
          "name": "stdout",
          "text": [
            "Probability of passing 2 modules = 0.3840\n"
          ]
        }
      ]
    },
    {
      "cell_type": "markdown",
      "source": [
        "#####**iii**) probability of passing only one module"
      ],
      "metadata": {
        "id": "cSUmDV-31_ZV"
      }
    },
    {
      "cell_type": "code",
      "source": [
        "x = 1 #number of successes\n",
        "p_1 = mod_pass_prob(p,x,n) \n",
        "\n",
        "print(f\"Probability of passing only 1 module = {p_1:.4f}\")"
      ],
      "metadata": {
        "id": "FeHCVMr-2LPH",
        "outputId": "b1997900-541c-4a5e-e591-8932ef0fff18",
        "colab": {
          "base_uri": "https://localhost:8080/"
        }
      },
      "execution_count": 5,
      "outputs": [
        {
          "output_type": "stream",
          "name": "stdout",
          "text": [
            "Probability of passing only 1 module = 0.0960\n"
          ]
        }
      ]
    },
    {
      "cell_type": "markdown",
      "source": [
        "#####**iv**) probability of passing no modules"
      ],
      "metadata": {
        "id": "9p4eqWUm2XZM"
      }
    },
    {
      "cell_type": "code",
      "source": [
        "x = 0 #number of successes\n",
        "p_0 = mod_pass_prob(p,x,n)\n",
        "\n",
        "print(f\"Probability of passing no modules = {p_0:.4f}\")"
      ],
      "metadata": {
        "id": "0wfT7XIN2e5T",
        "outputId": "d4528e6f-4b50-4d25-8e5d-2d8c20843e9b",
        "colab": {
          "base_uri": "https://localhost:8080/"
        }
      },
      "execution_count": 6,
      "outputs": [
        {
          "output_type": "stream",
          "name": "stdout",
          "text": [
            "Probability of passing no modules = 0.0080\n"
          ]
        }
      ]
    },
    {
      "cell_type": "markdown",
      "source": [
        "#####B) show these sum to 1"
      ],
      "metadata": {
        "id": "DAgJkwCm3lOM"
      }
    },
    {
      "cell_type": "code",
      "source": [
        "import numpy as np\n",
        "total = p_3+p_2+p_1+p_0\n",
        "i = (total == 1)\n",
        "print(f\"the sum of all the probabilities = {total}, so it is {i} that sum of p = 1\")"
      ],
      "metadata": {
        "id": "m8537BRu3uWR",
        "outputId": "08f5cc70-3adb-4979-9704-c39cf6874e38",
        "colab": {
          "base_uri": "https://localhost:8080/"
        }
      },
      "execution_count": 7,
      "outputs": [
        {
          "output_type": "stream",
          "name": "stdout",
          "text": [
            "the sum of all the probabilities = 1.0, so it is True that sum of p = 1\n"
          ]
        }
      ]
    },
    {
      "cell_type": "markdown",
      "source": [
        "#####C) f = 0.5"
      ],
      "metadata": {
        "id": "oX_d2q-WASEU"
      }
    },
    {
      "cell_type": "code",
      "source": [
        "f = 0.5 #they attend half all modules\n",
        "p = p_(f) #probability of passing each individual module\n",
        "\n",
        "x = np.array([3,2,1,0])\n",
        "\n",
        "p_s = mod_pass_prob(p,x,n) #calculate all the probabilities at once using numpy\n",
        "\n",
        "print(f\"the probabilities for passing either 3, 2, 1, or no modules are {p_s} respectively\")"
      ],
      "metadata": {
        "colab": {
          "base_uri": "https://localhost:8080/"
        },
        "id": "zld5k9xwAZya",
        "outputId": "52f4befe-14f2-46db-c120-e4660013ba9c"
      },
      "execution_count": 11,
      "outputs": [
        {
          "output_type": "stream",
          "name": "stdout",
          "text": [
            "the probabilities for passing either 3, 2, 1, or no modules are [0.064 0.288 0.432 0.216] respectively\n"
          ]
        }
      ]
    },
    {
      "cell_type": "markdown",
      "source": [
        "#####D) for p_3 = 0.5, what is f"
      ],
      "metadata": {
        "id": "7ODFA7myCbfZ"
      }
    },
    {
      "cell_type": "code",
      "source": [
        "import matplotlib.pyplot as plt\n",
        "\n",
        "\n",
        "f = np.linspace(0.95,1,100000)\n",
        "\n",
        "p = p_(f)\n",
        "n = 3\n",
        "x = 3\n",
        "\n",
        "p_s = mod_pass_prob(p,x,n)\n",
        "\n",
        "plt.plot(f,p_s, \"r-\")\n",
        "plt.axhline(0.5)\n",
        "\n",
        "plt.xlabel(\"fraction of weekly live sessions attended\")\n",
        "plt.ylabel(\"probability of passing all 3 modules\")\n",
        "plt.grid()\n",
        "\n",
        "f_50 = f[np.where(np.round(p_s, 6) == 0.5)]\n",
        "\n",
        "print(f\"to 4.d.p. the value of f where p_3 = 0.5 is {f_50[0]:.4f}\")"
      ],
      "metadata": {
        "colab": {
          "base_uri": "https://localhost:8080/",
          "height": 296
        },
        "id": "sFFGPOHgCkL5",
        "outputId": "96830965-b98d-4159-8b16-e80de076ef4b"
      },
      "execution_count": 52,
      "outputs": [
        {
          "output_type": "stream",
          "name": "stdout",
          "text": [
            "to 4.d.p. the value of f where p_3 = 0.5 is 0.9921\n"
          ]
        },
        {
          "output_type": "display_data",
          "data": {
            "text/plain": [
              "<Figure size 432x288 with 1 Axes>"
            ],
            "image/png": "[encoded data removed]"
          },
          "metadata": {
            "needs_background": "light"
          }
        }
      ]
    },
    {
      "cell_type": "markdown",
      "source": [
        "#####F) \n",
        "This is an unrealistic way to model the probability that a student will pass the modules, because not everyone has equal access to attend the live lectures in person, for example someone who works hard but is disabled will ultimately miss more in person lectures that someone who never engages in the module, but their favourite class is in the same building only an hour before. If however, there are assessed quizes conducted in the live lecture which are worth credit for the module, this becomes a more viable model. "
      ],
      "metadata": {
        "id": "yZ78Yr3tH_Kp"
      }
    },
    {
      "cell_type": "markdown",
      "metadata": {
        "id": "otkfN6nDNMii"
      },
      "source": [
        "##  QUESTION 2"
      ]
    },
    {
      "cell_type": "markdown",
      "metadata": {
        "id": "pNP2aZ-tNMij"
      },
      "source": [
        "Answer:"
      ]
    },
    {
      "cell_type": "markdown",
      "metadata": {
        "id": "n3tSl1A6NMij"
      },
      "source": [
        "**[20 marks]**"
      ]
    },
    {
      "cell_type": "markdown",
      "metadata": {
        "id": "VWT_PMVqNMij"
      },
      "source": [
        "***"
      ]
    },
    {
      "cell_type": "markdown",
      "metadata": {
        "id": "-fQ6hyRjNMij"
      },
      "source": [
        "## QUESTION 3 "
      ]
    },
    {
      "cell_type": "markdown",
      "metadata": {
        "id": "C_DMa54kNMij"
      },
      "source": [
        "**[15 marks]**"
      ]
    },
    {
      "cell_type": "markdown",
      "metadata": {
        "id": "CSJtagucNMik"
      },
      "source": [
        "Answer:"
      ]
    },
    {
      "cell_type": "markdown",
      "metadata": {
        "id": "wzR9WjBENMik"
      },
      "source": [
        "***"
      ]
    },
    {
      "cell_type": "markdown",
      "metadata": {
        "id": "whLT4pxFNMik"
      },
      "source": [
        "## QUESTION 4 "
      ]
    },
    {
      "cell_type": "markdown",
      "metadata": {
        "id": "Lywd8kTSNMik"
      },
      "source": [
        "**[25 marks]**"
      ]
    },
    {
      "cell_type": "markdown",
      "metadata": {
        "id": "rj2dHbj9NMik"
      },
      "source": [
        "Answer:"
      ]
    },
    {
      "cell_type": "markdown",
      "metadata": {
        "id": "Jku5hQR8NMik"
      },
      "source": [
        "***"
      ]
    },
    {
      "cell_type": "markdown",
      "metadata": {
        "id": "hnQ92ipgNMil"
      },
      "source": [
        "## QUESTION 5"
      ]
    },
    {
      "cell_type": "markdown",
      "metadata": {
        "id": "xdoHwk71NMil"
      },
      "source": [
        "**[30 marks]**"
      ]
    },
    {
      "cell_type": "markdown",
      "metadata": {
        "id": "Ww2wvJ8ZNMil"
      },
      "source": [
        "Answer:"
      ]
    },
    {
      "cell_type": "markdown",
      "source": [
        "First lets plot the data"
      ],
      "metadata": {
        "id": "9Uz7CY5JJ2Tj"
      }
    },
    {
      "cell_type": "code",
      "source": [
        "player_id = np.array([1,2,3,4,5,6,7,8,9,10])\n",
        "m100 = np.array([ 11, 12, 12, 13, 13, 15, 11, 16, 11, 12]) #time in seconds to run the 100m race\n",
        "m1500 = np.array([270, 300, 230, 260, 270, 230, 260, 240, 270, 260]) #time in seconds to run the 1500m race\n",
        "\n",
        "plt.plot(m100, m1500, \"or\")\n",
        "\n",
        "for i, _id in enumerate(player_id): #plot the player id at each point\n",
        "    plt.annotate(_id, (m100[i], m1500[i]))"
      ],
      "metadata": {
        "colab": {
          "base_uri": "https://localhost:8080/",
          "height": 265
        },
        "id": "TIIWDCQUJS2u",
        "outputId": "7aaad8a1-a231-4da7-e827-fdf88350e0cc"
      },
      "execution_count": 57,
      "outputs": [
        {
          "output_type": "display_data",
          "data": {
            "text/plain": [
              "<Figure size 432x288 with 1 Axes>"
            ],
            "image/png": "[encoded data removed]"
          },
          "metadata": {
            "needs_background": "light"
          }
        }
      ]
    },
    {
      "cell_type": "markdown",
      "source": [
        "We can see that player 1 and 9 scored identical times in both tests"
      ],
      "metadata": {
        "id": "DAJOaNevLSjo"
      }
    },
    {
      "cell_type": "code",
      "source": [],
      "metadata": {
        "id": "7Vojm3ZiJ1Mx"
      },
      "execution_count": null,
      "outputs": []
    }
  ],
  "metadata": {
    "kernelspec": {
      "display_name": "Python 3 (ipykernel)",
      "language": "python",
      "name": "python3"
    },
    "language_info": {
      "codemirror_mode": {
        "name": "ipython",
        "version": 3
      },
      "file_extension": ".py",
      "mimetype": "text/x-python",
      "name": "python",
      "nbconvert_exporter": "python",
      "pygments_lexer": "ipython3",
      "version": "3.9.7"
    },
    "colab": {
      "provenance": []
    }
  },
  "nbformat": 4,
  "nbformat_minor": 0
}