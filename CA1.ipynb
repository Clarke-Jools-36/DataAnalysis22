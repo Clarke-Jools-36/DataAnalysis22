{
  "cells": [
    {
      "cell_type": "markdown",
      "metadata": {
        "id": "djcqBMfdNMiZ"
      },
      "source": [
        "# Data Analysis - Coursework 1 (35%)\n",
        "\n",
        "***\n",
        "\n",
        "## Short Style Data Analysis Questions\n",
        "### Deadline Friday week 6, 2pm."
      ]
    },
    {
      "cell_type": "markdown",
      "metadata": {
        "id": "WHwWO3DVNMib"
      },
      "source": [
        "***"
      ]
    },
    {
      "cell_type": "markdown",
      "metadata": {
        "id": "hcsM3digNMib"
      },
      "source": [
        "## Instructions"
      ]
    },
    {
      "cell_type": "markdown",
      "metadata": {
        "id": "gjX7U6IKNMib"
      },
      "source": [
        "This coursework assesses learning outcomes from **Chapters 1 - 4** of the course."
      ]
    },
    {
      "cell_type": "markdown",
      "metadata": {
        "id": "L-8dGyIDNMib"
      },
      "source": [
        "**These assessments are equivalent to an exam**:\n",
        "- Submit your work via Turn-It-In on Learning Central. Note that you will need to upload your final notebook exported as a pdf. **Don't forget to execute all of your cells before you export the notebook to pdf**. You can constantly resubmit your turnitin document until the deadline.\n",
        "- The breakdown of the assessment criteria is provided in Learning Central under Assessment.\n",
        "- Don't worry about how your code looks - marks are not given for pretty code, but rather for the approach used in solving the problem, your reasoning, explanation and answer.\n",
        "- Please also take note of the University’s policy on **plagiarism**, which is outlined in your student handbook."
      ]
    },
    {
      "cell_type": "markdown",
      "metadata": {
        "id": "5amnG8qzNMih"
      },
      "source": [
        "***"
      ]
    },
    {
      "cell_type": "markdown",
      "metadata": {
        "id": "CGwBX526NMii"
      },
      "source": [
        "## QUESTION 1"
      ]
    },
    {
      "cell_type": "markdown",
      "metadata": {
        "id": "yBD6oi3ONMii"
      },
      "source": [
        "**[10 marks]**"
      ]
    },
    {
      "cell_type": "markdown",
      "metadata": {
        "id": "XAwsVSYeNMii"
      },
      "source": [
        "Answer:"
      ]
    },
    {
      "cell_type": "code",
      "source": [
        "def p_(f): #probability of passing each module\n",
        "  return 0.8*f"
      ],
      "metadata": {
        "id": "D7bZaWnJyayy"
      },
      "execution_count": null,
      "outputs": []
    },
    {
      "cell_type": "markdown",
      "source": [
        "#####A) f = 1"
      ],
      "metadata": {
        "id": "mFugFnO3zXly"
      }
    },
    {
      "cell_type": "code",
      "source": [
        "f = 1 #they attend all modules\n",
        "p = p_(f) #probability of passing each individual module"
      ],
      "metadata": {
        "id": "VRhENJbnzWbs"
      },
      "execution_count": null,
      "outputs": []
    },
    {
      "cell_type": "markdown",
      "source": [
        "#####**i**) probability of passing all three modules"
      ],
      "metadata": {
        "id": "Seus2PDzziLp"
      }
    },
    {
      "cell_type": "code",
      "source": [
        "from scipy import special \n",
        "def mod_pass_prob(p,x,n):\n",
        "  return special.comb(n,x) * p**(x) * (1-p)**(n-x) #n[CHOOSE]x * (p_success ^ n_successes) * (p_faliure ^ n_faliures)\n",
        "\n",
        "n = 3 #number of modules\n",
        "x = 3 #number of successes\n",
        "\n",
        "p_3 = mod_pass_prob(p,x,n) \n",
        "\n",
        "print(f\"Probability of passing all 3 modules = {p_3:.4f}\")"
      ],
      "metadata": {
        "id": "l2rRZIdqzjsp",
        "outputId": "e6a67565-3434-490e-f63c-8cc9e50a066c",
        "colab": {
          "base_uri": "https://localhost:8080/"
        }
      },
      "execution_count": null,
      "outputs": [
        {
          "output_type": "stream",
          "name": "stdout",
          "text": [
            "Probability of passing all 3 modules = 0.5120\n"
          ]
        }
      ]
    },
    {
      "cell_type": "markdown",
      "source": [
        "#####**ii**) probability of passing two modules and failing one"
      ],
      "metadata": {
        "id": "1LoHXsCf1TSr"
      }
    },
    {
      "cell_type": "code",
      "source": [
        "x = 2 #number of successes\n",
        "p_2 = mod_pass_prob(p,x,n) \n",
        "\n",
        "print(f\"Probability of passing 2 modules = {p_2:.4f}\")"
      ],
      "metadata": {
        "id": "kD-bbEO01dgp",
        "outputId": "82fec510-23c0-4b21-e94c-f8de62185e1b",
        "colab": {
          "base_uri": "https://localhost:8080/"
        }
      },
      "execution_count": null,
      "outputs": [
        {
          "output_type": "stream",
          "name": "stdout",
          "text": [
            "Probability of passing 2 modules = 0.3840\n"
          ]
        }
      ]
    },
    {
      "cell_type": "markdown",
      "source": [
        "#####**iii**) probability of passing only one module"
      ],
      "metadata": {
        "id": "cSUmDV-31_ZV"
      }
    },
    {
      "cell_type": "code",
      "source": [
        "x = 1 #number of successes\n",
        "p_1 = mod_pass_prob(p,x,n) \n",
        "\n",
        "print(f\"Probability of passing only 1 module = {p_1:.4f}\")"
      ],
      "metadata": {
        "id": "FeHCVMr-2LPH",
        "outputId": "d501e0ba-d0f4-4a57-99c0-90a8a37a95ff",
        "colab": {
          "base_uri": "https://localhost:8080/"
        }
      },
      "execution_count": null,
      "outputs": [
        {
          "output_type": "stream",
          "name": "stdout",
          "text": [
            "Probability of passing only 1 module = 0.0960\n"
          ]
        }
      ]
    },
    {
      "cell_type": "markdown",
      "source": [
        "#####**iv**) probability of passing no modules"
      ],
      "metadata": {
        "id": "9p4eqWUm2XZM"
      }
    },
    {
      "cell_type": "code",
      "source": [
        "x = 0 #number of successes\n",
        "p_0 = mod_pass_prob(p,x,n)\n",
        "\n",
        "print(f\"Probability of passing no modules = {p_0:.4f}\")"
      ],
      "metadata": {
        "id": "0wfT7XIN2e5T",
        "outputId": "09eeaa8f-b126-4d71-f73d-87e99020c935",
        "colab": {
          "base_uri": "https://localhost:8080/"
        }
      },
      "execution_count": null,
      "outputs": [
        {
          "output_type": "stream",
          "name": "stdout",
          "text": [
            "Probability of passing no modules = 0.0080\n"
          ]
        }
      ]
    },
    {
      "cell_type": "markdown",
      "source": [
        "#####B) show these sum to 1"
      ],
      "metadata": {
        "id": "DAgJkwCm3lOM"
      }
    },
    {
      "cell_type": "code",
      "source": [
        "import numpy as np\n",
        "total = p_3+p_2+p_1+p_0\n",
        "i = (total == 1)\n",
        "print(f\"the sum of all the probabilities = {total}, so it is {i} that sum of p = 1\")"
      ],
      "metadata": {
        "id": "m8537BRu3uWR",
        "outputId": "98072fc3-73b4-427a-b186-423d3889944b",
        "colab": {
          "base_uri": "https://localhost:8080/"
        }
      },
      "execution_count": null,
      "outputs": [
        {
          "output_type": "stream",
          "name": "stdout",
          "text": [
            "the sum of all the probabilities = 1.0, so it is True that sum of p = 1\n"
          ]
        }
      ]
    },
    {
      "cell_type": "markdown",
      "source": [
        "#####C) f = 0.5"
      ],
      "metadata": {
        "id": "oX_d2q-WASEU"
      }
    },
    {
      "cell_type": "code",
      "source": [
        "f = 0.5 #they attend half all modules\n",
        "p = p_(f) #probability of passing each individual module\n",
        "\n",
        "x = np.array([3,2,1,0])\n",
        "\n",
        "p_s = mod_pass_prob(p,x,n) #calculate all the probabilities at once using numpy\n",
        "\n",
        "print(f\"the probabilities for passing either 3, 2, 1, or no modules are {p_s} respectively\")"
      ],
      "metadata": {
        "colab": {
          "base_uri": "https://localhost:8080/"
        },
        "id": "zld5k9xwAZya",
        "outputId": "c7a8cf65-2f43-4a21-fe17-8e63af33c7a2"
      },
      "execution_count": null,
      "outputs": [
        {
          "output_type": "stream",
          "name": "stdout",
          "text": [
            "the probabilities for passing either 3, 2, 1, or no modules are [0.064 0.288 0.432 0.216] respectively\n"
          ]
        }
      ]
    },
    {
      "cell_type": "markdown",
      "source": [
        "#####D) for p_3 = 0.5, what is f"
      ],
      "metadata": {
        "id": "7ODFA7myCbfZ"
      }
    },
    {
      "cell_type": "code",
      "source": [
        "import matplotlib.pyplot as plt\n",
        "\n",
        "\n",
        "f = np.linspace(0.95,1,100000)\n",
        "\n",
        "p = p_(f)\n",
        "n = 3\n",
        "x = 3\n",
        "\n",
        "p_s = mod_pass_prob(p,x,n)\n",
        "\n",
        "plt.plot(f,p_s, \"r-\")\n",
        "plt.axhline(0.5)\n",
        "\n",
        "plt.xlabel(\"fraction of weekly live sessions attended\")\n",
        "plt.ylabel(\"probability of passing all 3 modules\")\n",
        "plt.grid()\n",
        "\n",
        "f_50 = f[np.where(np.round(p_s, 6) == 0.5)]\n",
        "\n",
        "print(f\"to 4.d.p. the value of f where p_3 = 0.5 is {f_50[0]:.4f}\")"
      ],
      "metadata": {
        "colab": {
          "base_uri": "https://localhost:8080/",
          "height": 297
        },
        "id": "sFFGPOHgCkL5",
        "outputId": "f743f8f0-0a30-42fd-e131-857191e4899e"
      },
      "execution_count": null,
      "outputs": [
        {
          "output_type": "stream",
          "name": "stdout",
          "text": [
            "to 4.d.p. the value of f where p_3 = 0.5 is 0.9921\n"
          ]
        },
        {
          "output_type": "display_data",
          "data": {
            "text/plain": [
              "<Figure size 432x288 with 1 Axes>"
            ],
            "image/png": "[encoded data removed]"
          },
          "metadata": {
            "needs_background": "light"
          }
        }
      ]
    },
    {
      "cell_type": "markdown",
      "source": [
        "#####F) \n",
        "This is an unrealistic way to model the probability that a student will pass the modules, because not everyone has equal access to attend the live lectures in person, for example someone who works hard but is disabled will ultimately miss more in person lectures that someone who never engages in the module, but their favourite class is in the same building only an hour before. If however, there are assessed quizes conducted in the live lecture which are worth credit for the module, this becomes a more viable model. "
      ],
      "metadata": {
        "id": "yZ78Yr3tH_Kp"
      }
    },
    {
      "cell_type": "markdown",
      "metadata": {
        "id": "otkfN6nDNMii"
      },
      "source": [
        "##  QUESTION 2"
      ]
    },
    {
      "cell_type": "markdown",
      "metadata": {
        "id": "pNP2aZ-tNMij"
      },
      "source": [
        "Answer:"
      ]
    },
    {
      "cell_type": "markdown",
      "metadata": {
        "id": "n3tSl1A6NMij"
      },
      "source": [
        "**[20 marks]**"
      ]
    },
    {
      "cell_type": "code",
      "source": [
        "p_D3_given_melanoma = 0.65"
      ],
      "metadata": {
        "id": "9Da_1tn1GtoL"
      },
      "execution_count": null,
      "outputs": []
    },
    {
      "cell_type": "markdown",
      "source": [
        "$H_0:$ is that the probability for M23 being present is no greater than the probability of D3 being present\n",
        "\n",
        "$H_1:$ is that the probability of M23 being present is greater than D3\n",
        "\n",
        "This means we can test the probability of 7/7 patients with the disease having M23 occurring randomly if the probability of them having M23 individually is = 0.65"
      ],
      "metadata": {
        "id": "8oUicfBXHFt4"
      }
    },
    {
      "cell_type": "code",
      "source": [
        "from scipy import stats\n",
        "r = np.array([7])\n",
        "n = 7\n",
        "p = p_D3_given_melanoma\n",
        "print(f'The probability of 7/7 occuring with a probability of {p_D3_given_melanoma} is {sum(stats.binom.pmf(r, n, p)):.4%}')"
      ],
      "metadata": {
        "id": "Ka04CxgpONO-",
        "outputId": "478bcb58-d7c9-48f4-d7d0-e2d07001228c",
        "colab": {
          "base_uri": "https://localhost:8080/"
        }
      },
      "execution_count": null,
      "outputs": [
        {
          "output_type": "stream",
          "name": "stdout",
          "text": [
            "The probability of 7/7 occuring with a probability of 0.65 is 4.9022%\n"
          ]
        }
      ]
    },
    {
      "cell_type": "markdown",
      "source": [
        "As the probability is less than 5%, this means we can reject $H_0$ in favour of $H_1$, there is significant evidence that the new marker is better for the disease. "
      ],
      "metadata": {
        "id": "7NCAoxldeVJ2"
      }
    },
    {
      "cell_type": "code",
      "source": [
        "import numpy as np\n",
        "import pylab as plt\n",
        "# install packaged to do a normal function\n",
        "from scipy.stats import binom\n",
        "x = np.array([0,1,2,3,4,5,6,7])\n",
        "\n",
        "plt.plot(x, binom.pmf(x, 7, 0.65), \"kx\")\n",
        "\n",
        "plt.axhline(0.05)"
      ],
      "metadata": {
        "id": "zDSVBnaNfLmG",
        "outputId": "724bb240-0b9b-434a-b934-978cfdedcb42",
        "colab": {
          "base_uri": "https://localhost:8080/",
          "height": 283
        }
      },
      "execution_count": null,
      "outputs": [
        {
          "output_type": "execute_result",
          "data": {
            "text/plain": [
              "<matplotlib.lines.Line2D at 0x7f98940f1690>"
            ]
          },
          "metadata": {},
          "execution_count": 14
        },
        {
          "output_type": "display_data",
          "data": {
            "text/plain": [
              "<Figure size 432x288 with 1 Axes>"
            ],
            "image/png": "[encoded data removed]"
          },
          "metadata": {
            "needs_background": "light"
          }
        }
      ]
    },
    {
      "cell_type": "markdown",
      "metadata": {
        "id": "VWT_PMVqNMij"
      },
      "source": [
        "***"
      ]
    },
    {
      "cell_type": "markdown",
      "metadata": {
        "id": "-fQ6hyRjNMij"
      },
      "source": [
        "## QUESTION 3 "
      ]
    },
    {
      "cell_type": "markdown",
      "metadata": {
        "id": "C_DMa54kNMij"
      },
      "source": [
        "**[15 marks]**"
      ]
    },
    {
      "cell_type": "markdown",
      "metadata": {
        "id": "CSJtagucNMik"
      },
      "source": [
        "Answer:"
      ]
    },
    {
      "cell_type": "markdown",
      "source": [
        "Assume binomial distribution,\n",
        "asssume N is large so it follows normal distribution\n",
        "\n",
        "$\\frac{\\sigma}{N} < 2.5$\n",
        "\n",
        "estimate is half\n",
        "\n",
        "$\\theta = 0.5$\n",
        "\n",
        "from reference tables\n",
        "\n",
        "$P(\\mu -1.96\\sigma < X < \\mu + 1.96\\sigma) \\sim 0.95$\n",
        "\n",
        "so then lets combine and rearange to find N\n",
        "\n",
        "$0.025 = \\frac{1.96\\sqrt{N\\theta(1-\\theta)}}{N}$\n",
        "\n",
        "$0.025 = \\frac{\\sqrt{N}}{N}1.96\\sqrt{\\theta(1-\\theta)}$\n",
        "\n",
        "$ \\frac{N}{\\sqrt{N}} = 1/0.025 \\times 1.96\\sqrt{\\theta(1-\\theta)}$\n",
        "\n",
        "$ \\sqrt{N} = \\frac{1.96}{0.025} \\times \\sqrt{0.5\\times(1-0.5)}$\n",
        "\n",
        "$ \\sqrt{N} = \\frac{1.96}{0.025} \\times \\sqrt{0.5^2}$\n",
        "\n",
        "$ \\sqrt{N} = \\frac{1.96}{0.025} \\times \\sqrt{0.5^2}$\n",
        "\n",
        "$ N = (\\frac{1.96}{0.025} \\times \\sqrt{0.5^2})^2$"
      ],
      "metadata": {
        "id": "yzkR_PxqexBk"
      }
    },
    {
      "cell_type": "code",
      "source": [
        "import numpy as np\n",
        "N = ((1.96)/(0.025) * np.sqrt(0.5**2))**2\n",
        "print(f'Need to examine {N:.0f} products before they can say <2.5% error')"
      ],
      "metadata": {
        "id": "97A30GgJGsWr",
        "colab": {
          "base_uri": "https://localhost:8080/",
          "height": 0
        },
        "outputId": "687c3d81-cec5-4ced-938c-af2a6fb51410"
      },
      "execution_count": 20,
      "outputs": [
        {
          "output_type": "stream",
          "name": "stdout",
          "text": [
            "Need to examine 1537 products before they can say <2.5% error\n"
          ]
        }
      ]
    },
    {
      "cell_type": "markdown",
      "metadata": {
        "id": "wzR9WjBENMik"
      },
      "source": [
        "***"
      ]
    },
    {
      "cell_type": "markdown",
      "metadata": {
        "id": "whLT4pxFNMik"
      },
      "source": [
        "## QUESTION 4 "
      ]
    },
    {
      "cell_type": "markdown",
      "metadata": {
        "id": "Lywd8kTSNMik"
      },
      "source": [
        "**[25 marks]**"
      ]
    },
    {
      "cell_type": "markdown",
      "metadata": {
        "id": "rj2dHbj9NMik"
      },
      "source": [
        "Answer:"
      ]
    },
    {
      "cell_type": "code",
      "source": [
        "            |  for  |  against |  total  \n",
        "republicans |  0.35 |          |  0.36\n",
        "democrats   |       |   0.80   |  0.40\n",
        "independent |  0.10 |          |  \n",
        "total       |       |          |"
      ],
      "metadata": {
        "id": "XMFLVFZ98_Ok",
        "colab": {
          "base_uri": "https://localhost:8080/",
          "height": 133
        },
        "outputId": "2056d3c6-afc0-4ddf-cc25-cbdd44d9aea8"
      },
      "execution_count": 5,
      "outputs": [
        {
          "output_type": "error",
          "ename": "SyntaxError",
          "evalue": "ignored",
          "traceback": [
            "\u001b[0;36m  File \u001b[0;32m\"<ipython-input-5-7246662d8a3c>\"\u001b[0;36m, line \u001b[0;32m1\u001b[0m\n\u001b[0;31m    |  for  |  against |  total\u001b[0m\n\u001b[0m    ^\u001b[0m\n\u001b[0;31mSyntaxError\u001b[0m\u001b[0;31m:\u001b[0m invalid syntax\n"
          ]
        }
      ]
    },
    {
      "cell_type": "code",
      "source": [
        "repub_t = 0.36 #total republicans\n",
        "democ_t = 0.40 #total democrats\n",
        "indep_t = 1-(repub_t+democ_t)\n",
        "total_t = 1 #fractions add to 1 :)\n",
        "\n",
        "repub_f = 0.35 * repub_t #republicans for\n",
        "democ_a = 0.80 * democ_t\n",
        "indep_f = 0.10 * indep_t #independent for\n",
        "\n",
        "repub_a = repub_t - repub_f \n",
        "democ_f = democ_t - democ_a\n",
        "indep_a = indep_t - indep_f\n",
        "\n",
        "total_f = repub_f + democ_f + indep_f\n",
        "total_a = repub_a + democ_a + indep_a\n",
        "\n",
        "total_t = total_a + total_f\n",
        "\n",
        "print(f\"total for {total_f}\")\n",
        "print(f\"total against {total_a}\")\n",
        "\n",
        "print(f\"sum check: {total_t}\")"
      ],
      "metadata": {
        "id": "1OMXUQf-GqeV",
        "colab": {
          "base_uri": "https://localhost:8080/",
          "height": 0
        },
        "outputId": "db255a95-8081-4577-af5c-204da756d90d"
      },
      "execution_count": 6,
      "outputs": [
        {
          "output_type": "stream",
          "name": "stdout",
          "text": [
            "total for 0.22999999999999995\n",
            "total against 0.77\n",
            "sum check: 1.0\n"
          ]
        }
      ]
    },
    {
      "cell_type": "code",
      "source": [
        "print(f\"\"\"\n",
        "            |  for   | against|  total  \n",
        "republicans | {repub_f:.4f} | {repub_a:.4f} | {repub_t:.4f}\n",
        "democrats   | {democ_f:.4f} | {democ_a:.4f} | {democ_t:.4f}\n",
        "independent | {indep_f:.4f} | {indep_a:.4f} | {indep_t:.4f} \n",
        "total       | {total_f:.4f} | {total_a:.4f} | {total_t:.4f}\n",
        "\"\"\")"
      ],
      "metadata": {
        "id": "6mNb_x-iAz7q",
        "outputId": "7624dc6e-0fba-4a5c-9dd7-39e6a9f25ecb",
        "colab": {
          "base_uri": "https://localhost:8080/",
          "height": 0
        }
      },
      "execution_count": 7,
      "outputs": [
        {
          "output_type": "stream",
          "name": "stdout",
          "text": [
            "\n",
            "            |  for   | against|  total  \n",
            "republicans | 0.1260 | 0.2340 | 0.3600\n",
            "democrats   | 0.0800 | 0.3200 | 0.4000\n",
            "independent | 0.0240 | 0.2160 | 0.2400 \n",
            "total       | 0.2300 | 0.7700 | 1.0000\n",
            "\n"
          ]
        }
      ]
    },
    {
      "cell_type": "code",
      "source": [
        "p_democrat_given_against = democ_a/total_a\n",
        "\n",
        "print(f\"P(democrat|against) = {p_democrat_given_against:.4f}\")"
      ],
      "metadata": {
        "id": "339CNX0MByH1",
        "outputId": "898727d9-159b-4f4e-d362-d5b65cd7545f",
        "colab": {
          "base_uri": "https://localhost:8080/",
          "height": 0
        }
      },
      "execution_count": 11,
      "outputs": [
        {
          "output_type": "stream",
          "name": "stdout",
          "text": [
            "P(democrat|against) = 0.4156\n"
          ]
        }
      ]
    },
    {
      "cell_type": "markdown",
      "source": [
        "Bayes\n",
        "\n",
        "$P(A | B)   = \\dfrac{P(B | A) P(A)} {  P(B | A)P(A) + P(B|A^c)P(A^c) }$\n",
        "\n",
        "so\n",
        "\n",
        "$P(Democrat | Against)   = \\dfrac{P(Against | Democrat) P(Democrat)} {  P(Against | Democrat)P(Democrat) + P(Against|Democrat^c)P(Democrat^c) }$\n",
        "\n",
        "so\n",
        "\n",
        "$P(Democrat | Against)   = \\dfrac{P(Against | Democrat) P(Democrat)} {  P(Against)}$"
      ],
      "metadata": {
        "id": "kfqYYV4-VePV"
      }
    },
    {
      "cell_type": "code",
      "source": [
        "P_Against_Democrat = 1 - 0.80\n",
        "P_Democrat = 0.40\n",
        "\n",
        "P_Democrat_c = 1 - 0.40 #probability you're a republican or independent\n",
        "P_Against_Democrat_c = (1 - 0.35)*(0.36) + (1 - 0.10)*(1-0.36-0.40) #probability you vote against given that you're a republican or independent\n",
        "\n",
        "P_Democrat_Against = (P_Against_Democrat * P_Democrat) / ( (P_Against_Democrat * P_Democrat) + (P_Against_Democrat_c * P_Democrat_c) )"
      ],
      "metadata": {
        "id": "bEyFquEcWPTn"
      },
      "execution_count": 8,
      "outputs": []
    },
    {
      "cell_type": "code",
      "source": [
        "P_Democrat_Against"
      ],
      "metadata": {
        "id": "lQeFGpLJYzQ5",
        "outputId": "bbf2c81d-3d59-432b-8a8e-fdba01117c22",
        "colab": {
          "base_uri": "https://localhost:8080/",
          "height": 0
        }
      },
      "execution_count": 9,
      "outputs": [
        {
          "output_type": "execute_result",
          "data": {
            "text/plain": [
              "0.22857142857142856"
            ]
          },
          "metadata": {},
          "execution_count": 9
        }
      ]
    },
    {
      "cell_type": "code",
      "source": [
        "P_Against = 1-(0.35*0.36 + 0.10*(1-0.4-0.36) + 0.8*0.4)\n",
        "\n",
        "P_Democrat_Against = (P_Against_Democrat * P_Democrat) / (  P_Against )\n",
        "P_Democrat_Against"
      ],
      "metadata": {
        "colab": {
          "base_uri": "https://localhost:8080/",
          "height": 0
        },
        "id": "rwB7r6_7aeEl",
        "outputId": "27b7fa48-5194-4cc4-902a-b866f66d8a6b"
      },
      "execution_count": 13,
      "outputs": [
        {
          "output_type": "execute_result",
          "data": {
            "text/plain": [
              "0.1509433962264151"
            ]
          },
          "metadata": {},
          "execution_count": 13
        }
      ]
    },
    {
      "cell_type": "markdown",
      "metadata": {
        "id": "Jku5hQR8NMik"
      },
      "source": [
        "***"
      ]
    },
    {
      "cell_type": "markdown",
      "metadata": {
        "id": "hnQ92ipgNMil"
      },
      "source": [
        "## QUESTION 5"
      ]
    },
    {
      "cell_type": "markdown",
      "metadata": {
        "id": "xdoHwk71NMil"
      },
      "source": [
        "**[30 marks]**"
      ]
    },
    {
      "cell_type": "markdown",
      "metadata": {
        "id": "Ww2wvJ8ZNMil"
      },
      "source": [
        "Answer:"
      ]
    },
    {
      "cell_type": "markdown",
      "source": [
        "First lets plot the data"
      ],
      "metadata": {
        "id": "9Uz7CY5JJ2Tj"
      }
    },
    {
      "cell_type": "code",
      "source": [
        "player_id = np.array([1,2,3,4,5,6,7,8,9,10])\n",
        "m100 = np.array([ 11, 12, 12, 13, 13, 15, 11, 16, 11, 12]) #time in seconds to run the 100m race\n",
        "m1500 = np.array([270, 300, 230, 260, 270, 230, 260, 240, 270, 260]) #time in seconds to run the 1500m race\n",
        "\n",
        "plt.plot(m1500,m100, \"or\")\n",
        "plt.ylabel(\"100 meter race time (s)\")\n",
        "plt.xlabel(\"1500 meter race time (s)\")\n",
        "plt.grid()\n",
        "for i, _id in enumerate(player_id): #plot the player id at each point\n",
        "    plt.annotate(_id, (m1500[i],m100[i]))"
      ],
      "metadata": {
        "colab": {
          "base_uri": "https://localhost:8080/",
          "height": 279
        },
        "id": "TIIWDCQUJS2u",
        "outputId": "22987899-00fc-472a-b905-7874ced7bc62"
      },
      "execution_count": null,
      "outputs": [
        {
          "output_type": "display_data",
          "data": {
            "text/plain": [
              "<Figure size 432x288 with 1 Axes>"
            ],
            "image/png": "[encoded data removed]"
          },
          "metadata": {
            "needs_background": "light"
          }
        }
      ]
    },
    {
      "cell_type": "markdown",
      "source": [
        "There is no obvious visible trend from this graph. Note there are only 9 points, but we can see that player 1 and 9 scored identical times in both tests"
      ],
      "metadata": {
        "id": "DAJOaNevLSjo"
      }
    },
    {
      "cell_type": "code",
      "source": [
        "def spearman_diy(x,y):\n",
        "  rank_x = stats.rankdata(x)\n",
        "  rank_y = stats.rankdata(y)\n",
        "\n",
        "  N = len(x)\n",
        "\n",
        "  num = np.sum( (rank_x * rank_y) ) - ((N * (N+1)**2)/4)\n",
        "\n",
        "  denom_x = ( np.sum(rank_x**2 )- (N * (N+1)**2)/4)\n",
        "  denom_y = ( np.sum(rank_y**2 )- (N * (N+1)**2)/4)\n",
        "  denom = denom_x**(1/2)*denom_y**(1/2)\n",
        "\n",
        "  return num / denom"
      ],
      "metadata": {
        "id": "q391qhx5ER_S"
      },
      "execution_count": null,
      "outputs": []
    },
    {
      "cell_type": "code",
      "source": [
        "def pearsonr_homebrew(x,y):\n",
        "  o_xy = np.sum((x-np.mean(x))*(y-np.mean(y)))\n",
        "  o_x = np.sum((x-np.mean(x))**2)\n",
        "  o_y = np.sum((y-np.mean(y))**2)\n",
        "\n",
        "  return o_xy/np.sqrt(o_x * o_y)\n"
      ],
      "metadata": {
        "id": "QQEMKFh2bnfG"
      },
      "execution_count": null,
      "outputs": []
    },
    {
      "cell_type": "code",
      "source": [
        "corr = pearsonr_homebrew(m1500, m100)\n",
        "print(f\"Pearsons correlation = {corr:.4f}\")\n",
        "\n",
        "corr = spearman_diy(m1500, m100)\n",
        "print(f'spearman correlation is: {corr:.3f}')"
      ],
      "metadata": {
        "id": "7Vojm3ZiJ1Mx",
        "colab": {
          "base_uri": "https://localhost:8080/"
        },
        "outputId": "816a6971-5e55-4a5b-9f77-59f5f5c09073"
      },
      "execution_count": null,
      "outputs": [
        {
          "output_type": "stream",
          "name": "stdout",
          "text": [
            "Pearsons correlation = -0.5295\n",
            "spearman correlation is: -0.474\n"
          ]
        }
      ]
    },
    {
      "cell_type": "markdown",
      "source": [
        "As the question is asking if the two are significantly correllated, we can set our null hypothesis \n",
        "\n",
        "$H_0$: there is no association between the times run in 1500m and 100m races. \n",
        "\n",
        "This makes our alternative hypothesis\n",
        "\n",
        "$H_1$: there is significant monotomic association between the times run in 1500m and 100m races. "
      ],
      "metadata": {
        "id": "cw2AmOPZ9gAn"
      }
    },
    {
      "cell_type": "code",
      "source": [
        "#make a function to plot the cumulative distribution function for the sample\n",
        "def cdf(x):\n",
        "    xs = np.sort(x)\n",
        "    # this basically makes a cumulative distribution function\n",
        "    ys = np.arange(1, len(xs)+1)/float(len(xs))\n",
        "    return xs, ys\n",
        "\n",
        "p_t,p_cdf = cdf(m1500/m1500.mean()) #adjust for the average of each\n",
        "t_t,t_cdf = cdf(m100/m100.mean())\n",
        "\n",
        "plt.plot(p_t,p_cdf,label='m1500')\n",
        "plt.plot(t_t,t_cdf,label='m100')\n",
        "\n",
        "\n",
        "plt.legend()\n",
        "plt.ylabel('CDF')\n",
        "plt.xlabel('time / mean time')"
      ],
      "metadata": {
        "id": "LVs9k0NAcx79",
        "outputId": "caf11e83-4c08-4471-c7a3-fbe4b92f619a",
        "colab": {
          "base_uri": "https://localhost:8080/",
          "height": 297
        }
      },
      "execution_count": null,
      "outputs": [
        {
          "output_type": "execute_result",
          "data": {
            "text/plain": [
              "Text(0.5, 0, 'time / mean time')"
            ]
          },
          "metadata": {},
          "execution_count": 19
        },
        {
          "output_type": "display_data",
          "data": {
            "text/plain": [
              "<Figure size 432x288 with 1 Axes>"
            ],
            "image/png": "[encoded data removed]"
          },
          "metadata": {
            "needs_background": "light"
          }
        }
      ]
    },
    {
      "cell_type": "code",
      "source": [],
      "metadata": {
        "id": "N_uhPdz8Sjcx"
      },
      "execution_count": null,
      "outputs": []
    }
  ],
  "metadata": {
    "kernelspec": {
      "display_name": "Python 3 (ipykernel)",
      "language": "python",
      "name": "python3"
    },
    "language_info": {
      "codemirror_mode": {
        "name": "ipython",
        "version": 3
      },
      "file_extension": ".py",
      "mimetype": "text/x-python",
      "name": "python",
      "nbconvert_exporter": "python",
      "pygments_lexer": "ipython3",
      "version": "3.9.7"
    },
    "colab": {
      "provenance": []
    }
  },
  "nbformat": 4,
  "nbformat_minor": 0
}