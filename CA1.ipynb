{
  "cells": [
    {
      "cell_type": "markdown",
      "metadata": {
        "id": "djcqBMfdNMiZ"
      },
      "source": [
        "# Data Analysis - Coursework 1 (35%)\n",
        "\n",
        "***\n",
        "\n",
        "## Short Style Data Analysis Questions\n",
        "### Deadline Friday week 6, 2pm."
      ]
    },
    {
      "cell_type": "markdown",
      "metadata": {
        "id": "WHwWO3DVNMib"
      },
      "source": [
        "***"
      ]
    },
    {
      "cell_type": "markdown",
      "metadata": {
        "id": "hcsM3digNMib"
      },
      "source": [
        "## Instructions"
      ]
    },
    {
      "cell_type": "markdown",
      "metadata": {
        "id": "gjX7U6IKNMib"
      },
      "source": [
        "This coursework assesses learning outcomes from **Chapters 1 - 4** of the course."
      ]
    },
    {
      "cell_type": "markdown",
      "metadata": {
        "id": "L-8dGyIDNMib"
      },
      "source": [
        "**These assessments are equivalent to an exam**:\n",
        "- Submit your work via Turn-It-In on Learning Central. Note that you will need to upload your final notebook exported as a pdf. **Don't forget to execute all of your cells before you export the notebook to pdf**. You can constantly resubmit your turnitin document until the deadline.\n",
        "- The breakdown of the assessment criteria is provided in Learning Central under Assessment.\n",
        "- Don't worry about how your code looks - marks are not given for pretty code, but rather for the approach used in solving the problem, your reasoning, explanation and answer.\n",
        "- Please also take note of the University’s policy on **plagiarism**, which is outlined in your student handbook."
      ]
    },
    {
      "cell_type": "markdown",
      "metadata": {
        "id": "5amnG8qzNMih"
      },
      "source": [
        "***"
      ]
    },
    {
      "cell_type": "markdown",
      "metadata": {
        "id": "CGwBX526NMii"
      },
      "source": [
        "## QUESTION 1"
      ]
    },
    {
      "cell_type": "markdown",
      "metadata": {
        "id": "yBD6oi3ONMii"
      },
      "source": [
        "**[10 marks]**"
      ]
    },
    {
      "cell_type": "markdown",
      "metadata": {
        "id": "XAwsVSYeNMii"
      },
      "source": [
        "Answer:"
      ]
    },
    {
      "cell_type": "code",
      "source": [
        "def p_(f): #probability of passing each module\n",
        "  return 0.8*f"
      ],
      "metadata": {
        "id": "D7bZaWnJyayy"
      },
      "execution_count": 1,
      "outputs": []
    },
    {
      "cell_type": "markdown",
      "source": [
        "#####A) f = 1"
      ],
      "metadata": {
        "id": "mFugFnO3zXly"
      }
    },
    {
      "cell_type": "code",
      "source": [
        "f = 1 #they attend all modules\n",
        "p = p_(f) #probability of passing each individual module"
      ],
      "metadata": {
        "id": "VRhENJbnzWbs"
      },
      "execution_count": 2,
      "outputs": []
    },
    {
      "cell_type": "markdown",
      "source": [
        "#####**i**) probability of passing all three modules"
      ],
      "metadata": {
        "id": "Seus2PDzziLp"
      }
    },
    {
      "cell_type": "code",
      "source": [
        "from scipy import special \n",
        "def mod_pass_prob(p,x,n):\n",
        "  return special.comb(n,x) * p**(x) * (1-p)**(n-x) #n[CHOOSE]x * (p_success ^ n_successes) * (p_faliure ^ n_faliures)\n",
        "\n",
        "n = 3 #number of modules\n",
        "x = 3 #number of successes\n",
        "\n",
        "p_3 = mod_pass_prob(p,x,n) \n",
        "\n",
        "print(f\"Probability of passing all 3 modules = {p_3:.4f}\")"
      ],
      "metadata": {
        "id": "l2rRZIdqzjsp",
        "outputId": "f0e603df-92e2-4394-9b5e-befa555b1960",
        "colab": {
          "base_uri": "https://localhost:8080/"
        }
      },
      "execution_count": 3,
      "outputs": [
        {
          "output_type": "stream",
          "name": "stdout",
          "text": [
            "Probability of passing all 3 modules = 0.5120\n"
          ]
        }
      ]
    },
    {
      "cell_type": "markdown",
      "source": [
        "#####**ii**) probability of passing two modules and failing one"
      ],
      "metadata": {
        "id": "1LoHXsCf1TSr"
      }
    },
    {
      "cell_type": "code",
      "source": [
        "x = 2 #number of successes\n",
        "p_2 = mod_pass_prob(p,x,n) \n",
        "\n",
        "print(f\"Probability of passing 2 modules = {p_2:.4f}\")"
      ],
      "metadata": {
        "id": "kD-bbEO01dgp",
        "outputId": "727b8a46-c8d2-47b9-fa19-73658a889eca",
        "colab": {
          "base_uri": "https://localhost:8080/"
        }
      },
      "execution_count": 4,
      "outputs": [
        {
          "output_type": "stream",
          "name": "stdout",
          "text": [
            "Probability of passing 2 modules = 0.3840\n"
          ]
        }
      ]
    },
    {
      "cell_type": "markdown",
      "source": [
        "#####**iii**) probability of passing only one module"
      ],
      "metadata": {
        "id": "cSUmDV-31_ZV"
      }
    },
    {
      "cell_type": "code",
      "source": [
        "x = 1 #number of successes\n",
        "p_1 = mod_pass_prob(p,x,n) \n",
        "\n",
        "print(f\"Probability of passing only 1 module = {p_1:.4f}\")"
      ],
      "metadata": {
        "id": "FeHCVMr-2LPH",
        "outputId": "32f3fe5b-d544-4a9c-80cf-7b227802b854",
        "colab": {
          "base_uri": "https://localhost:8080/"
        }
      },
      "execution_count": 5,
      "outputs": [
        {
          "output_type": "stream",
          "name": "stdout",
          "text": [
            "Probability of passing only 1 module = 0.0960\n"
          ]
        }
      ]
    },
    {
      "cell_type": "markdown",
      "source": [
        "#####**iv**) probability of passing no modules"
      ],
      "metadata": {
        "id": "9p4eqWUm2XZM"
      }
    },
    {
      "cell_type": "code",
      "source": [
        "x = 0 #number of successes\n",
        "p_0 = mod_pass_prob(p,x,n)\n",
        "\n",
        "print(f\"Probability of passing no modules = {p_0:.4f}\")"
      ],
      "metadata": {
        "id": "0wfT7XIN2e5T",
        "outputId": "d7e2e0e2-2aad-4f15-8292-6b31e787ba5a",
        "colab": {
          "base_uri": "https://localhost:8080/"
        }
      },
      "execution_count": 6,
      "outputs": [
        {
          "output_type": "stream",
          "name": "stdout",
          "text": [
            "Probability of passing no modules = 0.0080\n"
          ]
        }
      ]
    },
    {
      "cell_type": "markdown",
      "source": [
        "#####B) show these sum to 1"
      ],
      "metadata": {
        "id": "DAgJkwCm3lOM"
      }
    },
    {
      "cell_type": "code",
      "source": [
        "import numpy as np\n",
        "total = p_3+p_2+p_1+p_0\n",
        "i = (total == 1)\n",
        "print(f\"the sum of all the probabilities = {total}, so it is {i} that sum of p = 1\")"
      ],
      "metadata": {
        "id": "m8537BRu3uWR",
        "outputId": "06744b96-1379-4d99-b5c8-7f66dd3a5d28",
        "colab": {
          "base_uri": "https://localhost:8080/"
        }
      },
      "execution_count": 7,
      "outputs": [
        {
          "output_type": "stream",
          "name": "stdout",
          "text": [
            "the sum of all the probabilities = 1.0, so it is True that sum of p = 1\n"
          ]
        }
      ]
    },
    {
      "cell_type": "markdown",
      "source": [
        "#####C) f = 0.5"
      ],
      "metadata": {
        "id": "oX_d2q-WASEU"
      }
    },
    {
      "cell_type": "code",
      "source": [
        "f = 0.5 #they attend half all modules\n",
        "p = p_(f) #probability of passing each individual module\n",
        "\n",
        "x = np.array([3,2,1,0])\n",
        "\n",
        "p_s = mod_pass_prob(p,x,n) #calculate all the probabilities at once using numpy\n",
        "\n",
        "print(f\"the probabilities for passing either 3, 2, 1, or no modules are {p_s} respectively\")"
      ],
      "metadata": {
        "colab": {
          "base_uri": "https://localhost:8080/"
        },
        "id": "zld5k9xwAZya",
        "outputId": "a4d0dadb-e5d0-462a-efd6-f30541f97a1f"
      },
      "execution_count": 8,
      "outputs": [
        {
          "output_type": "stream",
          "name": "stdout",
          "text": [
            "the probabilities for passing either 3, 2, 1, or no modules are [0.064 0.288 0.432 0.216] respectively\n"
          ]
        }
      ]
    },
    {
      "cell_type": "markdown",
      "source": [
        "#####D) for p_3 = 0.5, what is f"
      ],
      "metadata": {
        "id": "7ODFA7myCbfZ"
      }
    },
    {
      "cell_type": "code",
      "source": [
        "import matplotlib.pyplot as plt\n",
        "\n",
        "\n",
        "f = np.linspace(0.95,1,100000)\n",
        "\n",
        "p = p_(f)\n",
        "n = 3\n",
        "x = 3\n",
        "\n",
        "p_s = mod_pass_prob(p,x,n)\n",
        "\n",
        "plt.plot(f,p_s, \"r-\")\n",
        "plt.axhline(0.5)\n",
        "\n",
        "plt.xlabel(\"fraction of weekly live sessions attended\")\n",
        "plt.ylabel(\"probability of passing all 3 modules\")\n",
        "plt.grid()\n",
        "\n",
        "f_50 = f[np.where(np.round(p_s, 6) == 0.5)]\n",
        "\n",
        "print(f\"to 4.d.p. the value of f where p_3 = 0.5 is {f_50[0]:.4f}\")"
      ],
      "metadata": {
        "colab": {
          "base_uri": "https://localhost:8080/",
          "height": 296
        },
        "id": "sFFGPOHgCkL5",
        "outputId": "c4f8ec33-3b06-4478-ab5e-7a2773d4e572"
      },
      "execution_count": 9,
      "outputs": [
        {
          "output_type": "stream",
          "name": "stdout",
          "text": [
            "to 4.d.p. the value of f where p_3 = 0.5 is 0.9921\n"
          ]
        },
        {
          "output_type": "display_data",
          "data": {
            "text/plain": [
              "<Figure size 432x288 with 1 Axes>"
            ],
            "image/png": "[encoded data removed]"
          },
          "metadata": {
            "needs_background": "light"
          }
        }
      ]
    },
    {
      "cell_type": "markdown",
      "source": [
        "#####F) \n",
        "This is an unrealistic way to model the probability that a student will pass the modules, because not everyone has equal access to attend the live lectures in person, for example someone who works hard but is disabled will ultimately miss more in person lectures that someone who never engages in the module, but their favourite class is in the same building only an hour before. If however, there are assessed quizes conducted in the live lecture which are worth credit for the module, this becomes a more viable model. "
      ],
      "metadata": {
        "id": "yZ78Yr3tH_Kp"
      }
    },
    {
      "cell_type": "markdown",
      "metadata": {
        "id": "otkfN6nDNMii"
      },
      "source": [
        "##  QUESTION 2"
      ]
    },
    {
      "cell_type": "markdown",
      "metadata": {
        "id": "pNP2aZ-tNMij"
      },
      "source": [
        "Answer:"
      ]
    },
    {
      "cell_type": "markdown",
      "metadata": {
        "id": "n3tSl1A6NMij"
      },
      "source": [
        "**[20 marks]**"
      ]
    },
    {
      "cell_type": "code",
      "source": [
        "p_D3_given_melanoma = 0.65"
      ],
      "metadata": {
        "id": "9Da_1tn1GtoL"
      },
      "execution_count": 36,
      "outputs": []
    },
    {
      "cell_type": "markdown",
      "source": [
        "$H_0:$ is that the probability for M23 being present is no greater than the probability of D3 being present\n",
        "\n",
        "$H_1:$ is that the probability of M23 being present is greater than D3\n",
        "\n",
        "This means we can test the probability of 7/7 patients with the disease having M23 occurring randomly if the probability of them having M23 individually is = 0.65"
      ],
      "metadata": {
        "id": "8oUicfBXHFt4"
      }
    },
    {
      "cell_type": "code",
      "source": [
        "r = np.array([7])\n",
        "n = 7\n",
        "p = p_D3_given_melanoma\n",
        "print(f'The probability of 7/7 occuring with a probability of {p_D3_given_melanoma} is {sum(stats.binom.pmf(r, n, p)):.4%}')"
      ],
      "metadata": {
        "id": "Ka04CxgpONO-",
        "outputId": "77bc0a91-94b6-4774-c757-3f8e5bf22f2d",
        "colab": {
          "base_uri": "https://localhost:8080/"
        }
      },
      "execution_count": 46,
      "outputs": [
        {
          "output_type": "stream",
          "name": "stdout",
          "text": [
            "The probability of 7/7 occuring with a probability of 0.65 is 4.9022%\n"
          ]
        }
      ]
    },
    {
      "cell_type": "markdown",
      "source": [
        "As the probability is less than 5%, this means we can reject $H_0$ in favour of $H_1$, there is significant evidence that the new marker is better for the disease. "
      ],
      "metadata": {
        "id": "7NCAoxldeVJ2"
      }
    },
    {
      "cell_type": "code",
      "source": [
        "import numpy as np\n",
        "import pylab as plt\n",
        "# install packaged to do a normal function\n",
        "from scipy.stats import binom\n",
        "x = np.array([0,1,2,3,4,5,6,7])\n",
        "\n",
        "plt.plot(x, binom.pmf(x, 7, 0.65), \"kx\")"
      ],
      "metadata": {
        "id": "zDSVBnaNfLmG",
        "outputId": "6de07818-3722-422a-c760-42a06a1cc092",
        "colab": {
          "base_uri": "https://localhost:8080/",
          "height": 282
        }
      },
      "execution_count": 10,
      "outputs": [
        {
          "output_type": "execute_result",
          "data": {
            "text/plain": [
              "[<matplotlib.lines.Line2D at 0x7f40c4ae8390>]"
            ]
          },
          "metadata": {},
          "execution_count": 10
        },
        {
          "output_type": "display_data",
          "data": {
            "text/plain": [
              "<Figure size 432x288 with 1 Axes>"
            ],
            "image/png": "[encoded data removed]"
          },
          "metadata": {
            "needs_background": "light"
          }
        }
      ]
    },
    {
      "cell_type": "markdown",
      "metadata": {
        "id": "VWT_PMVqNMij"
      },
      "source": [
        "***"
      ]
    },
    {
      "cell_type": "markdown",
      "metadata": {
        "id": "-fQ6hyRjNMij"
      },
      "source": [
        "## QUESTION 3 "
      ]
    },
    {
      "cell_type": "markdown",
      "metadata": {
        "id": "C_DMa54kNMij"
      },
      "source": [
        "**[15 marks]**"
      ]
    },
    {
      "cell_type": "markdown",
      "metadata": {
        "id": "CSJtagucNMik"
      },
      "source": [
        "Answer:"
      ]
    },
    {
      "cell_type": "code",
      "source": [],
      "metadata": {
        "id": "97A30GgJGsWr"
      },
      "execution_count": null,
      "outputs": []
    },
    {
      "cell_type": "markdown",
      "metadata": {
        "id": "wzR9WjBENMik"
      },
      "source": [
        "***"
      ]
    },
    {
      "cell_type": "markdown",
      "metadata": {
        "id": "whLT4pxFNMik"
      },
      "source": [
        "## QUESTION 4 "
      ]
    },
    {
      "cell_type": "markdown",
      "metadata": {
        "id": "Lywd8kTSNMik"
      },
      "source": [
        "**[25 marks]**"
      ]
    },
    {
      "cell_type": "markdown",
      "metadata": {
        "id": "rj2dHbj9NMik"
      },
      "source": [
        "Answer:"
      ]
    },
    {
      "cell_type": "code",
      "source": [],
      "metadata": {
        "id": "1OMXUQf-GqeV"
      },
      "execution_count": null,
      "outputs": []
    },
    {
      "cell_type": "markdown",
      "metadata": {
        "id": "Jku5hQR8NMik"
      },
      "source": [
        "***"
      ]
    },
    {
      "cell_type": "markdown",
      "metadata": {
        "id": "hnQ92ipgNMil"
      },
      "source": [
        "## QUESTION 5"
      ]
    },
    {
      "cell_type": "markdown",
      "metadata": {
        "id": "xdoHwk71NMil"
      },
      "source": [
        "**[30 marks]**"
      ]
    },
    {
      "cell_type": "markdown",
      "metadata": {
        "id": "Ww2wvJ8ZNMil"
      },
      "source": [
        "Answer:"
      ]
    },
    {
      "cell_type": "markdown",
      "source": [
        "First lets plot the data"
      ],
      "metadata": {
        "id": "9Uz7CY5JJ2Tj"
      }
    },
    {
      "cell_type": "code",
      "source": [
        "player_id = np.array([1,2,3,4,5,6,7,8,9,10])\n",
        "m100 = np.array([ 11, 12, 12, 13, 13, 15, 11, 16, 11, 12]) #time in seconds to run the 100m race\n",
        "m1500 = np.array([270, 300, 230, 260, 270, 230, 260, 240, 270, 260]) #time in seconds to run the 1500m race\n",
        "\n",
        "plt.plot(m1500,m100, \"or\")\n",
        "plt.ylabel(\"100 meter race time (s)\")\n",
        "plt.xlabel(\"1500 meter race time (s)\")\n",
        "plt.grid()\n",
        "for i, _id in enumerate(player_id): #plot the player id at each point\n",
        "    plt.annotate(_id, (m1500[i],m100[i]))"
      ],
      "metadata": {
        "colab": {
          "base_uri": "https://localhost:8080/",
          "height": 279
        },
        "id": "TIIWDCQUJS2u",
        "outputId": "82f3c143-1e6a-400b-92eb-61630416e77e"
      },
      "execution_count": 10,
      "outputs": [
        {
          "output_type": "display_data",
          "data": {
            "text/plain": [
              "<Figure size 432x288 with 1 Axes>"
            ],
            "image/png": "[encoded data removed]"
          },
          "metadata": {
            "needs_background": "light"
          }
        }
      ]
    },
    {
      "cell_type": "markdown",
      "source": [
        "There is no obvious visible trend from this graph. Note there are only 9 points, but we can see that player 1 and 9 scored identical times in both tests"
      ],
      "metadata": {
        "id": "DAJOaNevLSjo"
      }
    },
    {
      "cell_type": "code",
      "source": [
        "from scipy import stats\n",
        "\n",
        "def spearman_diy(x,y):\n",
        "  rank_x = stats.rankdata(x)\n",
        "  rank_y = stats.rankdata(y)\n",
        "\n",
        "  N = len(x)\n",
        "\n",
        "  num = np.sum( (rank_x * rank_y) ) - ((N * (N+1)**2)/4)\n",
        "\n",
        "  denom_x = ( np.sum(rank_x**2 )- (N * (N+1)**2)/4)\n",
        "  denom_y = ( np.sum(rank_y**2 )- (N * (N+1)**2)/4)\n",
        "  denom = denom_x**(1/2)*denom_y**(1/2)\n",
        "\n",
        "  return num / denom"
      ],
      "metadata": {
        "id": "q391qhx5ER_S"
      },
      "execution_count": 19,
      "outputs": []
    },
    {
      "cell_type": "code",
      "source": [
        "def pearsonr_homebrew(x,y):\n",
        "  o_xy = np.sum((x-np.mean(x))*(y-np.mean(y)))\n",
        "  o_x = np.sum((x-np.mean(x))**2)\n",
        "  o_y = np.sum((y-np.mean(y))**2)\n",
        "\n",
        "  return o_xy/np.sqrt(o_x * o_y)\n"
      ],
      "metadata": {
        "id": "QQEMKFh2bnfG"
      },
      "execution_count": 33,
      "outputs": []
    },
    {
      "cell_type": "code",
      "source": [
        "corr = pearsonr_homebrew(m1500, m100)\n",
        "print(f\"Pearsons correlation = {corr:.4f}\")\n",
        "\n",
        "corr = spearman_diy(m1500, m100)\n",
        "print(f'spearman correlation is: {corr:.3f}')"
      ],
      "metadata": {
        "id": "7Vojm3ZiJ1Mx",
        "colab": {
          "base_uri": "https://localhost:8080/"
        },
        "outputId": "fbb1e7fa-296c-44b6-fda9-6a858c75bd5e"
      },
      "execution_count": 34,
      "outputs": [
        {
          "output_type": "stream",
          "name": "stdout",
          "text": [
            "Pearsons correlation = -0.5295\n",
            "spearman correlation is: -0.474\n"
          ]
        }
      ]
    },
    {
      "cell_type": "markdown",
      "source": [
        "As the question is asking if the two are significantly correllated, we can set our null hypothesis \n",
        "\n",
        "$H_0$: there is no association between the times run in 1500m and 100m races. \n",
        "\n",
        "This makes our alternative hypothesis\n",
        "\n",
        "$H_1$: there is significant monotomic association between the times run in 1500m and 100m races. "
      ],
      "metadata": {
        "id": "cw2AmOPZ9gAn"
      }
    },
    {
      "cell_type": "code",
      "source": [
        "#make a function to plot the cumulative distribution function for the sample\n",
        "def cdf(x):\n",
        "    xs = np.sort(x)\n",
        "    # this basically makes a cumulative distribution function\n",
        "    ys = np.arange(1, len(xs)+1)/float(len(xs))\n",
        "    return xs, ys\n",
        "\n",
        "p_t,p_cdf = cdf(m1500/m1500.mean()) #adjust for the average of each\n",
        "t_t,t_cdf = cdf(m100/m100.mean())\n",
        "\n",
        "plt.plot(p_t,p_cdf,label='m1500')\n",
        "plt.plot(t_t,t_cdf,label='m100')\n",
        "\n",
        "\n",
        "plt.legend()\n",
        "plt.ylabel('CDF')\n",
        "plt.xlabel('time / mean time')"
      ],
      "metadata": {
        "id": "LVs9k0NAcx79",
        "outputId": "913836d7-7b81-425b-c3af-6d9f8b455e45",
        "colab": {
          "base_uri": "https://localhost:8080/",
          "height": 296
        }
      },
      "execution_count": 31,
      "outputs": [
        {
          "output_type": "execute_result",
          "data": {
            "text/plain": [
              "Text(0.5, 0, 'time / mean time')"
            ]
          },
          "metadata": {},
          "execution_count": 31
        },
        {
          "output_type": "display_data",
          "data": {
            "text/plain": [
              "<Figure size 432x288 with 1 Axes>"
            ],
            "image/png": "[encoded data removed]"
          },
          "metadata": {
            "needs_background": "light"
          }
        }
      ]
    },
    {
      "cell_type": "code",
      "source": [],
      "metadata": {
        "id": "N_uhPdz8Sjcx"
      },
      "execution_count": null,
      "outputs": []
    }
  ],
  "metadata": {
    "kernelspec": {
      "display_name": "Python 3 (ipykernel)",
      "language": "python",
      "name": "python3"
    },
    "language_info": {
      "codemirror_mode": {
        "name": "ipython",
        "version": 3
      },
      "file_extension": ".py",
      "mimetype": "text/x-python",
      "name": "python",
      "nbconvert_exporter": "python",
      "pygments_lexer": "ipython3",
      "version": "3.9.7"
    },
    "colab": {
      "provenance": []
    }
  },
  "nbformat": 4,
  "nbformat_minor": 0
}