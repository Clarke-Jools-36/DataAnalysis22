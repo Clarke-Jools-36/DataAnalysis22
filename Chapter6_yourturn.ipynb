{
  "cells": [
    {
      "cell_type": "markdown",
      "metadata": {
        "id": "Hw3C-OzQ0G2I"
      },
      "source": [
        "# To be completed at the Live Session and in your own time.\n",
        "\n",
        "These set of examples we will help you get familiar with non parametric tests and correlations within a Jupyter notebook.   The questions coloured green are important practice for CA, particularly CA 2.\n",
        "\n",
        "Before attempting these examples, please ensure you have read through [Chapter 6 Jupyter Notebook](https://github.com/haleygomez/Data-Analysis-2022/blob/master/blended_exercises/Chapter6/Chapter6.ipynb) and have completed the Learning Central **Chapter 6 quiz**. "
      ]
    },
    {
      "cell_type": "markdown",
      "metadata": {
        "id": "K2-4llZ00G2K"
      },
      "source": [
        "***"
      ]
    },
    {
      "cell_type": "code",
      "source": [
        "import numpy as np\n",
        "from matplotlib import pyplot as plt\n"
      ],
      "metadata": {
        "id": "A584rQSa0PvF"
      },
      "execution_count": 2,
      "outputs": []
    },
    {
      "cell_type": "markdown",
      "metadata": {
        "id": "Ft-5ULdp0G2L"
      },
      "source": [
        "#  Credible Intervals"
      ]
    },
    {
      "cell_type": "markdown",
      "metadata": {
        "id": "zjwUUpBS0G2L"
      },
      "source": [
        "## <font color=#30a64d>Question</font>"
      ]
    },
    {
      "cell_type": "markdown",
      "metadata": {
        "id": "swwcCRWp0G2L"
      },
      "source": [
        "Professor Dumbledore, studying the extinction of dragons, discovers a new set of egg remnants in an unexplored valley in Madagascar. The remnants are radio carbon dated and found to have the following ages in years:\n",
        "\n",
        "2141.22, 1781.15, 1523.37, 1816.90, 1932.29, 1541.21, 720.782, 1026.22, 1687.22, 2460.59\n",
        "\n",
        "Professor Snape however did a previous study in the next valley where he found eggs that were on average 1200 years old, following a normal distribution with standard deviation of 300 years. \n",
        "\n",
        "1. What is the mean and standard deviation of the age of elephant bird eggs based on Dumbledore's data?\n",
        "\n",
        "2. Write down an analytical expression for the mean of the ages that takes into account both Professor Dumbledore's new data and the previous age estimate from Professor Snape. Estimate the variance in your mean value.\n",
        "\n",
        "3. Plot and discuss your results including a discussion of your methods."
      ]
    },
    {
      "cell_type": "markdown",
      "metadata": {
        "id": "1IPUXhnX0G2M"
      },
      "source": [
        "### Answer"
      ]
    },
    {
      "cell_type": "markdown",
      "metadata": {
        "id": "ejKz8AVb0G2M"
      },
      "source": [
        "*Your answer here.*"
      ]
    },
    {
      "cell_type": "code",
      "source": [
        "from numpy.core.fromnumeric import mean\n",
        "ages = np.array([2141.22, 1781.15, 1523.37, 1816.90, 1932.29, 1541.21, 720.782, 1026.22, 1687.22, 2460.59])\n",
        "n = len(ages)\n",
        "\n",
        "data_mean = np.mean(ages)\n",
        "data_std = np.std(ages)\n",
        "\n",
        "print(f\"From dumbledores data\\n\\n              mean : {data_mean:.4f}\\nstandard deviation : {data_std:.4f}\")\n",
        "\n"
      ],
      "metadata": {
        "id": "vu0SgnyH0SHW",
        "outputId": "0ccabe6a-6000-4d41-b49f-a5156fb46706",
        "colab": {
          "base_uri": "https://localhost:8080/"
        }
      },
      "execution_count": 12,
      "outputs": [
        {
          "output_type": "stream",
          "name": "stdout",
          "text": [
            "From dumbledores data\n",
            "\n",
            "              mean : 1663.0952\n",
            "standard deviation : 479.9151\n"
          ]
        }
      ]
    },
    {
      "cell_type": "markdown",
      "source": [
        "$P(A|B) = \\frac{P(B|A) P(A)}{P(B)}$"
      ],
      "metadata": {
        "id": "__rI7REh1quJ"
      }
    },
    {
      "cell_type": "code",
      "source": [
        "from scipy.stats import norm\n",
        "\n",
        "prior_mean = 1200\n",
        "prior_std = 300\n",
        "\n",
        "d = np.linspace(0,4000,100)\n",
        "\n",
        "plt.plot(d,norm.pdf(d,prior_mean,prior_std),label='snape - prior',c='purple') #prior\n",
        "plt.plot(d,norm.pdf(d,data_mean,data_std/np.sqrt(n)),label='dumble - likelihood',c='red') # likelihood, /sqrt(N) to make sure the larger the dataset size the smaller the spread\n",
        "\n",
        "plt.legend(loc='best',fontsize=14)\n",
        "\n",
        "plt.xlabel('age')\n",
        "plt.ylabel('PDF')"
      ],
      "metadata": {
        "id": "6HRtGUFM1TtH",
        "outputId": "02de3b77-aea1-4663-b6eb-577ac3190c36",
        "colab": {
          "base_uri": "https://localhost:8080/",
          "height": 297
        }
      },
      "execution_count": 13,
      "outputs": [
        {
          "output_type": "execute_result",
          "data": {
            "text/plain": [
              "Text(0, 0.5, 'PDF')"
            ]
          },
          "metadata": {},
          "execution_count": 13
        },
        {
          "output_type": "display_data",
          "data": {
            "text/plain": [
              "<Figure size 432x288 with 1 Axes>"
            ],
            "image/png": "[encoded data removed]"
          },
          "metadata": {
            "needs_background": "light"
          }
        }
      ]
    },
    {
      "cell_type": "markdown",
      "source": [
        "$ \\hat{\\theta}  = \\dfrac{\\sigma_0^2}{\\sigma_0^2 + \\sigma^2/n} \\hat{X}   +  \\dfrac{\\sigma^2/n} {\\sigma_0^2 + \\sigma^2/n} \\mu_0\n",
        "$\n",
        "\n",
        "$\\hat{\\sigma}^2 =  \\dfrac{\\sigma_0^2 \\sigma^2/n} {\\sigma_0^2 + \\sigma^2/n}.$"
      ],
      "metadata": {
        "id": "K3jdJj1K56uE"
      }
    },
    {
      "cell_type": "code",
      "source": [
        "# function for mean of posterior if posterior normal\n",
        "def post_mean(var_0,var,n,X,mu_0):\n",
        "    result = (var_0/ (var_0 + (var/n)) ) * X + ((var/n)/(var_0+(var/n)))*mu_0\n",
        "    return result\n",
        "\n",
        "# function for width (standard dev) of posterior if posterior normal\n",
        "def post_std(var_0,var,n):\n",
        "    result = np.sqrt((var_0*(var/n)) / (var_0 + (var/n)))\n",
        "    return result\n",
        "\n",
        "\n",
        "posterior_mean = post_mean(prior_std**2,data_std**2,n,data_mean,prior_mean)\n",
        "\n",
        "posterior_std = post_std(prior_std**2,data_std**2,n)\n",
        "\n",
        "print(f\"Posterior\\n\\n              mean : {posterior_mean:.4f}years\\nstandard deviation : {posterior_std:.4f}years\")"
      ],
      "metadata": {
        "id": "K-ssR2lO6B0h",
        "outputId": "424f7241-9b75-4155-faee-807db1cfef93",
        "colab": {
          "base_uri": "https://localhost:8080/"
        }
      },
      "execution_count": 15,
      "outputs": [
        {
          "output_type": "stream",
          "name": "stdout",
          "text": [
            "Posterior\n",
            "\n",
            "              mean : 1568.7329years\n",
            "standard deviation : 135.4208years\n"
          ]
        }
      ]
    },
    {
      "cell_type": "code",
      "source": [
        "plt.plot(d,norm.pdf(d,prior_mean,prior_std),label='snape - prior',c='green') #prior\n",
        "plt.plot(d,norm.pdf(d,data_mean,data_std/np.sqrt(n)),label='dumble - likelihood',c='gold') #likelihood\n",
        "\n",
        "plt.plot(d,norm.pdf(d,posterior_mean,posterior_std),\"k--\",label='posterior') # posterior\n",
        "\n",
        "plt.legend(loc='best',fontsize=14)\n",
        "\n",
        "plt.xlabel('age')\n",
        "plt.ylabel('PDF')"
      ],
      "metadata": {
        "id": "qEadwpjF67re",
        "outputId": "343addfb-f97b-46ca-bfa7-e54b9d67bb98",
        "colab": {
          "base_uri": "https://localhost:8080/",
          "height": 297
        }
      },
      "execution_count": 16,
      "outputs": [
        {
          "output_type": "execute_result",
          "data": {
            "text/plain": [
              "Text(0, 0.5, 'PDF')"
            ]
          },
          "metadata": {},
          "execution_count": 16
        },
        {
          "output_type": "display_data",
          "data": {
            "text/plain": [
              "<Figure size 432x288 with 1 Axes>"
            ],
            "image/png": "[encoded data removed]"
          },
          "metadata": {
            "needs_background": "light"
          }
        }
      ]
    },
    {
      "cell_type": "markdown",
      "metadata": {
        "id": "pGr-Yu1K0G2M"
      },
      "source": [
        "***"
      ]
    }
  ],
  "metadata": {
    "kernelspec": {
      "display_name": "Python 3",
      "language": "python",
      "name": "python3"
    },
    "language_info": {
      "codemirror_mode": {
        "name": "ipython",
        "version": 3
      },
      "file_extension": ".py",
      "mimetype": "text/x-python",
      "name": "python",
      "nbconvert_exporter": "python",
      "pygments_lexer": "ipython3",
      "version": "3.7.4"
    },
    "colab": {
      "provenance": []
    }
  },
  "nbformat": 4,
  "nbformat_minor": 0
}