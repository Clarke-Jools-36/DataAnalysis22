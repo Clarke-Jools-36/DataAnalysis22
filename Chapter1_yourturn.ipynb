{
  "cells": [
    {
      "cell_type": "markdown",
      "metadata": {
        "id": "view-in-github",
        "colab_type": "text"
      },
      "source": [
        "<a href=\"https://colab.research.google.com/github/Clarke-Jools-36/DataAnalysis22/blob/main/Chapter1_yourturn.ipynb\" target=\"_parent\"><img src=\"https://colab.research.google.com/assets/colab-badge.svg\" alt=\"Open In Colab\"/></a>"
      ]
    },
    {
      "cell_type": "markdown",
      "metadata": {
        "id": "m70-leTvV-Fm"
      },
      "source": [
        "# To be completed at the Live Session and in your own time.\n",
        "\n",
        "These set of examples we will help you get familiar with Jupyter notebooks and useful Python packages and terminology - this is important not only for practice required for the assessements, but also to go through some of the basic concepts that will be needed to understand how to do data analysis, using Python and Jupyter Notebooks as our tools. \n",
        "\n",
        "Before attempting these examples, please ensure you have read through [Chapter 1 Jupyter Notebook](https://github.com/haleygomez/Data-Analysis-2022/blob/master/blended_exercises/Chapter1/Chapter1.ipynb) and have completed the Learning Central **Chapter 1 quiz**. "
      ]
    },
    {
      "cell_type": "markdown",
      "metadata": {
        "id": "uQiys78tV-Fp"
      },
      "source": [
        "First we will define some useful packages we want to use in this notebook to answer the following questions:"
      ]
    },
    {
      "cell_type": "code",
      "execution_count": null,
      "metadata": {
        "id": "ixjueA0GV-Fp"
      },
      "outputs": [],
      "source": [
        "# define and import some important things \n",
        "import numpy as np\n",
        "import pylab as plt\n",
        "\n",
        "%matplotlib inline "
      ]
    },
    {
      "cell_type": "markdown",
      "metadata": {
        "id": "S26cbFHBV-Fq"
      },
      "source": [
        "***"
      ]
    },
    {
      "cell_type": "markdown",
      "metadata": {
        "id": "89pOhG7sV-Fq"
      },
      "source": [
        "\n",
        "# Plotting in Python"
      ]
    },
    {
      "cell_type": "markdown",
      "metadata": {
        "id": "quWhhiWAV-Fq"
      },
      "source": [
        "## Question "
      ]
    },
    {
      "cell_type": "markdown",
      "metadata": {
        "id": "aWSZy1afV-Fq"
      },
      "source": [
        "A star brightens over time until it explodes as a supernova. Astronomers record the brightness (as a factor of the normal brightness) with days since it started to brighten, recording the following datasets: <br><br>\n",
        "\n",
        "time = [0.,0.08163265,    0.24489796,  0.32653061,  \n",
        "  0.48979592,   0.73469388,  0.81632653,  \n",
        "  0.97959184 ,  1.2244898 ,  1.30612245,  \n",
        "  1.46938776  ,1.71428571,  1.79591837, \n",
        "  1.95918367 ,   2.20408163,  2.28571429,  \n",
        "  2.44897959 ,    2.7755102,\n",
        "  2.93877551 ,  3.18367347 , 3.26530612  ,\n",
        "  3.42857143 , 3.67346939,  3.75510204   , 4.       ]\n",
        "<br><br>\n",
        "\n",
        "brightness = [0.36253211,    1.16748232 ,\n",
        "  1.78775018,  2.01934344 ,   2.70657393 ,\n",
        "  2.57897185,  2.96562829 ,    3.00174824 ,\n",
        "  2.93663326,  2.80591525 ,   2.11027035 ,\n",
        "  1.67940753,  1.64772549 ,  0.3513817  ,\n",
        "  0.33366962,  0.47097419 , -0.39790443,\n",
        " -0.65133529, -1.52086508 , -1.76831912,\n",
        " -2.05865798, -1.55083722 ,-1.90755375 ,\n",
        " -1.74307249, -1.66250842] \n",
        "\n",
        "<br>\n",
        "\n",
        "Day 0 marks the time of the explosion. \n",
        "<br>\n",
        "\n",
        "1. Plot the data. Don't forget to label the axes. Set the colour of the data to be green with a diamond marker with marker size = 50. <br><br>\n",
        "\n",
        "2. The brightness values have an estimated error of 10%.  Plot the datapoints with errorbars in $y$.   <br><br>\n",
        "\n",
        "3. Astronomer Rees argues that this data could be fit by the function $y =  Asin(Bx)+C$. Plot this function on top of your data with some guesses at what $A$, $B$ and $C$ are (hint: $C=0.5$ provides a good fit to the data).<br><br>\n",
        "\n",
        "4. Discuss the plot."
      ]
    },
    {
      "cell_type": "markdown",
      "metadata": {
        "id": "Qo731EWVV-Fs"
      },
      "source": [
        "### Answer:"
      ]
    },
    {
      "cell_type": "markdown",
      "metadata": {
        "id": "qub-QP2MV-Fs"
      },
      "source": [
        "*Your answer here:*"
      ]
    },
    {
      "cell_type": "markdown",
      "metadata": {
        "id": "Z8X81wgkV-Fs"
      },
      "source": [
        "\n"
      ]
    },
    {
      "cell_type": "code",
      "source": [
        "time = np.array([0.,0.08163265, 0.24489796, 0.32653061,\n",
        "0.48979592, 0.73469388, 0.81632653,\n",
        "0.97959184 , 1.2244898 , 1.30612245,\n",
        "1.46938776 ,1.71428571, 1.79591837, 1.95918367 , 2.20408163, 2.28571429,\n",
        "2.44897959 , 2.7755102, 2.93877551 , 3.18367347 , 3.26530612 , 3.42857143 , 3.67346939, 3.75510204 , 4. ]\n",
        ")\n",
        "brightness = np.array([0.36253211, 1.16748232 , 1.78775018, 2.01934344 , 2.70657393 , 2.57897185, 2.96562829 , 3.00174824 , 2.93663326, 2.80591525 , 2.11027035 , 1.67940753, 1.64772549 , 0.3513817 , 0.33366962, 0.47097419 , -0.39790443, -0.65133529, -1.52086508 , -1.76831912, -2.05865798, -1.55083722 ,-1.90755375 , -1.74307249, -1.66250842])"
      ],
      "metadata": {
        "id": "0n9bxDqiYUh0"
      },
      "execution_count": null,
      "outputs": []
    },
    {
      "cell_type": "code",
      "source": [
        "plt.figure(figsize=(8,8))\n",
        "plt.plot(time,brightness, \"gD\", markersize = 10)\n",
        "plt.xlabel(\"Time\")\n",
        "plt.ylabel(\"Brightness\")\n",
        "\n",
        "plt.errorbar(time,brightness,yerr=(0.1*brightness), fmt='none')\n",
        "\n",
        "\n",
        "def func(x):\n",
        "  a,b,c = 2.4,1.4,0.5\n",
        "  return a*np.sin(b*x)+c\n",
        "\n",
        "plt.plot(time, func(time))"
      ],
      "metadata": {
        "id": "WsMb3qEmYd0P",
        "outputId": "b2bf07a1-c8bb-4aa9-9c67-ce690546b630",
        "colab": {
          "base_uri": "https://localhost:8080/",
          "height": 515
        }
      },
      "execution_count": null,
      "outputs": [
        {
          "output_type": "execute_result",
          "data": {
            "text/plain": [
              "[<matplotlib.lines.Line2D at 0x7fa0d9db8bd0>]"
            ]
          },
          "metadata": {},
          "execution_count": 41
        },
        {
          "output_type": "display_data",
          "data": {
            "text/plain": [
              "<Figure size 576x576 with 1 Axes>"
            ],
            "image/png": "[encoded data removed]"
          },
          "metadata": {
            "needs_background": "light"
          }
        }
      ]
    },
    {
      "cell_type": "markdown",
      "metadata": {
        "id": "ExRer9HsV-Ft"
      },
      "source": [
        "***\n",
        "The plot shows a sin wave, where the error is greater at the extremities"
      ]
    },
    {
      "cell_type": "markdown",
      "metadata": {
        "id": "PiVb4HtgV-Ft"
      },
      "source": [
        " # Conditional Statements"
      ]
    },
    {
      "cell_type": "markdown",
      "metadata": {
        "id": "KTfWnO7nV-Ft"
      },
      "source": [
        "## Question "
      ]
    },
    {
      "cell_type": "markdown",
      "metadata": {
        "id": "iUTrBRsUV-Ft"
      },
      "source": [
        "You are driving too fast and a police officer stops you. Write a **function** to return one of 3 possible results: \"No ticket\", \"Small ticket\", or \"Big Ticket\". If your speed is 70mph or less, the result is \"No Ticket\". If speed is between 71 and 80mph inclusive, the result is \"Small Ticket\". If speed is 81mph or more, the result is \"Big Ticket\". Unless it is your birthday -- on your birthday, the police officer will let you go at 5mph higher in all cases.\n",
        "<br> \n",
        "\n",
        "Tip: For your birthday, use True and False statements.\n",
        "<br> \n",
        "\n",
        "Demonstrate your code works using print statements."
      ]
    },
    {
      "cell_type": "markdown",
      "metadata": {
        "id": "amCPJQBIV-Ft"
      },
      "source": [
        "### Answer:"
      ]
    },
    {
      "cell_type": "markdown",
      "metadata": {
        "id": "Ne750FeuV-Ft"
      },
      "source": [
        "*Your answer here:*"
      ]
    },
    {
      "cell_type": "code",
      "source": [
        "def robocop(speed, birthday=False):\n",
        "  if birthday:\n",
        "    speed = speed - 5\n",
        "  \n",
        "  if speed <= 70:\n",
        "    return \"no ticket\"\n",
        "  elif speed <= 80:\n",
        "    return \"small ticket\"\n",
        "  else:\n",
        "    return \"big ticket\""
      ],
      "metadata": {
        "id": "imBZo3Zcc_jd"
      },
      "execution_count": null,
      "outputs": []
    },
    {
      "cell_type": "code",
      "source": [
        "robocop(75,True)"
      ],
      "metadata": {
        "id": "Lxk1edmyeZH7",
        "outputId": "154a0e00-6319-4711-dcda-c345901e8b1a",
        "colab": {
          "base_uri": "https://localhost:8080/",
          "height": 35
        }
      },
      "execution_count": null,
      "outputs": [
        {
          "output_type": "execute_result",
          "data": {
            "text/plain": [
              "'no ticket'"
            ],
            "application/vnd.google.colaboratory.intrinsic+json": {
              "type": "string"
            }
          },
          "metadata": {},
          "execution_count": 45
        }
      ]
    },
    {
      "cell_type": "code",
      "source": [],
      "metadata": {
        "id": "zdumJpVtegkr"
      },
      "execution_count": null,
      "outputs": []
    }
  ],
  "metadata": {
    "kernelspec": {
      "display_name": "Python 3",
      "language": "python",
      "name": "python3"
    },
    "language_info": {
      "codemirror_mode": {
        "name": "ipython",
        "version": 3
      },
      "file_extension": ".py",
      "mimetype": "text/x-python",
      "name": "python",
      "nbconvert_exporter": "python",
      "pygments_lexer": "ipython3",
      "version": "3.7.4"
    },
    "colab": {
      "provenance": [],
      "include_colab_link": true
    }
  },
  "nbformat": 4,
  "nbformat_minor": 0
}