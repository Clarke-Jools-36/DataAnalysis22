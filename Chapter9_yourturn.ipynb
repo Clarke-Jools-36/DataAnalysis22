{
  "cells": [
    {
      "cell_type": "markdown",
      "metadata": {
        "id": "view-in-github",
        "colab_type": "text"
      },
      "source": [
        "<a href=\"https://colab.research.google.com/github/Clarke-Jools-36/DataAnalysis22/blob/main/Chapter9_yourturn.ipynb\" target=\"_parent\"><img src=\"https://colab.research.google.com/assets/colab-badge.svg\" alt=\"Open In Colab\"/></a>"
      ]
    },
    {
      "cell_type": "markdown",
      "metadata": {
        "id": "_KeqRZv17WTX"
      },
      "source": [
        "# To be completed at the Live Session and in your own time.\n",
        "\n",
        "These set of examples we will help you get familiar with non parametric tests and correlations within a Jupyter notebook.   The questions coloured green are important practice for CA.\n",
        "\n",
        "Before attempting these examples, please ensure you have read through [Chapter 8 Jupyter Notebook](https://github.com/haleygomez/Data-Analysis-2021/blob/master/blended_exercises/Chapter%208/Chapter8.ipynb) and have completed the Learning Central **Chapter 8 quiz**. "
      ]
    },
    {
      "cell_type": "markdown",
      "metadata": {
        "id": "cfy5OD757WTZ"
      },
      "source": [
        "***"
      ]
    },
    {
      "cell_type": "markdown",
      "metadata": {
        "id": "mZCnm6yS7WTZ"
      },
      "source": [
        "# MCMC Model and Data Comparison"
      ]
    },
    {
      "cell_type": "markdown",
      "metadata": {
        "id": "sOztPiu47WTa"
      },
      "source": [
        "## <font color=#30a64d>Question</font>"
      ]
    },
    {
      "cell_type": "markdown",
      "metadata": {
        "id": "arQswcTV7WTa"
      },
      "source": [
        "If you were asked to compare a model with some data using an MCMC, what function would you use as the likelihood when estimating the posterior probability distribution (prior $\\times$ likelihood)?"
      ]
    },
    {
      "cell_type": "markdown",
      "metadata": {
        "id": "g45WyLrK7WTa"
      },
      "source": [
        "### Answer"
      ]
    },
    {
      "cell_type": "markdown",
      "metadata": {
        "id": "KX6pbQm67WTa"
      },
      "source": [
        "*Your answer here*"
      ]
    },
    {
      "cell_type": "markdown",
      "metadata": {
        "id": "jJO62Hlg7WTa"
      },
      "source": [
        "***"
      ]
    },
    {
      "cell_type": "markdown",
      "metadata": {
        "id": "2cL2rSzd7WTb"
      },
      "source": [
        "# Fitting Data with a Model"
      ]
    },
    {
      "cell_type": "markdown",
      "metadata": {
        "id": "m5x5sNiV7WTb"
      },
      "source": [
        "## <font color=#4290C4>Question</font>"
      ]
    },
    {
      "cell_type": "markdown",
      "metadata": {
        "id": "9PHWJXqk7WTb"
      },
      "source": [
        "The government wants to investigate graduate earnings, and so they collect information on graduate earnings (in £1000s) compared to the average UK salary $y$ as well as the number of years after they graduated $x$. This data is found in [DataAnalysis_datafile_2.dat](https://github.com/haleygomez/Data-Analysis-2021/blob/master/blended_exercises/Chapter9/DataAnalysis_datafile_2.dat). \n",
        "\n",
        "1. Perform a straight line fit, calculating, and reporting all the errors, testing if your fit is good.  \n",
        "\n",
        "2. Next perform a Monte Carlo process whereby you use random sampling to make numerical estimations of unknown parameters. Do this by randomly sampling the y values, using the given values and their errors to define the normal from which to sample.  Recalculate the slope and intersect from the new (randomly sampled) data set. Repeat this many different times, using the results of each fit to work out the mean and standard deviation for the fit parameters. "
      ]
    },
    {
      "cell_type": "markdown",
      "metadata": {
        "id": "90B39oOy7WTc"
      },
      "source": [
        "### Answer"
      ]
    },
    {
      "cell_type": "markdown",
      "metadata": {
        "id": "HgOMVfZQ7WTc"
      },
      "source": [
        "*Your answer here*"
      ]
    },
    {
      "cell_type": "markdown",
      "metadata": {
        "id": "3VOcsE7j7WTc"
      },
      "source": [
        "***"
      ]
    }
  ],
  "metadata": {
    "kernelspec": {
      "display_name": "Python 3",
      "language": "python",
      "name": "python3"
    },
    "language_info": {
      "codemirror_mode": {
        "name": "ipython",
        "version": 3
      },
      "file_extension": ".py",
      "mimetype": "text/x-python",
      "name": "python",
      "nbconvert_exporter": "python",
      "pygments_lexer": "ipython3",
      "version": "3.7.4"
    },
    "colab": {
      "provenance": [],
      "include_colab_link": true
    }
  },
  "nbformat": 4,
  "nbformat_minor": 0
}