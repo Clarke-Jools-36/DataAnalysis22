{
  "cells": [
    {
      "cell_type": "markdown",
      "metadata": {
        "id": "_s5iXjf2y1E0"
      },
      "source": [
        "# To be completed at the Live Session and in your own time.\n",
        "\n",
        "These set of examples we will help you get familiar with non parametric tests and correlations within a Jupyter notebook.   The questions coloured green are important practice for CA, particularly CA 2.\n",
        "\n",
        "Before attempting these examples, please ensure you have read through [Chapter 7 Jupyter Notebook](https://github.com/haleygomez/Data-Analysis-2021/blob/master/blended_exercises/Chapter7/Chapter7.ipynb) and have completed the Learning Central **Chapter 7 quiz**. "
      ]
    },
    {
      "cell_type": "markdown",
      "metadata": {
        "id": "asddjvUDy1E2"
      },
      "source": [
        "***"
      ]
    },
    {
      "cell_type": "code",
      "source": [
        "import numpy as np\n",
        "from matplotlib import pyplot as plt\n"
      ],
      "metadata": {
        "id": "bGM1LUubzRgo"
      },
      "execution_count": 2,
      "outputs": []
    },
    {
      "cell_type": "markdown",
      "metadata": {
        "id": "8Ql7Ew7Ey1E3"
      },
      "source": [
        "# MCMC"
      ]
    },
    {
      "cell_type": "markdown",
      "metadata": {
        "id": "NtCkc5usy1E3"
      },
      "source": [
        "## <font color=#30a64d>Question</font>"
      ]
    },
    {
      "cell_type": "markdown",
      "metadata": {
        "id": "HORrzvzRy1E3"
      },
      "source": [
        "In Chapter 6, we saw that Professor Dumbledore, studying the extinction of dragons, discovers a new set of egg remnants in an unexplored valley in Madagascar. The remnants are radio carbon dated and found to have the following ages in years:\n",
        "\n",
        "2141.22, 1781.15, 1523.37, 1816.90, 1932.29, 1541.21, 720.782, 1026.22, 1687.22, 2460.59\n",
        "\n",
        "Professor Snape however did a previous study in the next valley where he found eggs that were on average 1200 years old, following a normal distribution with standard deviation of 300 years. \n",
        "\n",
        "- Write an MCMC algorithm from scratch and use it to create a posterior distribution for the mean age of the eggs. What is the mean and variance for the posterior using your MCMC distribution?\n",
        "\n",
        "- Check the MCMC has converged.\n",
        "\n",
        "- How does this compare with the analytical values you derived in Chapter 6?"
      ]
    },
    {
      "cell_type": "markdown",
      "metadata": {
        "id": "RrZoGF7vy1E3"
      },
      "source": [
        "### Answer"
      ]
    },
    {
      "cell_type": "markdown",
      "metadata": {
        "id": "OEthiABly1E4"
      },
      "source": [
        "*Your answer here*"
      ]
    },
    {
      "cell_type": "code",
      "source": [
        "from scipy.stats import norm\n",
        "%matplotlib inline\n",
        "from tqdm.notebook import tqdm\n",
        "# from last week - analytical values\n",
        "\n",
        "posterior_mean= 1568.7329\n",
        "posterior_std= 135.4208\n",
        "\n",
        "data = np.array([2141.22, 1781.15, 1523.37, 1816.90, 1932.29, 1541.21, 720.782, 1026.22, 1687.22, 2460.59])\n",
        "\n",
        "# define a function for the probability\n",
        "# prob(posterior) = normal(likelihood) x normal(prior)\n",
        "def posterior(theta,data=data): \n",
        "    X_hat=np.mean(data)\n",
        "    n = len(data)\n",
        "    var = np.std(data)**2\n",
        "    sig = np.sqrt(var)/np.sqrt(n)\n",
        "    mu_0 =1200\n",
        "    s_0 = 300\n",
        "    A = 1./(sig*np.sqrt(2*np.pi))\n",
        "    B= (theta - X_hat)**2./(2*sig**2.)    \n",
        "    A_prior = 1./(s_0*np.sqrt(2*np.pi))\n",
        "    B_prior= (theta - mu_0)**2./(2*s_0**2.)\n",
        "    val = norm.pdf(theta,X_hat,sig)*norm.pdf(theta,mu_0,s_0)\n",
        "    return val\n",
        "\n",
        "\n",
        "# set up MCMC step paramaters\n",
        "N_mcmc = 1000\n",
        "theta_current = np.zeros(N_mcmc+1)\n",
        "# use our prior as a guess\n",
        "theta_current[0] = np.mean(data)\n",
        "\n",
        "# choose a value for width of normal distribution to get the step in height\n",
        "# this is between the prior and the likelihood values\n",
        "sigma_mcmc = 150\n",
        "\n",
        "for i in tqdm(range(N_mcmc)):\n",
        "    p_current = posterior(theta_current[i]) # put current value in posterior equation\n",
        "    dtheta = np.random.normal(0,sigma_mcmc) # randomally draw a value of theta to trial \n",
        "    theta_proposed = theta_current[i] + dtheta #get new proposed theta (random theta + stepsize)\n",
        "    p_proposed = posterior(theta_proposed) # calculate posterior p for proposed theta\n",
        "    \n",
        "    #  keep this value if probability proposed theta greater than the current prob\n",
        "    if p_proposed > p_current: \n",
        "        theta_current[i+1] = theta_proposed\n",
        "    else:\n",
        "    # if probability lower\n",
        "    # use the ratios of probability to define probability of whether we move to that value or not\n",
        "        p_new_move = p_proposed/p_current\n",
        "        # generate random number for probability\n",
        "        u_random = np.random.uniform(0,1)\n",
        "        # if u_random < p_new_move, then accept, if not, reject\n",
        "        if u_random <= p_new_move:\n",
        "            theta_current[i+1] = theta_proposed\n",
        "        else:\n",
        "            theta_current[i+1] = theta_current[i]\n",
        "\n",
        "# get mean + std from mcmc generated samples\n",
        "mean_mcmc=np.mean(theta_current)\n",
        "std_mcmc=np.std(theta_current)\n",
        "\n",
        "print(f'The mean age from the MCMC is {mean_mcmc:.2f} +/- {std_mcmc:.2f} years')"
      ],
      "metadata": {
        "id": "lvIhFZPEzLrS",
        "outputId": "c4cc5b0a-9d59-4ac5-ed12-c7ae2ef42001",
        "colab": {
          "base_uri": "https://localhost:8080/",
          "height": 67,
          "referenced_widgets": [
            "1be37bc18c4d4b1f80ac4e4827051f98",
            "3882261cc85e43d3b4f0ff1e23c98199",
            "fdc5cf194e0f46949a87f180f9906ce4",
            "fce545929171449fac602d67c494ac6c",
            "592a98dc85ee478093fd1e1b73afb3a4",
            "784e11cedd5943719eed882114812802",
            "31615eaa6a794a3aa7d7ecd1e16bf70f",
            "2d8bd7da53734835ae06e6e1468ef5b9",
            "9fdc587b76134e608681fa0024025325",
            "668482343e964d9c9b347e5dd60ca056",
            "79528f9583c44194bcd96c2d1be5f4d5"
          ]
        }
      },
      "execution_count": 35,
      "outputs": [
        {
          "output_type": "display_data",
          "data": {
            "text/plain": [
              "  0%|          | 0/1000 [00:00<?, ?it/s]"
            ],
            "application/vnd.jupyter.widget-view+json": {
              "version_major": 2,
              "version_minor": 0,
              "model_id": "1be37bc18c4d4b1f80ac4e4827051f98"
            }
          },
          "metadata": {}
        },
        {
          "output_type": "stream",
          "name": "stdout",
          "text": [
            "The mean age from the MCMC is 1548.77 +/- 133.58 years\n"
          ]
        }
      ]
    },
    {
      "cell_type": "code",
      "source": [
        "# tip : put the plotting routines outside the cell of the \n",
        "# MCMC otherwise you'll need to do your N runs everytime you change a plotting feature\n",
        "# generate x for plotting\n",
        "\n",
        "plt.figure(figsize=(15,5))\n",
        "plt.subplot(121)\n",
        "plt.plot(theta_current) \n",
        "plt.xlabel('run number')\n",
        "plt.ylabel('age / years')\n",
        "plt.xscale(\"log\")\n",
        "\n",
        "x = np.linspace(0,4000,500)\n",
        "posterior_mcmc=norm.pdf(x, mean_mcmc, std_mcmc)\n",
        "\n",
        "plt.subplot(122)\n",
        "#plots the analytic posterior\n",
        "plt.plot(x,norm.pdf(x,posterior_mean,posterior_std),label='posterior analytical',c='black',lw=2)\n",
        "\n",
        "# plots the mcmc generated posterior\n",
        "plt.hist(theta_current,bins=50,density=True,label='heights from MCMC',alpha=0.6)\n",
        "plt.plot(x,posterior_mcmc,label = 'posterior MCMC',c='magenta',lw=4, alpha=0.3)\n",
        "plt.legend(loc='upper left')\n",
        "plt.xlim(750,2500)\n",
        "plt.xlabel('age / years')\n",
        "plt.ylabel('PDF')"
      ],
      "metadata": {
        "id": "PRn7QrVCBcXs",
        "outputId": "a6d6e412-bb6c-4c6d-81d4-5e07bcd97b0a",
        "colab": {
          "base_uri": "https://localhost:8080/",
          "height": 356
        }
      },
      "execution_count": 39,
      "outputs": [
        {
          "output_type": "execute_result",
          "data": {
            "text/plain": [
              "Text(0, 0.5, 'PDF')"
            ]
          },
          "metadata": {},
          "execution_count": 39
        },
        {
          "output_type": "display_data",
          "data": {
            "text/plain": [
              "<Figure size 1080x360 with 2 Axes>"
            ],
            "image/png": "[encoded data removed]"
          },
          "metadata": {
            "needs_background": "light"
          }
        }
      ]
    },
    {
      "cell_type": "markdown",
      "metadata": {
        "id": "Zgt553-ky1E4"
      },
      "source": [
        "***"
      ]
    }
  ],
  "metadata": {
    "kernelspec": {
      "display_name": "Python 3",
      "language": "python",
      "name": "python3"
    },
    "language_info": {
      "codemirror_mode": {
        "name": "ipython",
        "version": 3
      },
      "file_extension": ".py",
      "mimetype": "text/x-python",
      "name": "python",
      "nbconvert_exporter": "python",
      "pygments_lexer": "ipython3",
      "version": "3.7.4"
    },
    "colab": {
      "provenance": []
    },
    "widgets": {
      "application/vnd.jupyter.widget-state+json": {
        "1be37bc18c4d4b1f80ac4e4827051f98": {
          "model_module": "@jupyter-widgets/controls",
          "model_name": "HBoxModel",
          "model_module_version": "1.5.0",
          "state": {
            "_dom_classes": [],
            "_model_module": "@jupyter-widgets/controls",
            "_model_module_version": "1.5.0",
            "_model_name": "HBoxModel",
            "_view_count": null,
            "_view_module": "@jupyter-widgets/controls",
            "_view_module_version": "1.5.0",
            "_view_name": "HBoxView",
            "box_style": "",
            "children": [
              "IPY_MODEL_3882261cc85e43d3b4f0ff1e23c98199",
              "IPY_MODEL_fdc5cf194e0f46949a87f180f9906ce4",
              "IPY_MODEL_fce545929171449fac602d67c494ac6c"
            ],
            "layout": "IPY_MODEL_592a98dc85ee478093fd1e1b73afb3a4"
          }
        },
        "3882261cc85e43d3b4f0ff1e23c98199": {
          "model_module": "@jupyter-widgets/controls",
          "model_name": "HTMLModel",
          "model_module_version": "1.5.0",
          "state": {
            "_dom_classes": [],
            "_model_module": "@jupyter-widgets/controls",
            "_model_module_version": "1.5.0",
            "_model_name": "HTMLModel",
            "_view_count": null,
            "_view_module": "@jupyter-widgets/controls",
            "_view_module_version": "1.5.0",
            "_view_name": "HTMLView",
            "description": "",
            "description_tooltip": null,
            "layout": "IPY_MODEL_784e11cedd5943719eed882114812802",
            "placeholder": "​",
            "style": "IPY_MODEL_31615eaa6a794a3aa7d7ecd1e16bf70f",
            "value": "100%"
          }
        },
        "fdc5cf194e0f46949a87f180f9906ce4": {
          "model_module": "@jupyter-widgets/controls",
          "model_name": "FloatProgressModel",
          "model_module_version": "1.5.0",
          "state": {
            "_dom_classes": [],
            "_model_module": "@jupyter-widgets/controls",
            "_model_module_version": "1.5.0",
            "_model_name": "FloatProgressModel",
            "_view_count": null,
            "_view_module": "@jupyter-widgets/controls",
            "_view_module_version": "1.5.0",
            "_view_name": "ProgressView",
            "bar_style": "success",
            "description": "",
            "description_tooltip": null,
            "layout": "IPY_MODEL_2d8bd7da53734835ae06e6e1468ef5b9",
            "max": 1000,
            "min": 0,
            "orientation": "horizontal",
            "style": "IPY_MODEL_9fdc587b76134e608681fa0024025325",
            "value": 1000
          }
        },
        "fce545929171449fac602d67c494ac6c": {
          "model_module": "@jupyter-widgets/controls",
          "model_name": "HTMLModel",
          "model_module_version": "1.5.0",
          "state": {
            "_dom_classes": [],
            "_model_module": "@jupyter-widgets/controls",
            "_model_module_version": "1.5.0",
            "_model_name": "HTMLModel",
            "_view_count": null,
            "_view_module": "@jupyter-widgets/controls",
            "_view_module_version": "1.5.0",
            "_view_name": "HTMLView",
            "description": "",
            "description_tooltip": null,
            "layout": "IPY_MODEL_668482343e964d9c9b347e5dd60ca056",
            "placeholder": "​",
            "style": "IPY_MODEL_79528f9583c44194bcd96c2d1be5f4d5",
            "value": " 1000/1000 [00:03&lt;00:00, 346.63it/s]"
          }
        },
        "592a98dc85ee478093fd1e1b73afb3a4": {
          "model_module": "@jupyter-widgets/base",
          "model_name": "LayoutModel",
          "model_module_version": "1.2.0",
          "state": {
            "_model_module": "@jupyter-widgets/base",
            "_model_module_version": "1.2.0",
            "_model_name": "LayoutModel",
            "_view_count": null,
            "_view_module": "@jupyter-widgets/base",
            "_view_module_version": "1.2.0",
            "_view_name": "LayoutView",
            "align_content": null,
            "align_items": null,
            "align_self": null,
            "border": null,
            "bottom": null,
            "display": null,
            "flex": null,
            "flex_flow": null,
            "grid_area": null,
            "grid_auto_columns": null,
            "grid_auto_flow": null,
            "grid_auto_rows": null,
            "grid_column": null,
            "grid_gap": null,
            "grid_row": null,
            "grid_template_areas": null,
            "grid_template_columns": null,
            "grid_template_rows": null,
            "height": null,
            "justify_content": null,
            "justify_items": null,
            "left": null,
            "margin": null,
            "max_height": null,
            "max_width": null,
            "min_height": null,
            "min_width": null,
            "object_fit": null,
            "object_position": null,
            "order": null,
            "overflow": null,
            "overflow_x": null,
            "overflow_y": null,
            "padding": null,
            "right": null,
            "top": null,
            "visibility": null,
            "width": null
          }
        },
        "784e11cedd5943719eed882114812802": {
          "model_module": "@jupyter-widgets/base",
          "model_name": "LayoutModel",
          "model_module_version": "1.2.0",
          "state": {
            "_model_module": "@jupyter-widgets/base",
            "_model_module_version": "1.2.0",
            "_model_name": "LayoutModel",
            "_view_count": null,
            "_view_module": "@jupyter-widgets/base",
            "_view_module_version": "1.2.0",
            "_view_name": "LayoutView",
            "align_content": null,
            "align_items": null,
            "align_self": null,
            "border": null,
            "bottom": null,
            "display": null,
            "flex": null,
            "flex_flow": null,
            "grid_area": null,
            "grid_auto_columns": null,
            "grid_auto_flow": null,
            "grid_auto_rows": null,
            "grid_column": null,
            "grid_gap": null,
            "grid_row": null,
            "grid_template_areas": null,
            "grid_template_columns": null,
            "grid_template_rows": null,
            "height": null,
            "justify_content": null,
            "justify_items": null,
            "left": null,
            "margin": null,
            "max_height": null,
            "max_width": null,
            "min_height": null,
            "min_width": null,
            "object_fit": null,
            "object_position": null,
            "order": null,
            "overflow": null,
            "overflow_x": null,
            "overflow_y": null,
            "padding": null,
            "right": null,
            "top": null,
            "visibility": null,
            "width": null
          }
        },
        "31615eaa6a794a3aa7d7ecd1e16bf70f": {
          "model_module": "@jupyter-widgets/controls",
          "model_name": "DescriptionStyleModel",
          "model_module_version": "1.5.0",
          "state": {
            "_model_module": "@jupyter-widgets/controls",
            "_model_module_version": "1.5.0",
            "_model_name": "DescriptionStyleModel",
            "_view_count": null,
            "_view_module": "@jupyter-widgets/base",
            "_view_module_version": "1.2.0",
            "_view_name": "StyleView",
            "description_width": ""
          }
        },
        "2d8bd7da53734835ae06e6e1468ef5b9": {
          "model_module": "@jupyter-widgets/base",
          "model_name": "LayoutModel",
          "model_module_version": "1.2.0",
          "state": {
            "_model_module": "@jupyter-widgets/base",
            "_model_module_version": "1.2.0",
            "_model_name": "LayoutModel",
            "_view_count": null,
            "_view_module": "@jupyter-widgets/base",
            "_view_module_version": "1.2.0",
            "_view_name": "LayoutView",
            "align_content": null,
            "align_items": null,
            "align_self": null,
            "border": null,
            "bottom": null,
            "display": null,
            "flex": null,
            "flex_flow": null,
            "grid_area": null,
            "grid_auto_columns": null,
            "grid_auto_flow": null,
            "grid_auto_rows": null,
            "grid_column": null,
            "grid_gap": null,
            "grid_row": null,
            "grid_template_areas": null,
            "grid_template_columns": null,
            "grid_template_rows": null,
            "height": null,
            "justify_content": null,
            "justify_items": null,
            "left": null,
            "margin": null,
            "max_height": null,
            "max_width": null,
            "min_height": null,
            "min_width": null,
            "object_fit": null,
            "object_position": null,
            "order": null,
            "overflow": null,
            "overflow_x": null,
            "overflow_y": null,
            "padding": null,
            "right": null,
            "top": null,
            "visibility": null,
            "width": null
          }
        },
        "9fdc587b76134e608681fa0024025325": {
          "model_module": "@jupyter-widgets/controls",
          "model_name": "ProgressStyleModel",
          "model_module_version": "1.5.0",
          "state": {
            "_model_module": "@jupyter-widgets/controls",
            "_model_module_version": "1.5.0",
            "_model_name": "ProgressStyleModel",
            "_view_count": null,
            "_view_module": "@jupyter-widgets/base",
            "_view_module_version": "1.2.0",
            "_view_name": "StyleView",
            "bar_color": null,
            "description_width": ""
          }
        },
        "668482343e964d9c9b347e5dd60ca056": {
          "model_module": "@jupyter-widgets/base",
          "model_name": "LayoutModel",
          "model_module_version": "1.2.0",
          "state": {
            "_model_module": "@jupyter-widgets/base",
            "_model_module_version": "1.2.0",
            "_model_name": "LayoutModel",
            "_view_count": null,
            "_view_module": "@jupyter-widgets/base",
            "_view_module_version": "1.2.0",
            "_view_name": "LayoutView",
            "align_content": null,
            "align_items": null,
            "align_self": null,
            "border": null,
            "bottom": null,
            "display": null,
            "flex": null,
            "flex_flow": null,
            "grid_area": null,
            "grid_auto_columns": null,
            "grid_auto_flow": null,
            "grid_auto_rows": null,
            "grid_column": null,
            "grid_gap": null,
            "grid_row": null,
            "grid_template_areas": null,
            "grid_template_columns": null,
            "grid_template_rows": null,
            "height": null,
            "justify_content": null,
            "justify_items": null,
            "left": null,
            "margin": null,
            "max_height": null,
            "max_width": null,
            "min_height": null,
            "min_width": null,
            "object_fit": null,
            "object_position": null,
            "order": null,
            "overflow": null,
            "overflow_x": null,
            "overflow_y": null,
            "padding": null,
            "right": null,
            "top": null,
            "visibility": null,
            "width": null
          }
        },
        "79528f9583c44194bcd96c2d1be5f4d5": {
          "model_module": "@jupyter-widgets/controls",
          "model_name": "DescriptionStyleModel",
          "model_module_version": "1.5.0",
          "state": {
            "_model_module": "@jupyter-widgets/controls",
            "_model_module_version": "1.5.0",
            "_model_name": "DescriptionStyleModel",
            "_view_count": null,
            "_view_module": "@jupyter-widgets/base",
            "_view_module_version": "1.2.0",
            "_view_name": "StyleView",
            "description_width": ""
          }
        }
      }
    }
  },
  "nbformat": 4,
  "nbformat_minor": 0
}