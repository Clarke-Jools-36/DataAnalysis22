{
  "cells": [
    {
      "cell_type": "markdown",
      "metadata": {
        "id": "FhxVwBgDb5br"
      },
      "source": [
        "# To be completed at the Live Session and in your own time.\n",
        "\n",
        "These set of examples we will help you get familiar with estimating probabilities and using Bayes Theorem within a Jupyter notebook.  The questions coloured green are important practice for CA.\n",
        "\n",
        "Before attempting these examples, please ensure you have read through [Chapter 4 Jupyter Notebook](https://github.com/haleygomez/Data-Analysis-2021/blob/master/blended_exercises/Chapter4/Chapter4.ipynb) and have completed the Learning Central **Chapter 4 quiz**. \n",
        "\n",
        "These are good practice for CA 1 Question 5."
      ]
    },
    {
      "cell_type": "markdown",
      "metadata": {
        "id": "wMh47xK_b5bv"
      },
      "source": [
        "***"
      ]
    },
    {
      "cell_type": "code",
      "source": [
        "import numpy as np\n",
        "import matplotlib.pyplot as plt\n",
        "\n",
        "from scipy import stats\n"
      ],
      "metadata": {
        "id": "DbDGH3GtfY1L"
      },
      "execution_count": 37,
      "outputs": []
    },
    {
      "cell_type": "markdown",
      "metadata": {
        "id": "mucgg3i5b5bw"
      },
      "source": [
        "# Errors"
      ]
    },
    {
      "cell_type": "markdown",
      "metadata": {
        "id": "8Q7p2ezib5bw"
      },
      "source": [
        "## Question "
      ]
    },
    {
      "cell_type": "markdown",
      "metadata": {
        "id": "VtSfzrqbb5bx"
      },
      "source": [
        "Three students measure the same resistance several times, with final measurements (in Ohms):\n",
        "\n",
        "Student 1: $R = 11 \\pm 1$\n",
        "Student 2: $R = 12 \\pm 1$\n",
        "Student 3: $R = 10 \\pm 3$.\n",
        "\n",
        "Given these three results what do we write down as the best estimate for the resistance $R$? Tip: you will need to use weighted errors."
      ]
    },
    {
      "cell_type": "markdown",
      "metadata": {
        "id": "b5d2BfWVb5bx"
      },
      "source": [
        "### Answer"
      ]
    },
    {
      "cell_type": "code",
      "source": [
        "data = np.array([[11,12,10], [1,1,3]])\n",
        "\n",
        "print(f\"unweighted mean = {np.mean(data[0]):.2f} ± {np.mean(data[1]):.2f}\")\n",
        "\n",
        "print(f\"weighted mean = {np.average(data[0], weights=data[1]):.2f} ± {np.sqrt(np.cov(data[0], aweights=data[1])):.2f}\")\n",
        "\n"
      ],
      "metadata": {
        "colab": {
          "base_uri": "https://localhost:8080/"
        },
        "id": "ZPCOlQTBcE9v",
        "outputId": "8acb084d-e95f-4b50-d7a6-9a7cbc04740c"
      },
      "execution_count": 20,
      "outputs": [
        {
          "output_type": "stream",
          "name": "stdout",
          "text": [
            "unweighted mean = 11.00 ± 1.67\n",
            "weighted mean = 10.60 ± 1.07\n"
          ]
        }
      ]
    },
    {
      "cell_type": "markdown",
      "metadata": {
        "id": "iO7a--Asb5by"
      },
      "source": [
        "***"
      ]
    },
    {
      "cell_type": "markdown",
      "metadata": {
        "id": "xiHRvA55b5bz"
      },
      "source": [
        "# Correlation"
      ]
    },
    {
      "cell_type": "markdown",
      "metadata": {
        "id": "3Afr531Bb5b0"
      },
      "source": [
        "## <font color=#30a64d>Question </font>"
      ]
    },
    {
      "cell_type": "markdown",
      "metadata": {
        "id": "sJHI5NFxb5b0"
      },
      "source": [
        "The datafile [worldpopulation.txt](https://github.com/haleygomez/Data-Analysis-2021/raw/master/blended_exercises/Chapter4/worldpopulation.txt) contains the world population size measured since 1960. Plot the data (you will need to upload the datafile to your Google Colab). <br><br>\n",
        "\n",
        "Measure the correlation coefficient using the in built Python package for the Pearson $r$s statistic. <br><br>\n",
        "\n",
        "Measure it again but this time creating the functions to calculate $r$ from scratch.  "
      ]
    },
    {
      "cell_type": "markdown",
      "metadata": {
        "id": "f6oprZ8kb5b0"
      },
      "source": [
        "### Answer"
      ]
    },
    {
      "cell_type": "code",
      "source": [
        "!wget https://raw.githubusercontent.com/haleygomez/Data-Analysis-2021/master/blended_exercises/Chapter4/worldpopulation.txt"
      ],
      "metadata": {
        "colab": {
          "base_uri": "https://localhost:8080/"
        },
        "id": "T2HI8PXskpq0",
        "outputId": "18548292-4f2e-4512-935a-e536eddba2a3"
      },
      "execution_count": 21,
      "outputs": [
        {
          "output_type": "stream",
          "name": "stdout",
          "text": [
            "--2022-10-24 10:38:52--  https://raw.githubusercontent.com/haleygomez/Data-Analysis-2021/master/blended_exercises/Chapter4/worldpopulation.txt\n",
            "Resolving raw.githubusercontent.com (raw.githubusercontent.com)... 185.199.108.133, 185.199.109.133, 185.199.110.133, ...\n",
            "Connecting to raw.githubusercontent.com (raw.githubusercontent.com)|185.199.108.133|:443... connected.\n",
            "HTTP request sent, awaiting response... 200 OK\n",
            "Length: 2950 (2.9K) [text/plain]\n",
            "Saving to: ‘worldpopulation.txt’\n",
            "\n",
            "\rworldpopulation.txt   0%[                    ]       0  --.-KB/s               \rworldpopulation.txt 100%[===================>]   2.88K  --.-KB/s    in 0s      \n",
            "\n",
            "2022-10-24 10:38:52 (40.2 MB/s) - ‘worldpopulation.txt’ saved [2950/2950]\n",
            "\n"
          ]
        }
      ]
    },
    {
      "cell_type": "code",
      "source": [
        "population = np.loadtxt(\"/content/worldpopulation.txt\")\n",
        "\n",
        "plt.plot(*population, \"k--\") #the * operator splits px in x[0], x[1]\n",
        "plt.xlabel(\"Date\")\n",
        "plt.ylabel(\"Population\")"
      ],
      "metadata": {
        "colab": {
          "base_uri": "https://localhost:8080/",
          "height": 308
        },
        "id": "vpj6hJkLkvj4",
        "outputId": "ec5bfece-d2cb-4163-a1c4-fbd95ab78718"
      },
      "execution_count": 34,
      "outputs": [
        {
          "output_type": "execute_result",
          "data": {
            "text/plain": [
              "Text(0, 0.5, 'Population')"
            ]
          },
          "metadata": {},
          "execution_count": 34
        },
        {
          "output_type": "display_data",
          "data": {
            "text/plain": [
              "<Figure size 432x288 with 1 Axes>"
            ],
            "image/png": "[encoded data removed]"
          },
          "metadata": {
            "needs_background": "light"
          }
        }
      ]
    },
    {
      "cell_type": "code",
      "source": [
        "corr, _ = stats.pearsonr(*population) \n",
        "print(f\"Pearsons correlation = {corr:.4f}\")"
      ],
      "metadata": {
        "colab": {
          "base_uri": "https://localhost:8080/"
        },
        "id": "zwTKRL7el11M",
        "outputId": "f6a7bb6b-ed3c-4b07-f1cf-d95d2406e157"
      },
      "execution_count": 39,
      "outputs": [
        {
          "output_type": "stream",
          "name": "stdout",
          "text": [
            "Pearsons correlation = 0.9996\n"
          ]
        }
      ]
    },
    {
      "cell_type": "code",
      "source": [
        "def pearsonr_homebrew(x,y):\n",
        "  o_xy = np.sum((x-np.mean(x))*(y-np.mean(y)))\n",
        "  o_x = np.sum((x-np.mean(x))**2)\n",
        "  o_y = np.sum((y-np.mean(y))**2)\n",
        "\n",
        "  return o_xy/np.sqrt(o_x * o_y)\n",
        "\n",
        "\n",
        "corr = pearsonr_homebrew(*population)\n",
        "print(f\"Pearsons correlation = {corr:.4f}\")"
      ],
      "metadata": {
        "colab": {
          "base_uri": "https://localhost:8080/"
        },
        "id": "VPe27yJYm3oL",
        "outputId": "453f09f1-b396-4773-e67c-e01ab6ae382d"
      },
      "execution_count": 41,
      "outputs": [
        {
          "output_type": "stream",
          "name": "stdout",
          "text": [
            "Pearsons correlation = 0.9996\n"
          ]
        }
      ]
    },
    {
      "cell_type": "markdown",
      "metadata": {
        "id": "X2T6txq_b5b1"
      },
      "source": [
        "***"
      ]
    },
    {
      "cell_type": "markdown",
      "metadata": {
        "id": "q5Og-8ifb5b1"
      },
      "source": [
        "# Hypothesis Testing"
      ]
    },
    {
      "cell_type": "markdown",
      "metadata": {
        "id": "XycoKBd_b5b1"
      },
      "source": [
        "## <font color=#30a64d>Question</font>"
      ]
    },
    {
      "cell_type": "markdown",
      "metadata": {
        "id": "Fj1xejayb5b1"
      },
      "source": [
        "A company releases a new ski wax that it claims (naturally) is superior to its rivals, and greatly reduces the friction between skis and snow. A skiing magazine decides to test the claim by performing an experiment. They take 10 pairs of skis, and treat one ski from each pair -- the left one -- with the new wax, and the other (the right) ski with the wax from a competing brand. Each pair of skis are then released from the top of a ramp in turn, and they record which of the two skis reach the bottom of the ramp first.    The team find that the new skis win 8 of the 10 races.  Is their claim correct?"
      ]
    },
    {
      "cell_type": "markdown",
      "metadata": {
        "id": "IAXdaUdxb5b2"
      },
      "source": [
        "### Answer"
      ]
    },
    {
      "cell_type": "markdown",
      "source": [
        "$H_0$ in this case is that the new ski wax is no more likely to win than the old ski wax, therefore $P = 0.5$\n",
        "\n",
        "The number of trials $N = 10$, so we use the binomial to calculate the probablitiy of getting 8 successes with a probability of 0.5\n",
        "\n",
        "We will take a significance level of 5%\n"
      ],
      "metadata": {
        "id": "fdYvKtX_oywH"
      }
    },
    {
      "cell_type": "code",
      "source": [
        "r = 8\n",
        "n = 10\n",
        "p = 0.5\n",
        "stats.binom.pmf(r, n, p)"
      ],
      "metadata": {
        "id": "zdW2jtIZojVA",
        "outputId": "c46bf027-cdb3-4542-8ee1-85bdb00c6039",
        "colab": {
          "base_uri": "https://localhost:8080/"
        }
      },
      "execution_count": 42,
      "outputs": [
        {
          "output_type": "execute_result",
          "data": {
            "text/plain": [
              "0.04394531250000004"
            ]
          },
          "metadata": {},
          "execution_count": 42
        }
      ]
    },
    {
      "cell_type": "markdown",
      "metadata": {
        "id": "d3CpoA5rb5b2"
      },
      "source": [
        "***"
      ]
    }
  ],
  "metadata": {
    "kernelspec": {
      "display_name": "Python 3",
      "language": "python",
      "name": "python3"
    },
    "language_info": {
      "codemirror_mode": {
        "name": "ipython",
        "version": 3
      },
      "file_extension": ".py",
      "mimetype": "text/x-python",
      "name": "python",
      "nbconvert_exporter": "python",
      "pygments_lexer": "ipython3",
      "version": "3.7.4"
    },
    "colab": {
      "provenance": []
    }
  },
  "nbformat": 4,
  "nbformat_minor": 0
}